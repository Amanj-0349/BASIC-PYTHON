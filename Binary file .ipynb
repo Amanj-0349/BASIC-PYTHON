{
 "cells": [
  {
   "cell_type": "markdown",
   "id": "ef5c5930",
   "metadata": {},
   "source": [
    "# BINARY FILE "
   ]
  },
  {
   "cell_type": "markdown",
   "id": "e378f18c",
   "metadata": {},
   "source": [
    "# exception handling "
   ]
  },
  {
   "cell_type": "code",
   "execution_count": 4,
   "id": "278a0c7d",
   "metadata": {},
   "outputs": [
    {
     "ename": "ZeroDivisionError",
     "evalue": "division by zero",
     "output_type": "error",
     "traceback": [
      "\u001b[1;31m---------------------------------------------------------------------------\u001b[0m",
      "\u001b[1;31mZeroDivisionError\u001b[0m                         Traceback (most recent call last)",
      "Cell \u001b[1;32mIn[4], line 3\u001b[0m\n\u001b[0;32m      1\u001b[0m a\u001b[38;5;241m=\u001b[39m\u001b[38;5;241m10\u001b[39m\n\u001b[0;32m      2\u001b[0m b\u001b[38;5;241m=\u001b[39m\u001b[38;5;241m0\u001b[39m\n\u001b[1;32m----> 3\u001b[0m a\u001b[38;5;241m/\u001b[39mb\n",
      "\u001b[1;31mZeroDivisionError\u001b[0m: division by zero"
     ]
    }
   ],
   "source": [
    "a=10\n",
    "b=0\n",
    "a/b"
   ]
  },
  {
   "cell_type": "markdown",
   "id": "79b65a07",
   "metadata": {},
   "source": [
    "1. read = load()\n",
    "2. write = dump()\n",
    "3. modes - rb,wb \n",
    "4. .dat "
   ]
  },
  {
   "cell_type": "code",
   "execution_count": 8,
   "id": "ef940bad",
   "metadata": {},
   "outputs": [
    {
     "name": "stdout",
     "output_type": "stream",
     "text": [
      "enter the book no : 104\n",
      "enter the name of book : Archer\n",
      "enter the Author of the book :Aman jha\n",
      "enter the price : 900\n"
     ]
    }
   ],
   "source": [
    "import pickle \n",
    "def createfile():\n",
    "    f=open(\"book.dat\",\"ab\")\n",
    "    bookno = int(input(\"enter the book no : \"))\n",
    "    book_name = input(\"enter the name of book : \")\n",
    "    author = input(\"enter the Author of the book :\")\n",
    "    price = float(input(\"enter the price : \"))\n",
    "    rec = [bookno,book_name,author,price]\n",
    "    pickle.dump(rec,f)\n",
    "    f.close()\n",
    "\n",
    "# calling the function \n",
    "createfile()"
   ]
  },
  {
   "cell_type": "code",
   "execution_count": 13,
   "id": "c4b7eba5",
   "metadata": {},
   "outputs": [
    {
     "name": "stdout",
     "output_type": "stream",
     "text": [
      "Total no of book is : 2\n"
     ]
    }
   ],
   "source": [
    "# how to read the binary file ?\n",
    "import pickle \n",
    "def countrec(author):\n",
    "    f=open(\"book.dat\",\"rb\")\n",
    "    c=0\n",
    "    while True:\n",
    "        try:\n",
    "            data = pickle.load(f)\n",
    "            if author == data[2]:\n",
    "                c+=1\n",
    "        \n",
    "        except EOFError:\n",
    "            f.close()\n",
    "            return c\n",
    "\n",
    "n=countrec(\"Aman jha\")\n",
    "print(\"Total no of book is :\", n)"
   ]
  }
 ],
 "metadata": {
  "kernelspec": {
   "display_name": "Python 3 (ipykernel)",
   "language": "python",
   "name": "python3"
  },
  "language_info": {
   "codemirror_mode": {
    "name": "ipython",
    "version": 3
   },
   "file_extension": ".py",
   "mimetype": "text/x-python",
   "name": "python",
   "nbconvert_exporter": "python",
   "pygments_lexer": "ipython3",
   "version": "3.11.5"
  }
 },
 "nbformat": 4,
 "nbformat_minor": 5
}
