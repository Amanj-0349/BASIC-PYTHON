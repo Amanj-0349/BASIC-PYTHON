{
 "cells": [
  {
   "cell_type": "markdown",
   "id": "cee86675",
   "metadata": {},
   "source": [
    "### TO USE SQL IN PYTHON U HAVE TO IMPORT mysql.connector "
   ]
  },
  {
   "cell_type": "code",
   "execution_count": 1,
   "id": "3ac9fd3f",
   "metadata": {},
   "outputs": [],
   "source": [
    "import mysql.connector as sql"
   ]
  },
  {
   "cell_type": "code",
   "execution_count": 2,
   "id": "fe42fc58",
   "metadata": {},
   "outputs": [],
   "source": [
    "# we have to build the connection \n",
    "import mysql.connector as sql\n",
    "db = sql.connect(host='localhost',user='root',password='aman jha',auth_plugin='mysql_native_password')"
   ]
  },
  {
   "cell_type": "code",
   "execution_count": 3,
   "id": "8710b8aa",
   "metadata": {},
   "outputs": [
    {
     "name": "stdout",
     "output_type": "stream",
     "text": [
      "MySQLCursor: (Nothing executed yet)\n"
     ]
    }
   ],
   "source": [
    "# we have to create the cursor \n",
    "\n",
    "import mysql.connector as sql\n",
    "db = sql.connect(host='localhost',user='root',password='aman jha',auth_plugin='mysql_native_password')\n",
    "cur = db.cursor()\n",
    "print(cur)"
   ]
  },
  {
   "cell_type": "code",
   "execution_count": 5,
   "id": "39416894",
   "metadata": {},
   "outputs": [],
   "source": [
    "# creating the database in python\n",
    "\n",
    "import mysql.connector as sql\n",
    "db = sql.connect(host='localhost',user='root',password='aman jha',auth_plugin='mysql_native_password')\n",
    "cur = db.cursor()\n",
    "cur.execute('create database mysql_connectivity')\n",
    "# i have to commit the database\n",
    "db.commit()\n",
    "db.close()"
   ]
  },
  {
   "cell_type": "markdown",
   "id": "2a4164a5",
   "metadata": {},
   "source": [
    "### why do we use commit ?\n",
    "- we use commit for permanent changes in the database"
   ]
  },
  {
   "cell_type": "code",
   "execution_count": null,
   "id": "55e8225d",
   "metadata": {},
   "outputs": [],
   "source": [
    "# showing the database in python\n",
    "\n",
    "import mysql.connector as sql\n",
    "db = sql.connect(host='localhost',user='root',password='aman jha',auth_plugin='mysql_native_password')\n",
    "cur = db.cursor()\n",
    "cur.execute('show databases')\n",
    "data=cur.fetchall()\n",
    "for i in data:\n",
    "    print(i)\n",
    "db.close()"
   ]
  },
  {
   "cell_type": "code",
   "execution_count": null,
   "id": "eae43cf2",
   "metadata": {},
   "outputs": [],
   "source": [
    "# creating the sql relation with the help of python \n",
    "\n",
    "import mysql.connector as sql\n",
    "db = sql.connect(host='localhost',user='root',password='aman jha',database='sql_connectivity',auth_plugin='mysql_native_password')\n",
    "cur = db.cursor()\n",
    "query = '''create table student\n",
    "        (name varchar(256) not null,\n",
    "        roll_no int primary key,\n",
    "        grade char not null)'''\n",
    "cur.execute(query)\n",
    "db.commit()\n",
    "db.close()"
   ]
  },
  {
   "cell_type": "code",
   "execution_count": null,
   "id": "28148f80",
   "metadata": {},
   "outputs": [],
   "source": [
    "# inserting the data into the relation \n",
    "\n",
    "import mysql.connector as sql\n",
    "db = sql.connect(host='localhost',user='root',password='aman jha',database='sql_connectivity',auth_plugin='mysql_native_password')\n",
    "cur = db.cursor()\n",
    "query = \"insert into student values('aman',1,'A'),('richa',2,'B'),('pinkiya',3,'c')\"\n",
    "cur.execute(query)\n",
    "db.commit()\n",
    "db.close()"
   ]
  },
  {
   "cell_type": "code",
   "execution_count": 7,
   "id": "b9d08e86",
   "metadata": {},
   "outputs": [
    {
     "name": "stdout",
     "output_type": "stream",
     "text": [
      "('aman', 1, 'A', None)\n",
      "('richa', 2, 'B', None)\n",
      "('pinkiya', 3, 'c', None)\n"
     ]
    }
   ],
   "source": [
    "# showing all the data in python \n",
    "import mysql.connector as sql\n",
    "db = sql.connect(host='localhost',user='root',password='aman jha',database='sql_connectivity',auth_plugin='mysql_native_password')\n",
    "cur = db.cursor()\n",
    "query ='select * from student'\n",
    "cur.execute(query)\n",
    "data=cur.fetchall()\n",
    "for i in data:\n",
    "    print(i)\n",
    "db.close()"
   ]
  },
  {
   "cell_type": "code",
   "execution_count": null,
   "id": "7214ebec",
   "metadata": {},
   "outputs": [],
   "source": [
    "import mysql.connector as sql\n",
    "db = sql.connect(host='localhost',user='root',password='aman jha',database='sql_connectivity',auth_plugin='mysql_native_password')\n",
    "cur = db.cursor()\n",
    "query ='select * from student'\n",
    "cur.execute(query)\n",
    "data=cur.fetchone()\n",
    "for i in data:\n",
    "    print(i , end = '\\t')\n",
    "db.close()"
   ]
  },
  {
   "cell_type": "code",
   "execution_count": null,
   "id": "259261fe",
   "metadata": {},
   "outputs": [],
   "source": [
    "import mysql.connector as sql\n",
    "db = sql.connect(host='localhost',user='root',password='aman jha',database='sql_connectivity',auth_plugin='mysql_native_password')\n",
    "cur = db.cursor()\n",
    "query ='select * from student'\n",
    "cur.execute(query)\n",
    "data=cur.fetchmany(2)\n",
    "for i in data:\n",
    "    print(i)\n",
    "db.close()"
   ]
  },
  {
   "cell_type": "markdown",
   "id": "5fe4e883",
   "metadata": {},
   "source": [
    "## Add a new column marks to the relation ' student ' ?"
   ]
  },
  {
   "cell_type": "code",
   "execution_count": null,
   "id": "01e3dc6b",
   "metadata": {},
   "outputs": [],
   "source": [
    "import mysql.connector as sql\n",
    "db = sql.connect(host='localhost',user='root',password='aman jha',database='sql_connectivity',auth_plugin='mysql_native_password')\n",
    "cur = db.cursor()\n",
    "query = \"alter table student add column marks decimal(10,2)\"\n",
    "cur.execute(query)\n",
    "db.commit()\n",
    "db.close()"
   ]
  },
  {
   "cell_type": "markdown",
   "id": "f28df256",
   "metadata": {},
   "source": [
    "# write a python program to delete the record of student whose rollno is 2 from student structure are -\n",
    "#### name rollno grade"
   ]
  },
  {
   "cell_type": "code",
   "execution_count": 10,
   "id": "067a9023",
   "metadata": {},
   "outputs": [],
   "source": [
    "import mysql.connector as sql\n",
    "db = sql.connect(host='localhost',user='root',password='aman jha',database='sql_connectivity',auth_plugin='mysql_native_password')\n",
    "cur = db.cursor()\n",
    "query = \"delete from student where roll_no = 2\"\n",
    "cur.execute(query)\n",
    "db.commit()\n",
    "db.close()"
   ]
  },
  {
   "cell_type": "code",
   "execution_count": 6,
   "id": "92d22746",
   "metadata": {},
   "outputs": [
    {
     "name": "stdout",
     "output_type": "stream",
     "text": [
      "('name', b'varchar(256)', 'NO', bytearray(b''), None, '')\n",
      "('roll_no', b'int', 'NO', bytearray(b'PRI'), None, '')\n",
      "('grade', b'char(1)', 'NO', bytearray(b''), None, '')\n",
      "('marks', b'decimal(10,2)', 'YES', bytearray(b''), None, '')\n"
     ]
    }
   ],
   "source": [
    "# showing all the data in python \n",
    "import mysql.connector as sql\n",
    "db = sql.connect(host='localhost',user='root',password='aman jha',database='sql_connectivity',auth_plugin='mysql_native_password')\n",
    "cur = db.cursor()\n",
    "query ='desc student'\n",
    "cur.execute(query)\n",
    "data=cur.fetchall()\n",
    "for i in data:\n",
    "    print(i)\n",
    "db.close()"
   ]
  },
  {
   "cell_type": "code",
   "execution_count": 11,
   "id": "84964dee",
   "metadata": {},
   "outputs": [
    {
     "name": "stdout",
     "output_type": "stream",
     "text": [
      "('aman', 1, 'A', None)\n",
      "('pinkiya', 3, 'c', None)\n"
     ]
    }
   ],
   "source": [
    "# showing all the data in python \n",
    "import mysql.connector as sql\n",
    "db = sql.connect(host='localhost',user='root',password='aman jha',database='sql_connectivity',auth_plugin='mysql_native_password')\n",
    "cur = db.cursor()\n",
    "query ='select * from student'\n",
    "cur.execute(query)\n",
    "data=cur.fetchall()\n",
    "for i in data:\n",
    "    print(i)\n",
    "db.close()"
   ]
  }
 ],
 "metadata": {
  "kernelspec": {
   "display_name": "Python 3 (ipykernel)",
   "language": "python",
   "name": "python3"
  },
  "language_info": {
   "codemirror_mode": {
    "name": "ipython",
    "version": 3
   },
   "file_extension": ".py",
   "mimetype": "text/x-python",
   "name": "python",
   "nbconvert_exporter": "python",
   "pygments_lexer": "ipython3",
   "version": "3.11.5"
  }
 },
 "nbformat": 4,
 "nbformat_minor": 5
}
