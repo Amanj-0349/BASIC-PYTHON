{
 "cells": [
  {
   "cell_type": "markdown",
   "id": "769bf1a7",
   "metadata": {},
   "source": [
    "\n",
    "# OUTPUT QUESTIONS"
   ]
  },
  {
   "cell_type": "markdown",
   "id": "b26fa3e0",
   "metadata": {},
   "source": [
    "1. u have to understand the flow of execution\n",
    "2. u have to do dry run with pencil \n",
    "3. whenever u see something tricky make it as imp ."
   ]
  },
  {
   "cell_type": "code",
   "execution_count": 1,
   "id": "3e06c702",
   "metadata": {},
   "outputs": [
    {
     "name": "stdout",
     "output_type": "stream",
     "text": [
      "1 : 800\n",
      "2 : 6400\n",
      "3 : 11600\n",
      "16600\n"
     ]
    }
   ],
   "source": [
    "L1 = [500, 800, 600, 200, 900]\n",
    "START = 1\n",
    "SUM = 0\n",
    "\n",
    "for C in range(START, 4):  # (1,4) - 1,2,3 \n",
    "    SUM = SUM + L1[C]\n",
    "    print(C, \":\", SUM)\n",
    "    SUM = SUM + L1[0] * 10\n",
    "\n",
    "print(SUM)"
   ]
  },
  {
   "cell_type": "markdown",
   "id": "72842b80",
   "metadata": {},
   "source": [
    "1. for c= 1\n",
    " SUM = 0 + 800\n",
    " print(1, \":\", 800)\n",
    " SUM = 800 + 500 * 10 = 800+5000=5800\n",
    "\n",
    "2. for c= 2\n",
    " sum = 5800+600 = 6400\n",
    " print(2, \":\",6400)\n",
    " sum = 6400+5000 = 11400    "
   ]
  },
  {
   "cell_type": "code",
   "execution_count": 2,
   "id": "9c79ceb4",
   "metadata": {},
   "outputs": [
    {
     "name": "stdout",
     "output_type": "stream",
     "text": [
      "Year .0. at All the best\n"
     ]
    }
   ],
   "source": [
    "a = \"Year 2022 at All the best\"\n",
    "a = a.split('2')\n",
    "b = a[0] + \".\" + a[1] + \".\" + a[3]\n",
    "print(b)"
   ]
  },
  {
   "cell_type": "code",
   "execution_count": 3,
   "id": "c250024c",
   "metadata": {},
   "outputs": [
    {
     "name": "stdout",
     "output_type": "stream",
     "text": [
      "dict_items([('name', 'Aman'), ('age', 27), ('address', 'Delhi')])\n"
     ]
    }
   ],
   "source": [
    "my_dict = {\"name\": \"Aman\", \"age\": 26}\n",
    "my_dict['age'] = 27\n",
    "my_dict['address'] = \"Delhi\"\n",
    "print(my_dict.items())"
   ]
  },
  {
   "cell_type": "code",
   "execution_count": 4,
   "id": "04012e4a",
   "metadata": {},
   "outputs": [
    {
     "name": "stdout",
     "output_type": "stream",
     "text": [
      "Jayes\n",
      "Finished!\n",
      "Ramya\n",
      "Finished!\n",
      "Taruna\n",
      "Got it!\n"
     ]
    }
   ],
   "source": [
    "for Name in ['Jayes', 'Ramya', 'Taruna', 'Suraj']:\n",
    "    print(Name)\n",
    "    if Name[0] == 'T':\n",
    "        break\n",
    "    else:\n",
    "        print('Finished!')\n",
    "print('Got it!')"
   ]
  },
  {
   "cell_type": "code",
   "execution_count": null,
   "id": "512f5062",
   "metadata": {},
   "outputs": [],
   "source": [
    "def Diff(N1, N2): # n1= 32 , n2= 54\n",
    "    if N1 > N2: # 32>54\n",
    "        return N1 - N2\n",
    "    else:\n",
    "        return N2 - N1 # 54-32 = 22\n",
    "\n",
    "NUM = [10, 23, 14, 54, 32]\n",
    "for CNT in range(4, 0, -1):\n",
    "    A = NUM[CNT]\n",
    "    B = NUM[CNT - 1]\n",
    "\n",
    "    print(Diff(A, B), '#', end=' ')\n"
   ]
  },
  {
   "cell_type": "markdown",
   "id": "2343af54",
   "metadata": {},
   "source": [
    "# cnt = 4 3 2 1\n",
    "cnt= 4\n",
    "a=num[4] = 32\n",
    "b=num[4-1=3]= 54\n",
    "cnt =3\n",
    "a=num[3] = 54\n",
    "b=num[3-1=2]= 14\n"
   ]
  },
  {
   "cell_type": "code",
   "execution_count": 9,
   "id": "633b1cee",
   "metadata": {},
   "outputs": [
    {
     "name": "stdout",
     "output_type": "stream",
     "text": [
      "(22, 44, 66)\n"
     ]
    }
   ],
   "source": [
    "tuple1 = (11, 22, 33, 44, 55, 66)\n",
    "list1 = list(tuple1)\n",
    "new_list = [] # empty list \n",
    "for i in list1:\n",
    "    if i % 2 == 0: # 22%2==0\n",
    "        new_list.append(i)\n",
    "\n",
    "new_tuple = tuple(new_list)\n",
    "print(new_tuple)"
   ]
  },
  {
   "cell_type": "markdown",
   "id": "8dad49db",
   "metadata": {},
   "source": [
    "1. list1=[11,22,33,44,55,66]\n",
    "2. 11 does not get appended \n",
    "3. [22] bcz 22%2==0\n",
    "4. 33 does not get append \n",
    "5. [22,44] bcz 44%2==0\n",
    "6. 55 does not get append\n",
    "7. [22,44,66]\n",
    "8. new_tuple = tuple([22,44,66])\n",
    "9. new_tuple = (22,44,66)"
   ]
  },
  {
   "cell_type": "code",
   "execution_count": 10,
   "id": "4059c0a9",
   "metadata": {},
   "outputs": [
    {
     "name": "stdout",
     "output_type": "stream",
     "text": [
      "105#6#"
     ]
    }
   ],
   "source": [
    "p = 5 # p is global \n",
    "\n",
    "def sum(q, r=2): # q=10 r= 5\n",
    "    global p # global is a keyword which is used to make any local variable into the global variable\n",
    "    p = r + q ** 2 \n",
    "    print(p, end='#')\n",
    "\n",
    "a = 10\n",
    "b = 5\n",
    "sum(a, b) # sum(10,5)\n",
    "sum(r=5, q=1)"
   ]
  },
  {
   "cell_type": "markdown",
   "id": "9049c3ac",
   "metadata": {},
   "source": [
    "1. global variable and local variable and gloabl keyword\n",
    "2. p = 5 + 10 ** 2 = 5+100=105\n",
    "3. 105#\n",
    "4. sum(r=5, q=1)\n",
    "5. p = 5 + 1 ** 2 = 5+1=6\n",
    "6. 105#6#"
   ]
  },
  {
   "cell_type": "code",
   "execution_count": 23,
   "id": "bad5e404",
   "metadata": {},
   "outputs": [
    {
     "name": "stdout",
     "output_type": "stream",
     "text": [
      "sELCcME&Cc\n"
     ]
    }
   ],
   "source": [
    "s = \"welcome2cs\"\n",
    "n = len(s)\n",
    "m = \"\" \n",
    "\n",
    "for i in range(0, n): # (0,10)= 0 1 2 3 4 5 6 7 8 9 \n",
    "    if s[i] >= 'a' and s[i] <= 'm':\n",
    "        m = m + s[i].upper()\n",
    "    elif s[i] >= 'n' and s[i] <= 'z':\n",
    "        m = m + s[i-1]\n",
    "    elif s[i].isupper():\n",
    "        m = m + s[i].lower()\n",
    "    else:\n",
    "        m = m +'&'\n",
    "\n",
    "print(m)"
   ]
  },
  {
   "cell_type": "markdown",
   "id": "5f47a495",
   "metadata": {},
   "source": [
    "1. w>n and w<z\n",
    "2. m = \"\" + \"s\"=\"s\"\n",
    "3. m = \"s\"+\"E\"=\"sE\"\n",
    "\n",
    "               "
   ]
  },
  {
   "cell_type": "code",
   "execution_count": 16,
   "id": "83a0c5a9",
   "metadata": {},
   "outputs": [
    {
     "name": "stdout",
     "output_type": "stream",
     "text": [
      "0\n",
      "0\n",
      "0\n",
      "1\n",
      "0\n",
      "1\n"
     ]
    }
   ],
   "source": [
    "# and(*) or(+) not(~) - logiacl operator \n",
    "print(1 and 0)\n",
    "print(0 and 0)\n",
    "print(0 and 1)\n",
    "print(1 and 1)\n",
    "print(0 or 0)\n",
    "print(1 or 0)"
   ]
  },
  {
   "cell_type": "code",
   "execution_count": 6,
   "id": "639cff34",
   "metadata": {},
   "outputs": [
    {
     "name": "stdout",
     "output_type": "stream",
     "text": [
      "0.03557405586723361\n"
     ]
    }
   ],
   "source": [
    "import random \n",
    "x=random.random()\n",
    "print(x)\n",
    "# 0 and 1 both are excluded"
   ]
  },
  {
   "cell_type": "code",
   "execution_count": 18,
   "id": "534b6b8c",
   "metadata": {},
   "outputs": [
    {
     "name": "stdout",
     "output_type": "stream",
     "text": [
      "3\n"
     ]
    }
   ],
   "source": [
    "import random \n",
    "x=random.randint(1,5)\n",
    "print(x)\n",
    "# ending value excluded "
   ]
  },
  {
   "cell_type": "code",
   "execution_count": 192,
   "id": "2717a317",
   "metadata": {},
   "outputs": [
    {
     "name": "stdout",
     "output_type": "stream",
     "text": [
      "4\n"
     ]
    }
   ],
   "source": [
    "import random \n",
    "x=random.randrange(1,5)\n",
    "y=random.randrange(10)\n",
    "print(y)\n",
    "print(x)\n",
    "# ending value excluded"
   ]
  },
  {
   "cell_type": "code",
   "execution_count": 221,
   "id": "0a6e761e",
   "metadata": {},
   "outputs": [
    {
     "data": {
      "text/plain": [
       "'aman'"
      ]
     },
     "execution_count": 221,
     "metadata": {},
     "output_type": "execute_result"
    }
   ],
   "source": [
    "import random \n",
    "x=[\"aman\",\"sofia\",\"bhavya\",\"adiba\"]\n",
    "random.choice(x)"
   ]
  },
  {
   "cell_type": "code",
   "execution_count": 222,
   "id": "9944e529",
   "metadata": {},
   "outputs": [
    {
     "name": "stdout",
     "output_type": "stream",
     "text": [
      "5#8#5#4#"
     ]
    }
   ],
   "source": [
    "def ChangeVal(M, N):\n",
    "    for i in range(N):\n",
    "        if M[i] % 5 == 0:\n",
    "            M[i] //= 5\n",
    "        if M[i] % 3 == 0:\n",
    "            M[i] //= 3\n",
    "\n",
    "L = [25, 8, 75, 12]\n",
    "\n",
    "ChangeVal(L, 4)\n",
    "\n",
    "for i in L:\n",
    "    print(i, end=\"#\")"
   ]
  },
  {
   "cell_type": "code",
   "execution_count": 223,
   "id": "1caa3891",
   "metadata": {},
   "outputs": [
    {
     "name": "stdout",
     "output_type": "stream",
     "text": [
      "hoga\n",
      "hoga\n"
     ]
    }
   ],
   "source": [
    "if 15%5==0:\n",
    "    print(\"hoga\")\n",
    "if 15%3==0:\n",
    "    print(\"hoga\")"
   ]
  },
  {
   "cell_type": "code",
   "execution_count": null,
   "id": "a10fb404",
   "metadata": {},
   "outputs": [],
   "source": []
  }
 ],
 "metadata": {
  "kernelspec": {
   "display_name": "Python 3 (ipykernel)",
   "language": "python",
   "name": "python3"
  },
  "language_info": {
   "codemirror_mode": {
    "name": "ipython",
    "version": 3
   },
   "file_extension": ".py",
   "mimetype": "text/x-python",
   "name": "python",
   "nbconvert_exporter": "python",
   "pygments_lexer": "ipython3",
   "version": "3.11.5"
  }
 },
 "nbformat": 4,
 "nbformat_minor": 5
}
