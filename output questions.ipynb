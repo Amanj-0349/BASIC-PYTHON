{
 "cells": [
  {
   "cell_type": "markdown",
   "id": "b2662dae",
   "metadata": {},
   "source": [
    "\n",
    "# OUTPUT QUESTIONS"
   ]
  },
  {
   "cell_type": "markdown",
   "id": "b67f5683",
   "metadata": {},
   "source": [
    "1. u have to understand the flow of execution\n",
    "2. u have to do dry run with pencil \n",
    "3. whenever u see something tricky make it as imp ."
   ]
  },
  {
   "cell_type": "code",
   "execution_count": 1,
   "id": "c3398421",
   "metadata": {},
   "outputs": [
    {
     "name": "stdout",
     "output_type": "stream",
     "text": [
      "1 : 800\n",
      "2 : 6400\n",
      "3 : 11600\n",
      "16600\n"
     ]
    }
   ],
   "source": [
    "L1 = [500, 800, 600, 200, 900]\n",
    "START = 1\n",
    "SUM = 0\n",
    "\n",
    "for C in range(START, 4):  # (1,4) - 1,2,3 \n",
    "    SUM = SUM + L1[C]\n",
    "    print(C, \":\", SUM)\n",
    "    SUM = SUM + L1[0] * 10\n",
    "\n",
    "print(SUM)"
   ]
  },
  {
   "cell_type": "markdown",
   "id": "afd35a92",
   "metadata": {},
   "source": [
    "1. for c= 1\n",
    " SUM = 0 + 800\n",
    " print(1, \":\", 800)\n",
    " SUM = 800 + 500 * 10 = 800+5000=5800\n",
    "\n",
    "2. for c= 2\n",
    " sum = 5800+600 = 6400\n",
    " print(2, \":\",6400)\n",
    " sum = 6400+5000 = 11400    "
   ]
  },
  {
   "cell_type": "code",
   "execution_count": 3,
   "id": "1ebf0711",
   "metadata": {},
   "outputs": [
    {
     "name": "stdout",
     "output_type": "stream",
     "text": [
      "['Year ', '0', '', ' at All the best']\n",
      "Year .0. at All the best\n"
     ]
    }
   ],
   "source": [
    "a = \"Year 2022 at All the best\"\n",
    "a = a.split('2')\n",
    "b = a[0] + \".\" + a[1] + \".\" + a[3]\n",
    "print(b)"
   ]
  },
  {
   "cell_type": "code",
   "execution_count": 4,
   "id": "3e6c395b",
   "metadata": {},
   "outputs": [
    {
     "name": "stdout",
     "output_type": "stream",
     "text": [
      "dict_items([('name', 'Aman'), ('age', 27), ('address', 'Delhi')])\n"
     ]
    }
   ],
   "source": [
    "my_dict = {\"name\": \"Aman\", \"age\": 26}\n",
    "my_dict['age'] = 27\n",
    "my_dict['address'] = \"Delhi\"\n",
    "print(my_dict.items())"
   ]
  },
  {
   "cell_type": "code",
   "execution_count": 5,
   "id": "52ef802c",
   "metadata": {},
   "outputs": [
    {
     "name": "stdout",
     "output_type": "stream",
     "text": [
      "Jayes\n",
      "Finished!\n",
      "Ramya\n",
      "Finished!\n",
      "Taruna\n",
      "Got it!\n"
     ]
    }
   ],
   "source": [
    "for Name in ['Jayes', 'Ramya', 'Taruna', 'Suraj']:\n",
    "    print(Name)\n",
    "    if Name[0] == 'T':\n",
    "        break\n",
    "    else:\n",
    "        print('Finished!')\n",
    "print('Got it!')"
   ]
  }
 ],
 "metadata": {
  "kernelspec": {
   "display_name": "Python 3 (ipykernel)",
   "language": "python",
   "name": "python3"
  },
  "language_info": {
   "codemirror_mode": {
    "name": "ipython",
    "version": 3
   },
   "file_extension": ".py",
   "mimetype": "text/x-python",
   "name": "python",
   "nbconvert_exporter": "python",
   "pygments_lexer": "ipython3",
   "version": "3.11.5"
  }
 },
 "nbformat": 4,
 "nbformat_minor": 5
}
