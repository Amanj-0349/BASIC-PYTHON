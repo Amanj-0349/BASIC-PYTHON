{
 "cells": [
  {
   "cell_type": "markdown",
   "id": "51c14ddc",
   "metadata": {},
   "source": [
    "# binary file questions "
   ]
  },
  {
   "cell_type": "code",
   "execution_count": 2,
   "id": "6b7c71b2",
   "metadata": {},
   "outputs": [],
   "source": [
    "# count and display those who have scored more than 75 \n",
    "def countrec():\n",
    "    f=open(\"student.dat\",\"rb\")\n",
    "    count = 0\n",
    "    try:\n",
    "        while True:\n",
    "            data= pickle.load(f)\n",
    "            if data[2] > 75:\n",
    "                count+=1\n",
    "                print(data)\n",
    "                return count\n",
    "    except EOFError:\n",
    "        f.close()\n",
    "\n",
    "n=countrec()\n",
    "print(n)"
   ]
  },
  {
   "cell_type": "code",
   "execution_count": null,
   "id": "a74d92c2",
   "metadata": {},
   "outputs": [],
   "source": []
  }
 ],
 "metadata": {
  "kernelspec": {
   "display_name": "Python 3 (ipykernel)",
   "language": "python",
   "name": "python3"
  },
  "language_info": {
   "codemirror_mode": {
    "name": "ipython",
    "version": 3
   },
   "file_extension": ".py",
   "mimetype": "text/x-python",
   "name": "python",
   "nbconvert_exporter": "python",
   "pygments_lexer": "ipython3",
   "version": "3.11.5"
  }
 },
 "nbformat": 4,
 "nbformat_minor": 5
}
