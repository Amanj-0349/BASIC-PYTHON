{
 "cells": [
  {
   "cell_type": "code",
   "execution_count": 6,
   "id": "ea3ec7c0",
   "metadata": {},
   "outputs": [
    {
     "name": "stdout",
     "output_type": "stream",
     "text": [
      "kumar \n",
      "\n",
      "kuwait \n",
      "\n"
     ]
    }
   ],
   "source": [
    " # 1. i have to display those line which starts whith alphabet 'K'\n",
    "\n",
    "def display():\n",
    "    f = open(\"mynotes.txt\",'r')\n",
    "    b=f.readlines()\n",
    "    for i in b:\n",
    "        if i[0]=='k':\n",
    "            print(i)\n",
    "    f.close()\n",
    "\n",
    "display()"
   ]
  },
  {
   "cell_type": "code",
   "execution_count": 11,
   "id": "da9adafd",
   "metadata": {},
   "outputs": [
    {
     "name": "stdout",
     "output_type": "stream",
     "text": [
      "pratima\n",
      "\n",
      "potatao\n",
      "\n",
      "panorma \n",
      "\n",
      "pronunciation\n"
     ]
    }
   ],
   "source": [
    "# 8. \n",
    "def display():\n",
    "    f = open(\"dairy.txt\",'r')\n",
    "    b=f.readlines()\n",
    "    for i in b:\n",
    "        if i[0]=='p':\n",
    "            print(i)\n",
    "    f.close()\n",
    "\n",
    "display()"
   ]
  },
  {
   "cell_type": "code",
   "execution_count": 21,
   "id": "487adbf7",
   "metadata": {},
   "outputs": [
    {
     "name": "stdout",
     "output_type": "stream",
     "text": [
      "total no of times 'my' occur 5\n"
     ]
    }
   ],
   "source": [
    "# 6. you have to count how many times does 'my' occur\n",
    "\n",
    "def country():\n",
    "    f=open(\"data.txt\",\"r\")\n",
    "    b=f.readlines()\n",
    "    count=0\n",
    "    for i in b:\n",
    "        data = i.split()\n",
    "        for j in data:\n",
    "            if j == 'my':\n",
    "                count = count+1\n",
    "    print(f\"total no of times 'my' occur {count}\")\n",
    "    f.close()\n",
    "    \n",
    "country() # calling the function\n"
   ]
  },
  {
   "cell_type": "markdown",
   "id": "df7eb08b",
   "metadata": {},
   "source": [
    "#### method no - 2"
   ]
  },
  {
   "cell_type": "code",
   "execution_count": 25,
   "id": "21f25938",
   "metadata": {},
   "outputs": [
    {
     "name": "stdout",
     "output_type": "stream",
     "text": [
      "no of times 'my' occur 5\n"
     ]
    }
   ],
   "source": [
    "# 6. you have to count how many times does 'my' occur \n",
    "\n",
    "def country():\n",
    "    f=open(\"data.txt\",\"r\")\n",
    "    b=f.readlines()\n",
    "    count=0\n",
    "    for i in b:\n",
    "        data = i.split()\n",
    "        for j in data:\n",
    "            if j == 'my':\n",
    "                count = count+1\n",
    "    return count\n",
    "    f.close()\n",
    "    \n",
    "n=country() # calling the function\n",
    "print(f\"no of times 'my' occur {n}\")"
   ]
  },
  {
   "cell_type": "code",
   "execution_count": 3,
   "id": "63592213",
   "metadata": {},
   "outputs": [
    {
     "name": "stdout",
     "output_type": "stream",
     "text": [
      "no of times 'to' occur 0\n"
     ]
    }
   ],
   "source": [
    "# wap to count the total no of 'to' in the text file ? \n",
    "def count_to():\n",
    "    f=open(\"data.txt\",\"r\")\n",
    "    b=f.readlines()\n",
    "    count=0\n",
    "    for i in b:\n",
    "        data = i.split()\n",
    "        for j in data:\n",
    "            if j == 'to':\n",
    "                count = count+1\n",
    "    return count\n",
    "    f.close()\n",
    "    \n",
    "n=count_to() # calling the function\n",
    "print(f\"no of times 'to' occur {n}\")"
   ]
  },
  {
   "cell_type": "code",
   "execution_count": 5,
   "id": "764a9b37",
   "metadata": {},
   "outputs": [
    {
     "name": "stdout",
     "output_type": "stream",
     "text": [
      "aman\n",
      "aditya\n",
      "arya\n",
      "adibanaaz\n"
     ]
    }
   ],
   "source": [
    "# wap to check which word starts with letter 'a'\n",
    "def country():\n",
    "    f=open(\"data.txt\",\"r\")\n",
    "    b=f.readlines()\n",
    "    for i in b:\n",
    "        data = i.split()\n",
    "        for j in data:\n",
    "            if j[0] == 'a':\n",
    "                print(j)\n",
    "    f.close()\n",
    "    \n",
    "country()"
   ]
  },
  {
   "cell_type": "code",
   "execution_count": 9,
   "id": "cd29a298",
   "metadata": {},
   "outputs": [
    {
     "name": "stdout",
     "output_type": "stream",
     "text": [
      "Total no of vowels in the file is 985\n"
     ]
    }
   ],
   "source": [
    "# count vowels \n",
    "\n",
    "def count_vowel():\n",
    "    f=open(\"variation.txt\",\"r\")\n",
    "    b=f.read()\n",
    "    count_vowel = 0\n",
    "    for char in b:\n",
    "        if char in 'AEIOUaeiou':\n",
    "            count_vowel+=1\n",
    "    print(\"Total no of vowels in the file is\",count_vowel)\n",
    "\n",
    "count_vowel()\n",
    "            "
   ]
  },
  {
   "cell_type": "code",
   "execution_count": 8,
   "id": "d719a003",
   "metadata": {},
   "outputs": [
    {
     "name": "stdout",
     "output_type": "stream",
     "text": [
      "Total no of vowels in the file is 985\n"
     ]
    }
   ],
   "source": [
    "def count_vowel():\n",
    "    f=open(\"variation.txt\",\"r\")\n",
    "    b=f.read()\n",
    "    count_vowel = 0\n",
    "    for char in b:\n",
    "        if char == 'A' or char == 'E' or char == \"I\" or char == 'O' or char == 'U'or char == 'a'or char == 'e'or char == 'i'or char == 'o'or char == 'u':\n",
    "            count_vowel+=1\n",
    "    print(\"Total no of vowels in the file is\",count_vowel)\n",
    "\n",
    "count_vowel()"
   ]
  },
  {
   "cell_type": "code",
   "execution_count": 10,
   "id": "5f1e6e7e",
   "metadata": {},
   "outputs": [
    {
     "name": "stdout",
     "output_type": "stream",
     "text": [
      "Total no of vowels in the file is 2255\n"
     ]
    }
   ],
   "source": [
    "# for consonant \n",
    "def count_cons():\n",
    "    f=open(\"variation.txt\",\"r\")\n",
    "    b=f.read()\n",
    "    count_vowel = 0\n",
    "    for char in b:\n",
    "        if char not in 'AEIOUaeiou':\n",
    "            count_vowel+=1\n",
    "    print(\"Total no of consonant in the file is\",count_vowel)\n",
    "\n",
    "count_cons()\n",
    "            "
   ]
  },
  {
   "cell_type": "code",
   "execution_count": 21,
   "id": "93e6d559",
   "metadata": {},
   "outputs": [
    {
     "name": "stdout",
     "output_type": "stream",
     "text": [
      "Total no of capital letters in the file is 57\n"
     ]
    }
   ],
   "source": [
    "# for capital letters \n",
    "def count_capital():\n",
    "    f=open(\"variation.txt\",\"r\")\n",
    "    b=f.read()\n",
    "    count = 0\n",
    "    for char in b:\n",
    "        if char.isupper():\n",
    "            count +=1\n",
    "    print(\"Total no of capital letters in the file is\",count)\n",
    "\n",
    "count_capital()\n",
    "            "
   ]
  },
  {
   "cell_type": "code",
   "execution_count": 23,
   "id": "10b60f05",
   "metadata": {},
   "outputs": [
    {
     "name": "stdout",
     "output_type": "stream",
     "text": [
      "total no of capital letters 57\n",
      "total no of small letters 2490\n",
      "total no of digits 0\n",
      "total no of vowel 985\n"
     ]
    }
   ],
   "source": [
    "# count uppercase letter and lowercase and digits \n",
    "\n",
    "def check():\n",
    "    file = open(\"variation.txt\",\"r\")\n",
    "    b= file.read()\n",
    "    vowel=0\n",
    "    capital=0\n",
    "    small=0\n",
    "    digit=0\n",
    "    \n",
    "    for i in b:\n",
    "        if i.isupper():\n",
    "            capital+=1\n",
    "        elif i.islower():\n",
    "            small+=1\n",
    "        elif i.isdigit():\n",
    "            digit+=1\n",
    "            \n",
    "    for j in b:\n",
    "        if j in \"AEIOUaeiou\":\n",
    "            vowel+=1\n",
    "        \n",
    "    print(\"total no of capital letters\",capital)\n",
    "    print(\"total no of small letters\",small)\n",
    "    print(\"total no of digits\",digit)\n",
    "    print(\"total no of vowel\",vowel)\n",
    "    \n",
    "\n",
    "check()\n",
    "    "
   ]
  },
  {
   "cell_type": "code",
   "execution_count": 33,
   "id": "824e3438",
   "metadata": {},
   "outputs": [
    {
     "name": "stdout",
     "output_type": "stream",
     "text": [
      "One day I ran the of and the of the and my to the I the of the and the of the I a the of the the sun the the I and it was to my - my who had but the of of its I was in and my the a a of of her and a of her to me. As she she my she me me I am the of the can be to in me who and you ' I She sat on the and 'I am the of I am the and to my and at and And I and and the of my a of the was to a few and the in the of She in the of and die in an and My is by the of you see you and is it is the of the joy the and a in the and the of the awe the and the the the the I is a ' And she all You the of you the of and you the God of and him of he is of and a I to me of the and one to his own I her and in and She is and to and not to you you the are to her the of It is the of and it is the you and the you and the you - it is the of in and the of the me and her my And as she I me in the I to the no me, I her is and to and not to "
     ]
    }
   ],
   "source": [
    "# display those words whose length is less than 4\n",
    "\n",
    "def DISPLAYWORDS():\n",
    "    f=open('story.txt',\"r\")\n",
    "    b=f.readlines()\n",
    "    \n",
    "    for line in b:\n",
    "        data = line.split()\n",
    "        for word in data:\n",
    "            if len(word)<4:\n",
    "                print(word,end=\" \")\n",
    "    f.close()\n",
    "    \n",
    "DISPLAYWORDS()"
   ]
  },
  {
   "cell_type": "code",
   "execution_count": 34,
   "id": "6a7fc8bc",
   "metadata": {},
   "outputs": [],
   "source": [
    "# 11.  just to print the digit in the file \n",
    "f=open(\"variation.txt\")\n",
    "b=f.read()\n",
    "for i in  b:\n",
    "    if i.isdigit():\n",
    "        print(i)\n",
    "f.close()"
   ]
  },
  {
   "cell_type": "code",
   "execution_count": 39,
   "id": "2b227cc5",
   "metadata": {},
   "outputs": [],
   "source": [
    "# accept  - you have to take parameters\n",
    "def remove_lower(a,b):\n",
    "    f1=open(a,\"r\")\n",
    "    f2=open(b,\"w\")\n",
    "    \n",
    "    b=f1.readlines()\n",
    "    for i in b:\n",
    "        if i[0].islower():\n",
    "            f2.write(i)\n",
    "    f2.close()\n",
    "    f1.close()\n",
    "\n",
    "remove_lower(\"variation.txt\",'2.txt')"
   ]
  }
 ],
 "metadata": {
  "kernelspec": {
   "display_name": "Python 3 (ipykernel)",
   "language": "python",
   "name": "python3"
  },
  "language_info": {
   "codemirror_mode": {
    "name": "ipython",
    "version": 3
   },
   "file_extension": ".py",
   "mimetype": "text/x-python",
   "name": "python",
   "nbconvert_exporter": "python",
   "pygments_lexer": "ipython3",
   "version": "3.11.5"
  }
 },
 "nbformat": 4,
 "nbformat_minor": 5
}
