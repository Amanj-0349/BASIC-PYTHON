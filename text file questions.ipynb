{
 "cells": [
  {
   "cell_type": "code",
   "execution_count": 6,
   "id": "ea3ec7c0",
   "metadata": {},
   "outputs": [
    {
     "name": "stdout",
     "output_type": "stream",
     "text": [
      "kumar \n",
      "\n",
      "kuwait \n",
      "\n"
     ]
    }
   ],
   "source": [
    " # 1. i have to display those line which starts whith alphabet 'K'\n",
    "\n",
    "def display():\n",
    "    f = open(\"mynotes.txt\",'r')\n",
    "    b=f.readlines()\n",
    "    for i in b:\n",
    "        if i[0]=='k':\n",
    "            print(i)\n",
    "    f.close()\n",
    "\n",
    "display()"
   ]
  },
  {
   "cell_type": "code",
   "execution_count": 11,
   "id": "da9adafd",
   "metadata": {},
   "outputs": [
    {
     "name": "stdout",
     "output_type": "stream",
     "text": [
      "pratima\n",
      "\n",
      "potatao\n",
      "\n",
      "panorma \n",
      "\n",
      "pronunciation\n"
     ]
    }
   ],
   "source": [
    "# 8. \n",
    "def display():\n",
    "    f = open(\"dairy.txt\",'r')\n",
    "    b=f.readlines()\n",
    "    for i in b:\n",
    "        if i[0]=='p':\n",
    "            print(i)\n",
    "    f.close()\n",
    "\n",
    "display()"
   ]
  },
  {
   "cell_type": "code",
   "execution_count": 21,
   "id": "487adbf7",
   "metadata": {},
   "outputs": [
    {
     "name": "stdout",
     "output_type": "stream",
     "text": [
      "total no of times 'my' occur 5\n"
     ]
    }
   ],
   "source": [
    "# 6. you have to count how many times does 'my' occur\n",
    "\n",
    "def country():\n",
    "    f=open(\"data.txt\",\"r\")\n",
    "    b=f.readlines()\n",
    "    count=0\n",
    "    for i in b:\n",
    "        data = i.split()\n",
    "        for j in data:\n",
    "            if j == 'my':\n",
    "                count = count+1\n",
    "    print(f\"total no of times 'my' occur {count}\")\n",
    "    f.close()\n",
    "    \n",
    "country() # calling the function\n"
   ]
  },
  {
   "cell_type": "markdown",
   "id": "df7eb08b",
   "metadata": {},
   "source": [
    "#### method no - 2"
   ]
  },
  {
   "cell_type": "code",
   "execution_count": 25,
   "id": "21f25938",
   "metadata": {},
   "outputs": [
    {
     "name": "stdout",
     "output_type": "stream",
     "text": [
      "no of times 'my' occur 5\n"
     ]
    }
   ],
   "source": [
    "# 6. you have to count how many times does 'my' occur \n",
    "\n",
    "def country():\n",
    "    f=open(\"data.txt\",\"r\")\n",
    "    b=f.readlines()\n",
    "    count=0\n",
    "    for i in b:\n",
    "        data = i.split()\n",
    "        for j in data:\n",
    "            if j == 'my':\n",
    "                count = count+1\n",
    "    return count\n",
    "    f.close()\n",
    "    \n",
    "n=country() # calling the function\n",
    "print(f\"no of times 'my' occur {n}\")"
   ]
  }
 ],
 "metadata": {
  "kernelspec": {
   "display_name": "Python 3 (ipykernel)",
   "language": "python",
   "name": "python3"
  },
  "language_info": {
   "codemirror_mode": {
    "name": "ipython",
    "version": 3
   },
   "file_extension": ".py",
   "mimetype": "text/x-python",
   "name": "python",
   "nbconvert_exporter": "python",
   "pygments_lexer": "ipython3",
   "version": "3.11.5"
  }
 },
 "nbformat": 4,
 "nbformat_minor": 5
}
