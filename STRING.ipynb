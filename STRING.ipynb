{
 "cells": [
  {
   "cell_type": "markdown",
   "id": "e5316add",
   "metadata": {},
   "source": [
    "# STRING  "
   ]
  },
  {
   "cell_type": "code",
   "execution_count": 1,
   "id": "067c7362",
   "metadata": {},
   "outputs": [
    {
     "name": "stdout",
     "output_type": "stream",
     "text": [
      "A\n",
      "aman jha\n",
      "bhavya\n",
      "hello guys how \n",
      "are you\n",
      "😄\n"
     ]
    }
   ],
   "source": [
    "a='aman jha'\n",
    "b=\"bhavya\"\n",
    "c='''hello guys how \n",
    "are you'''\n",
    "d = '\\U0001f604'\n",
    "char = 'A'\n",
    "print(char)\n",
    "print(a)\n",
    "print(b)\n",
    "print(c)\n",
    "print(d)"
   ]
  },
  {
   "cell_type": "markdown",
   "id": "556e6322",
   "metadata": {},
   "source": [
    "# operators on string"
   ]
  },
  {
   "cell_type": "code",
   "execution_count": 2,
   "id": "47604639",
   "metadata": {},
   "outputs": [
    {
     "name": "stdout",
     "output_type": "stream",
     "text": [
      "amanjha\n"
     ]
    }
   ],
   "source": [
    "# concatenation -  adding two similar type of data\n",
    "first=\"aman\"\n",
    "last = \"jha\"\n",
    "\n",
    "print(first+last) # there is no space between the strings "
   ]
  },
  {
   "cell_type": "code",
   "execution_count": 3,
   "id": "53350f0f",
   "metadata": {},
   "outputs": [
    {
     "name": "stdout",
     "output_type": "stream",
     "text": [
      "bhavyabhavyabhavyabhavya\n"
     ]
    }
   ],
   "source": [
    "# repition - multiplication of string with int \n",
    "name = \"bhavya\"\n",
    "print(name * 4)"
   ]
  },
  {
   "cell_type": "markdown",
   "id": "6e295427",
   "metadata": {},
   "source": [
    "# iteration in strings "
   ]
  },
  {
   "cell_type": "code",
   "execution_count": 4,
   "id": "f5e581dc",
   "metadata": {},
   "outputs": [
    {
     "name": "stdout",
     "output_type": "stream",
     "text": [
      "a\n",
      "m\n",
      "a\n",
      "n\n",
      " \n",
      "j\n",
      "h\n",
      "a\n"
     ]
    }
   ],
   "source": [
    "a=\"aman jha\"\n",
    "for ind in a:\n",
    "    print(ind)"
   ]
  },
  {
   "cell_type": "code",
   "execution_count": 5,
   "id": "67cfa87c",
   "metadata": {},
   "outputs": [
    {
     "name": "stdout",
     "output_type": "stream",
     "text": [
      "aman jha"
     ]
    }
   ],
   "source": [
    "# if i want to print it horizontal \n",
    "a=\"aman jha\"\n",
    "for ind in a:\n",
    "    print(ind , end= \"\")"
   ]
  },
  {
   "cell_type": "code",
   "execution_count": 6,
   "id": "16aadd55",
   "metadata": {},
   "outputs": [
    {
     "name": "stdout",
     "output_type": "stream",
     "text": [
      "0\n",
      "1\n",
      "2\n",
      "3\n",
      "4\n",
      "5\n",
      "6\n",
      "7\n"
     ]
    }
   ],
   "source": [
    "a=\"aman jha\"\n",
    "for ind in range(len(a)): \n",
    "    print(ind)"
   ]
  },
  {
   "cell_type": "code",
   "execution_count": 7,
   "id": "77f5d3e2",
   "metadata": {},
   "outputs": [
    {
     "name": "stdout",
     "output_type": "stream",
     "text": [
      "aman jha"
     ]
    }
   ],
   "source": [
    "a=\"aman jha\"\n",
    "for ind in range(len(a)): \n",
    "    print(a[ind],end=\"\")"
   ]
  },
  {
   "cell_type": "markdown",
   "id": "87418010",
   "metadata": {},
   "source": [
    "# indexing & slicing "
   ]
  },
  {
   "cell_type": "markdown",
   "id": "e08c5277",
   "metadata": {},
   "source": [
    "### two basic diff btw indexing and slicing \n",
    "1. you can not go out of range in indexing while in slicing you can go out of index\n",
    "2. by indexing u can only print a character and by using slicing u can print any slice of your string  "
   ]
  },
  {
   "cell_type": "code",
   "execution_count": 26,
   "id": "3fb2688d",
   "metadata": {},
   "outputs": [
    {
     "name": "stdout",
     "output_type": "stream",
     "text": [
      "H\n",
      "d\n",
      "d\n",
      "w\n"
     ]
    }
   ],
   "source": [
    "str = \"Hello world\"\n",
    "print(str[0])\n",
    "print(str[10])\n",
    "print(str[-1])\n",
    "print(str[-5])"
   ]
  },
  {
   "cell_type": "code",
   "execution_count": 28,
   "id": "2bf19275",
   "metadata": {},
   "outputs": [
    {
     "name": "stdout",
     "output_type": "stream",
     "text": [
      "Hello world\n",
      "Hello world\n",
      "Hello\n",
      "\n",
      "d\n",
      "ld\n",
      "el\n",
      "dlrow olleH\n",
      "o le\n"
     ]
    }
   ],
   "source": [
    "str = \"Hello world\"\n",
    "print(str[:])\n",
    "print(str[::])\n",
    "print(str[0:5])\n",
    "print(str[1000:1000])\n",
    "print(str[10:15])\n",
    "print(str[9:18])\n",
    "print(str[1:5:2])\n",
    "print(str[::-1]) # reverse krne ke liye \n",
    "print(str[-4:-15:-2])"
   ]
  },
  {
   "cell_type": "markdown",
   "id": "e4705edd",
   "metadata": {},
   "source": [
    "# functions "
   ]
  },
  {
   "cell_type": "code",
   "execution_count": 30,
   "id": "64c4c373",
   "metadata": {},
   "outputs": [
    {
     "name": "stdout",
     "output_type": "stream",
     "text": [
      "<class 'str'>\n",
      "8\n",
      "2244006424432\n",
      "Aman jha\n",
      "['A', 'm', 'a', 'n', ' ', 'j', 'h', 'a']\n",
      "('A', 'm', 'a', 'n', ' ', 'j', 'h', 'a')\n"
     ]
    }
   ],
   "source": [
    "a=\"Aman jha\"\n",
    "print(type(a))\n",
    "print(len(a))\n",
    "print(id(a))\n",
    "print(a)\n",
    "print(list(a))\n",
    "print(tuple(a))"
   ]
  },
  {
   "cell_type": "markdown",
   "id": "a87be471",
   "metadata": {},
   "source": [
    "# methods "
   ]
  },
  {
   "cell_type": "markdown",
   "id": "75849ca6",
   "metadata": {},
   "source": [
    "1. lower()\n",
    "2. upper()\n",
    "3. islower()\n",
    "4. isupper()\n",
    "5. isdigit()\n",
    "6. isalnum()\n",
    "7. isaplha()\n",
    "8. split()\n",
    "9. replace()\n",
    "10. capitalize()\n",
    "11. title()"
   ]
  },
  {
   "cell_type": "code",
   "execution_count": 31,
   "id": "24394bb4",
   "metadata": {},
   "outputs": [
    {
     "name": "stdout",
     "output_type": "stream",
     "text": [
      "AMAN JHA\n"
     ]
    }
   ],
   "source": [
    "a=\"aman jha\"\n",
    "print(a.upper())"
   ]
  },
  {
   "cell_type": "code",
   "execution_count": 32,
   "id": "168ca202",
   "metadata": {},
   "outputs": [
    {
     "name": "stdout",
     "output_type": "stream",
     "text": [
      "aman jha\n"
     ]
    }
   ],
   "source": [
    "a=\"AMAN JHA\"\n",
    "print(a.lower())"
   ]
  },
  {
   "cell_type": "code",
   "execution_count": 33,
   "id": "ca539c26",
   "metadata": {},
   "outputs": [
    {
     "name": "stdout",
     "output_type": "stream",
     "text": [
      "False\n"
     ]
    }
   ],
   "source": [
    "a=\"Aman jha\"\n",
    "print(a.isupper())"
   ]
  },
  {
   "cell_type": "code",
   "execution_count": 34,
   "id": "0b269767",
   "metadata": {},
   "outputs": [
    {
     "name": "stdout",
     "output_type": "stream",
     "text": [
      "True\n"
     ]
    }
   ],
   "source": [
    "a=\"AMAN JHA\"\n",
    "print(a.isupper())"
   ]
  },
  {
   "cell_type": "code",
   "execution_count": 35,
   "id": "3976a872",
   "metadata": {},
   "outputs": [
    {
     "name": "stdout",
     "output_type": "stream",
     "text": [
      "True\n"
     ]
    }
   ],
   "source": [
    "a=\"aman jha\"\n",
    "print(a.islower())"
   ]
  },
  {
   "cell_type": "code",
   "execution_count": 37,
   "id": "adea34dc",
   "metadata": {},
   "outputs": [
    {
     "name": "stdout",
     "output_type": "stream",
     "text": [
      "True\n"
     ]
    }
   ],
   "source": [
    "a=\"amanj039gmailcom\"\n",
    "print(a.isalnum())"
   ]
  },
  {
   "cell_type": "code",
   "execution_count": 40,
   "id": "47cddcca",
   "metadata": {},
   "outputs": [
    {
     "name": "stdout",
     "output_type": "stream",
     "text": [
      "['hello', 'chaman']\n"
     ]
    }
   ],
   "source": [
    "# split - convert your string in the list .\n",
    "\n",
    "a=\"hello chaman\"\n",
    "print(a.split())"
   ]
  },
  {
   "cell_type": "code",
   "execution_count": 41,
   "id": "00ca7362",
   "metadata": {},
   "outputs": [
    {
     "name": "stdout",
     "output_type": "stream",
     "text": [
      "Aman jha\n"
     ]
    }
   ],
   "source": [
    "a=\"AMAN JHA\"\n",
    "print(a.capitalize())"
   ]
  },
  {
   "cell_type": "code",
   "execution_count": 42,
   "id": "09ee26e2",
   "metadata": {},
   "outputs": [
    {
     "name": "stdout",
     "output_type": "stream",
     "text": [
      "Aman Jha\n"
     ]
    }
   ],
   "source": [
    "a=\"aman jha\"\n",
    "print(a.title())"
   ]
  },
  {
   "cell_type": "code",
   "execution_count": 43,
   "id": "fb9b074e",
   "metadata": {},
   "outputs": [
    {
     "data": {
      "text/plain": [
       "'nitin'"
      ]
     },
     "execution_count": 43,
     "metadata": {},
     "output_type": "execute_result"
    }
   ],
   "source": [
    "a=\"mitin\"\n",
    "a.replace('m','n')"
   ]
  },
  {
   "cell_type": "markdown",
   "id": "932aa225",
   "metadata": {},
   "source": [
    "# formatting in string "
   ]
  },
  {
   "cell_type": "code",
   "execution_count": 44,
   "id": "f4f4d829",
   "metadata": {},
   "outputs": [
    {
     "name": "stdout",
     "output_type": "stream",
     "text": [
      "my sum of two no is 25\n"
     ]
    }
   ],
   "source": [
    "# o/p - >   my sum of two no is 25\n",
    "sum = 20+5\n",
    "print(\"my sum of two no is\",sum)"
   ]
  },
  {
   "cell_type": "code",
   "execution_count": 46,
   "id": "21131bbd",
   "metadata": {},
   "outputs": [
    {
     "name": "stdout",
     "output_type": "stream",
     "text": [
      "my sum of two no is 25\n"
     ]
    }
   ],
   "source": [
    "sum = 20+5\n",
    "print(f\"my sum of two no is {sum}\")"
   ]
  }
 ],
 "metadata": {
  "kernelspec": {
   "display_name": "Python 3 (ipykernel)",
   "language": "python",
   "name": "python3"
  },
  "language_info": {
   "codemirror_mode": {
    "name": "ipython",
    "version": 3
   },
   "file_extension": ".py",
   "mimetype": "text/x-python",
   "name": "python",
   "nbconvert_exporter": "python",
   "pygments_lexer": "ipython3",
   "version": "3.11.5"
  }
 },
 "nbformat": 4,
 "nbformat_minor": 5
}
