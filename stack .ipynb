{
 "cells": [
  {
   "cell_type": "markdown",
   "id": "ba77ca0c",
   "metadata": {},
   "source": [
    "# basic function of stack \n",
    "1. push()\n",
    "2. pop()\n"
   ]
  },
  {
   "cell_type": "markdown",
   "id": "a0046866",
   "metadata": {},
   "source": [
    "# push() "
   ]
  },
  {
   "cell_type": "code",
   "execution_count": null,
   "id": "26c29ff9",
   "metadata": {},
   "outputs": [],
   "source": [
    "# adding an element at the top of the stack is known as push\n",
    "def push(st,item):\n",
    "    return st.append(item)"
   ]
  },
  {
   "cell_type": "markdown",
   "id": "983ba40c",
   "metadata": {},
   "source": [
    "# pop()"
   ]
  },
  {
   "cell_type": "code",
   "execution_count": 1,
   "id": "a565a028",
   "metadata": {},
   "outputs": [],
   "source": [
    "# removing an element from the top of the stack\n",
    "def pop(st):\n",
    "    if st == []:\n",
    "        print(\"stack is empty\")\n",
    "    else:\n",
    "        return st.pop()"
   ]
  },
  {
   "cell_type": "code",
   "execution_count": 6,
   "id": "175da46d",
   "metadata": {},
   "outputs": [
    {
     "name": "stdout",
     "output_type": "stream",
     "text": [
      "['a', 'b', 'c', 'd']\n"
     ]
    },
    {
     "data": {
      "text/plain": [
       "'d'"
      ]
     },
     "execution_count": 6,
     "metadata": {},
     "output_type": "execute_result"
    }
   ],
   "source": [
    "st = []\n",
    "st.append('a')\n",
    "st.append('b')\n",
    "st.append('c')\n",
    "st.append('d')\n",
    "print(st)\n",
    "st.pop()"
   ]
  },
  {
   "cell_type": "code",
   "execution_count": 34,
   "id": "4749d6b2",
   "metadata": {},
   "outputs": [
    {
     "name": "stdout",
     "output_type": "stream",
     "text": [
      "['Richa', 'prabhat', 'Khushi']\n"
     ]
    }
   ],
   "source": [
    "# wap to remove those name which starts with 'A' ?\n",
    "def remove(l):\n",
    "    st=[]\n",
    "    for i in l:\n",
    "        if i[0] !='A':\n",
    "            st.append(i)\n",
    "    return st\n",
    "\n",
    "l = ['Aman','Richa','Aditya','prabhat','Ankit','Khushi','Anjali']\n",
    "\n",
    "ans = remove(l)\n",
    "print(ans)"
   ]
  },
  {
   "cell_type": "code",
   "execution_count": 23,
   "id": "a41da4b0",
   "metadata": {},
   "outputs": [
    {
     "name": "stdout",
     "output_type": "stream",
     "text": [
      "so should be [7, 9, 15]\n",
      "se should be [2, 14]\n",
      "14\n",
      "Stack empty\n"
     ]
    }
   ],
   "source": [
    "# question \n",
    "\n",
    "def createstack(l):\n",
    "    so = []\n",
    "    se = []\n",
    "    \n",
    "    for i in l:\n",
    "        if i % 2 == 0:\n",
    "            se.append(i)\n",
    "        else:\n",
    "            so.append(i)\n",
    "    return so , se\n",
    "\n",
    "def popstack(l):\n",
    "    if l == []:\n",
    "        return None\n",
    "    else:\n",
    "        print(l.pop())\n",
    "    print('Stack empty')\n",
    "\n",
    "l=[2,7,9,15,14]\n",
    "so , se = createstack(l)\n",
    "\n",
    "print('so should be',so)\n",
    "print('se should be',se)\n",
    "\n",
    "popstack(se)\n"
   ]
  },
  {
   "cell_type": "code",
   "execution_count": 36,
   "id": "38e67a6b",
   "metadata": {},
   "outputs": [
    {
     "name": "stdout",
     "output_type": "stream",
     "text": [
      "22\n"
     ]
    }
   ],
   "source": [
    "# wap to create a function create() which creates a stack containg sum of all the even no \n",
    "# l=[1,5,6,9,15,16] ?\n",
    "\n",
    "def create(l):\n",
    "    sum_of_ele = 0\n",
    "    se = [] \n",
    "    for i in l :\n",
    "        if i % 2 == 0:\n",
    "            se.append(i)\n",
    "            \n",
    "    for i in se:\n",
    "        sum_of_ele+=i\n",
    "        \n",
    "    return sum_of_ele\n",
    "\n",
    "l=[1,5,6,9,15,16]\n",
    "ans=create(l)\n",
    "print(ans)\n",
    "    "
   ]
  },
  {
   "cell_type": "code",
   "execution_count": 1,
   "id": "b19754b1",
   "metadata": {},
   "outputs": [
    {
     "name": "stdout",
     "output_type": "stream",
     "text": [
      "['Adiba']\n"
     ]
    }
   ],
   "source": [
    "''' write a function passstudnets() who score more than 65 in their test \n",
    "stu = {'Aman':70,'adiba':85,'Aditya':50,'pinki':65}'''\n",
    "\n",
    "def push(st,item):\n",
    "    return st.append(item)\n",
    "\n",
    "st=[]\n",
    "d={'Aman':70,'Adiba':90, 'Aditya':50}\n",
    "for i in d:\n",
    "    if d[i]>70:\n",
    "        push(st,i)\n",
    "print(st)"
   ]
  },
  {
   "cell_type": "code",
   "execution_count": null,
   "id": "7bfe71cc",
   "metadata": {},
   "outputs": [],
   "source": []
  }
 ],
 "metadata": {
  "kernelspec": {
   "display_name": "Python 3 (ipykernel)",
   "language": "python",
   "name": "python3"
  },
  "language_info": {
   "codemirror_mode": {
    "name": "ipython",
    "version": 3
   },
   "file_extension": ".py",
   "mimetype": "text/x-python",
   "name": "python",
   "nbconvert_exporter": "python",
   "pygments_lexer": "ipython3",
   "version": "3.11.5"
  }
 },
 "nbformat": 4,
 "nbformat_minor": 5
}
