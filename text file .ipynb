{
 "cells": [
  {
   "cell_type": "markdown",
   "id": "cb02079e",
   "metadata": {},
   "source": [
    "# TEXT FILE "
   ]
  },
  {
   "cell_type": "markdown",
   "id": "6a57b003",
   "metadata": {},
   "source": [
    "1. The extension of the text file is .txt\n",
    "2. every line end with a character '\\n' (newline escape sequence)\n",
    "3. There are Three modes - read , write and append "
   ]
  },
  {
   "cell_type": "markdown",
   "id": "0b6102e3",
   "metadata": {},
   "source": [
    "1. read mode (by default ) - \"r\"\n",
    "2. write mode - \"w\"\n",
    "3. append mode - \"a\""
   ]
  },
  {
   "cell_type": "code",
   "execution_count": 3,
   "id": "783581b6",
   "metadata": {},
   "outputs": [
    {
     "name": "stdout",
     "output_type": "stream",
     "text": [
      "Hello guys \n",
      "My name is Aman jha \n",
      "and i am your cs teacher \n"
     ]
    }
   ],
   "source": [
    "# the first step - open the file \n",
    "file = open(\"class.txt\",\"r\")\n",
    "# the second step - read - read(), write - write(),append - write()\n",
    "b = file.read()\n",
    "print(b)"
   ]
  },
  {
   "cell_type": "code",
   "execution_count": 5,
   "id": "78944d52",
   "metadata": {},
   "outputs": [
    {
     "name": "stdout",
     "output_type": "stream",
     "text": [
      "Hello guys \n",
      "\n"
     ]
    }
   ],
   "source": [
    "# if i want to see only one line \n",
    "file = open(\"class.txt\")\n",
    "b = file.readline()\n",
    "print(b)"
   ]
  },
  {
   "cell_type": "code",
   "execution_count": 6,
   "id": "4f38673c",
   "metadata": {},
   "outputs": [
    {
     "name": "stdout",
     "output_type": "stream",
     "text": [
      "Hello\n"
     ]
    }
   ],
   "source": [
    "# if you want to see only few characters \n",
    "file = open(\"class.txt\",\"r\")\n",
    "a = file.read(5)\n",
    "print(a)"
   ]
  },
  {
   "cell_type": "code",
   "execution_count": 7,
   "id": "7fe13a28",
   "metadata": {},
   "outputs": [
    {
     "name": "stdout",
     "output_type": "stream",
     "text": [
      "Hello\n",
      " guys \n",
      "My \n"
     ]
    }
   ],
   "source": [
    "file= open('class.txt','r')\n",
    "b = file.read(5)\n",
    "print(b)\n",
    "c= file.read(10)\n",
    "print(c)"
   ]
  },
  {
   "cell_type": "markdown",
   "id": "57c7884f",
   "metadata": {},
   "source": [
    "# read \n",
    "1. read() - if you want to show all the data of your file . (character by character) \n",
    "2. readline() - if you want to show at a time only one line (line by line)\n",
    "3. readlines() - it shows all the lines in a single run (word , lines)"
   ]
  },
  {
   "cell_type": "markdown",
   "id": "ce8498b1",
   "metadata": {},
   "source": [
    "# output type of various read methods \n",
    "1. read() - string \n",
    "2. readline() - string \n",
    "3. readlines() - List"
   ]
  },
  {
   "cell_type": "code",
   "execution_count": 15,
   "id": "f1b72f2e",
   "metadata": {},
   "outputs": [
    {
     "name": "stdout",
     "output_type": "stream",
     "text": [
      "['Hello guys \\n', 'My name is Aman jha \\n', 'and i am your cs teacher ']\n"
     ]
    }
   ],
   "source": [
    "# readlines()\n",
    "file = open(\"class.txt\")\n",
    "b = file.readlines()\n",
    "print(b)"
   ]
  },
  {
   "cell_type": "code",
   "execution_count": 17,
   "id": "51eb2290",
   "metadata": {},
   "outputs": [
    {
     "name": "stdout",
     "output_type": "stream",
     "text": [
      "Hello guys \n",
      "\n"
     ]
    }
   ],
   "source": [
    "# how to close the file \n",
    "file = open(\"class.txt\")\n",
    "b = file.readline()\n",
    "print(b)\n",
    "file.close()"
   ]
  },
  {
   "cell_type": "markdown",
   "id": "4c971693",
   "metadata": {},
   "source": [
    "# WRITE "
   ]
  },
  {
   "cell_type": "code",
   "execution_count": 19,
   "id": "69ce9083",
   "metadata": {},
   "outputs": [],
   "source": [
    "file = open(\"class.txt\",'w')\n",
    "b = file.write(\"dhoom machale ....\")\n",
    "file.close()"
   ]
  },
  {
   "cell_type": "markdown",
   "id": "89f7e2fe",
   "metadata": {},
   "source": [
    "1. whenever you use the write function it will erase all the previous data"
   ]
  },
  {
   "cell_type": "code",
   "execution_count": 20,
   "id": "ff4986db",
   "metadata": {},
   "outputs": [],
   "source": [
    "# append mode \n",
    "file = open(\"class.txt\",'a')\n",
    "b = file.write(\"dhoom tannnna nna\")\n",
    "file.close()"
   ]
  },
  {
   "cell_type": "markdown",
   "id": "f7b335e3",
   "metadata": {},
   "source": [
    "1. append will allow u to add new data without removing previous data"
   ]
  }
 ],
 "metadata": {
  "kernelspec": {
   "display_name": "Python 3 (ipykernel)",
   "language": "python",
   "name": "python3"
  },
  "language_info": {
   "codemirror_mode": {
    "name": "ipython",
    "version": 3
   },
   "file_extension": ".py",
   "mimetype": "text/x-python",
   "name": "python",
   "nbconvert_exporter": "python",
   "pygments_lexer": "ipython3",
   "version": "3.11.5"
  }
 },
 "nbformat": 4,
 "nbformat_minor": 5
}
