{
 "cells": [
  {
   "cell_type": "markdown",
   "id": "27878163",
   "metadata": {},
   "source": [
    "# LIST & TUPLE"
   ]
  },
  {
   "cell_type": "code",
   "execution_count": 2,
   "id": "a7845e82",
   "metadata": {},
   "outputs": [
    {
     "name": "stdout",
     "output_type": "stream",
     "text": [
      "[]\n",
      "[]\n"
     ]
    }
   ],
   "source": [
    "# creating the list \n",
    "l=[]\n",
    "print(l)\n",
    "l=list()\n",
    "print(l)"
   ]
  },
  {
   "cell_type": "code",
   "execution_count": 3,
   "id": "0217f394",
   "metadata": {},
   "outputs": [
    {
     "name": "stdout",
     "output_type": "stream",
     "text": [
      "[10, 20, 30]\n"
     ]
    }
   ],
   "source": [
    "li=[10,20,30]\n",
    "print(li)"
   ]
  },
  {
   "cell_type": "code",
   "execution_count": 4,
   "id": "a563c31c",
   "metadata": {},
   "outputs": [
    {
     "name": "stdout",
     "output_type": "stream",
     "text": [
      "[10, 20.5, 'aman', 56.5, (10, 20, 30, 40)]\n"
     ]
    }
   ],
   "source": [
    "a=[10,20.5,'aman',56.5,(10,20,30,40)]\n",
    "print(a)"
   ]
  },
  {
   "cell_type": "code",
   "execution_count": 5,
   "id": "a51029ea",
   "metadata": {},
   "outputs": [],
   "source": [
    "# list is a ordered collection of data - index in continous manner "
   ]
  },
  {
   "cell_type": "code",
   "execution_count": 6,
   "id": "a5594633",
   "metadata": {},
   "outputs": [
    {
     "name": "stdout",
     "output_type": "stream",
     "text": [
      "[0, 2, 4, 6, 8]\n"
     ]
    }
   ],
   "source": [
    "# list comprehension \n",
    "l=[x for x in range(0,10,2)]\n",
    "print(l)"
   ]
  },
  {
   "cell_type": "code",
   "execution_count": 7,
   "id": "9d9dfc1b",
   "metadata": {},
   "outputs": [
    {
     "name": "stdout",
     "output_type": "stream",
     "text": [
      "[25, 20, 30]\n",
      "[25, 20, 30]\n"
     ]
    }
   ],
   "source": [
    "# true copy \n",
    "a=[10,20,30]\n",
    "b=a # [10,20,]\n",
    "b[0]=25\n",
    "print(a)\n",
    "print(b)"
   ]
  },
  {
   "cell_type": "code",
   "execution_count": 8,
   "id": "b95e4dad",
   "metadata": {},
   "outputs": [
    {
     "name": "stdout",
     "output_type": "stream",
     "text": [
      "[10, 20, 30]\n",
      "[25, 20, 30]\n"
     ]
    }
   ],
   "source": [
    "# shallow copy / pseudo copy\n",
    "a=[10,20,30]\n",
    "b=a.copy()\n",
    "b[0]=25\n",
    "print(a)\n",
    "print(b)"
   ]
  },
  {
   "cell_type": "code",
   "execution_count": 9,
   "id": "d63b1fc2",
   "metadata": {},
   "outputs": [
    {
     "name": "stdout",
     "output_type": "stream",
     "text": [
      "[10, 20, 30]\n",
      "[25, 20, 30]\n"
     ]
    }
   ],
   "source": [
    "a=[10,20,30]\n",
    "b=list(a)\n",
    "b[0]=25\n",
    "print(a)\n",
    "print(b)"
   ]
  },
  {
   "cell_type": "markdown",
   "id": "8e77b036",
   "metadata": {},
   "source": [
    "# indexing "
   ]
  },
  {
   "cell_type": "code",
   "execution_count": 10,
   "id": "bf90c3fb",
   "metadata": {},
   "outputs": [
    {
     "name": "stdout",
     "output_type": "stream",
     "text": [
      "[1, 3, 5, 7, 9, 11, 13, 15, 17, 19, 21, 23, 25, 27, 29, 31, 33, 35, 37, 39, 41, 43, 45, 47, 49]\n"
     ]
    }
   ],
   "source": [
    "a=[x for x in range(1,50,2)]\n",
    "print(a)"
   ]
  },
  {
   "cell_type": "code",
   "execution_count": 15,
   "id": "549080af",
   "metadata": {},
   "outputs": [
    {
     "name": "stdout",
     "output_type": "stream",
     "text": [
      "5\n",
      "[49, 47, 45, 43, 41, 39, 37, 35, 33, 31, 29, 27, 25, 23, 21, 19, 17, 15, 13, 11, 9, 7, 5, 3, 1]\n",
      "[3, 7, 11, 15, 19]\n",
      "41\n"
     ]
    }
   ],
   "source": [
    "print(a[2])\n",
    "print(a[::-1])\n",
    "print(a[1:10:2])\n",
    "print(a[-5])"
   ]
  },
  {
   "cell_type": "markdown",
   "id": "251de3ee",
   "metadata": {},
   "source": [
    "# iteration "
   ]
  },
  {
   "cell_type": "code",
   "execution_count": 16,
   "id": "d55b73e1",
   "metadata": {},
   "outputs": [
    {
     "name": "stdout",
     "output_type": "stream",
     "text": [
      "[1, 3, 5, 7, 9, 11, 13, 15, 17, 19]\n"
     ]
    }
   ],
   "source": [
    "a=[x for x in range(1,20,2)]\n",
    "print(a)"
   ]
  },
  {
   "cell_type": "code",
   "execution_count": 19,
   "id": "463d01dc",
   "metadata": {},
   "outputs": [
    {
     "name": "stdout",
     "output_type": "stream",
     "text": [
      "1 3 5 7 9 11 13 15 17 19 "
     ]
    }
   ],
   "source": [
    "for rec in a:\n",
    "    print(rec,end=' ')\n",
    "# [1, 3, 5, 7, 9, 11, 13, 15, 17, 19]"
   ]
  },
  {
   "cell_type": "code",
   "execution_count": 20,
   "id": "4813c775",
   "metadata": {},
   "outputs": [
    {
     "name": "stdout",
     "output_type": "stream",
     "text": [
      "1 3 5 7 9 11 13 15 17 19 "
     ]
    }
   ],
   "source": [
    "for rec in range(len(a)):\n",
    "    print(a[rec], end = ' ')"
   ]
  },
  {
   "cell_type": "code",
   "execution_count": 23,
   "id": "d3eb825a",
   "metadata": {},
   "outputs": [
    {
     "name": "stdout",
     "output_type": "stream",
     "text": [
      "[1, 2, 3]\n",
      "4\n",
      "15\n"
     ]
    }
   ],
   "source": [
    "# nested list - a list in a list \n",
    "l=[[1,2,3],4,[5,10,15,50],\"aman jha\",\"chaman\"]\n",
    "print(l[0])\n",
    "print(l[1])\n",
    "print(l[2][2]) # [5,10,15,50] -- [2]-> 15"
   ]
  },
  {
   "cell_type": "markdown",
   "id": "081f2b91",
   "metadata": {},
   "source": [
    "# methods\n",
    "1. append()\n",
    "2. extend()\n",
    "3. pop()\n",
    "4. remove()\n",
    "5. del\n",
    "6. list()\n",
    "7. insert()\n",
    "8. sort()\n",
    "9. sum()\n",
    "10. max()\n",
    "11. min()\n",
    "12. len()\n",
    "13. clear()\n",
    "14. count()\n",
    "15. index()"
   ]
  },
  {
   "cell_type": "code",
   "execution_count": 26,
   "id": "24c1806a",
   "metadata": {},
   "outputs": [
    {
     "name": "stdout",
     "output_type": "stream",
     "text": [
      "[1, 3, 5, 7, 9, 11, 13, 15, 17, 19, 50]\n"
     ]
    }
   ],
   "source": [
    "# if i want to add a single element ?\n",
    "a= [1, 3, 5, 7, 9, 11, 13, 15, 17, 19]\n",
    "a.append(50)\n",
    "print(a)"
   ]
  },
  {
   "cell_type": "code",
   "execution_count": 27,
   "id": "a06f4f9b",
   "metadata": {},
   "outputs": [
    {
     "name": "stdout",
     "output_type": "stream",
     "text": [
      "[1, 3, 5, 7, 9, 11, 13, 15, 17, 19, 60, 70, 80]\n"
     ]
    }
   ],
   "source": [
    "# for multiple element ?\n",
    "a= [1, 3, 5, 7, 9, 11, 13, 15, 17, 19]\n",
    "a.extend([60,70,80])\n",
    "print(a)"
   ]
  },
  {
   "cell_type": "code",
   "execution_count": 28,
   "id": "d38c2cc9",
   "metadata": {},
   "outputs": [
    {
     "name": "stdout",
     "output_type": "stream",
     "text": [
      "[1, 3, 5, 7, 9, 50, 13, 15, 17, 19, 60, 70, 80]\n"
     ]
    }
   ],
   "source": [
    "# you can also add an element at any specific loc\n",
    "# first way \n",
    "a[5]=50\n",
    "print(a)"
   ]
  },
  {
   "cell_type": "code",
   "execution_count": 32,
   "id": "4adb181e",
   "metadata": {},
   "outputs": [
    {
     "name": "stdout",
     "output_type": "stream",
     "text": [
      "[1, 3, 5, 7, 9, 120, 100, 90, 90, 50, 13, 15, 17, 19, 60, 70, 80]\n"
     ]
    }
   ],
   "source": [
    "# second way -- it will not replace the previous element just shift the previous element by one index\n",
    "#just shift the previous element by one index\n",
    "a.insert(5,120)\n",
    "print(a)"
   ]
  },
  {
   "cell_type": "code",
   "execution_count": 33,
   "id": "01a5863a",
   "metadata": {},
   "outputs": [
    {
     "data": {
      "text/plain": [
       "[1, 3, 5, 7, 9, 120, 100, 90, 90, 50, 13, 15, 17, 19, 60, 70, 80]"
      ]
     },
     "execution_count": 33,
     "metadata": {},
     "output_type": "execute_result"
    }
   ],
   "source": [
    "a"
   ]
  },
  {
   "cell_type": "code",
   "execution_count": 35,
   "id": "46904003",
   "metadata": {},
   "outputs": [
    {
     "name": "stdout",
     "output_type": "stream",
     "text": [
      "[1, 3, 5, 7, 9, 120, 100, 90, 90, 50, 13, 15, 17, 19, 60]\n"
     ]
    }
   ],
   "source": [
    "a.pop()\n",
    "print(a)"
   ]
  },
  {
   "cell_type": "code",
   "execution_count": 37,
   "id": "51d46bd9",
   "metadata": {},
   "outputs": [
    {
     "name": "stdout",
     "output_type": "stream",
     "text": [
      "[1, 3, 5, 7, 9, 90, 90, 50, 13, 15, 17, 19, 60]\n"
     ]
    }
   ],
   "source": [
    "# if i want to remove the element on a specific index\n",
    "a.pop(5)\n",
    "print(a)"
   ]
  },
  {
   "cell_type": "code",
   "execution_count": 39,
   "id": "2ccb672d",
   "metadata": {},
   "outputs": [
    {
     "data": {
      "text/plain": [
       "[]"
      ]
     },
     "execution_count": 39,
     "metadata": {},
     "output_type": "execute_result"
    }
   ],
   "source": [
    "a.clear()  # clear all the elements \n",
    "a"
   ]
  },
  {
   "cell_type": "code",
   "execution_count": 41,
   "id": "0e5a9b82",
   "metadata": {},
   "outputs": [
    {
     "name": "stdout",
     "output_type": "stream",
     "text": [
      "[1, 3, 7, 9, 120, 100, 90, 90, 50, 13, 15, 17, 19, 60, 70, 80]\n"
     ]
    }
   ],
   "source": [
    "# remove - specific element \n",
    "a=[1, 3, 5, 7, 9, 120, 100, 90, 90, 50, 13, 15, 17, 19, 60, 70, 80]\n",
    "a.remove(5)\n",
    "print(a)"
   ]
  },
  {
   "cell_type": "code",
   "execution_count": 45,
   "id": "5ecaef42",
   "metadata": {},
   "outputs": [
    {
     "data": {
      "text/plain": [
       "[1, 3, 7, 9, 120, 100, 50, 13, 15, 17, 19, 60, 70, 80]"
      ]
     },
     "execution_count": 45,
     "metadata": {},
     "output_type": "execute_result"
    }
   ],
   "source": [
    "a.remove(90)\n",
    "a"
   ]
  },
  {
   "cell_type": "code",
   "execution_count": 46,
   "id": "85961905",
   "metadata": {},
   "outputs": [
    {
     "data": {
      "text/plain": [
       "[1, 3, 7, 9, 120, 100, 50, 13, 15, 17, 19, 60, 70, 80]"
      ]
     },
     "execution_count": 46,
     "metadata": {},
     "output_type": "execute_result"
    }
   ],
   "source": [
    "a"
   ]
  },
  {
   "cell_type": "code",
   "execution_count": 47,
   "id": "6e16173b",
   "metadata": {},
   "outputs": [],
   "source": [
    "# del for any specific element \n",
    "del a[0]"
   ]
  },
  {
   "cell_type": "code",
   "execution_count": 48,
   "id": "e4eb34db",
   "metadata": {},
   "outputs": [
    {
     "data": {
      "text/plain": [
       "[3, 7, 9, 120, 100, 50, 13, 15, 17, 19, 60, 70, 80]"
      ]
     },
     "execution_count": 48,
     "metadata": {},
     "output_type": "execute_result"
    }
   ],
   "source": [
    "a"
   ]
  },
  {
   "cell_type": "code",
   "execution_count": 49,
   "id": "907b34f3",
   "metadata": {},
   "outputs": [],
   "source": [
    "del a"
   ]
  },
  {
   "cell_type": "code",
   "execution_count": 53,
   "id": "a57cff8c",
   "metadata": {},
   "outputs": [
    {
     "name": "stdout",
     "output_type": "stream",
     "text": [
      "[13, 15, 17, 19, 60, 70, 80]\n"
     ]
    }
   ],
   "source": [
    "a= [1, 3, 5, 7, 9, 120, 100, 90, 90, 50, 13, 15, 17, 19, 60, 70, 80]\n",
    "del a[0:10]\n",
    "print(a)"
   ]
  },
  {
   "cell_type": "code",
   "execution_count": 54,
   "id": "1b494b7d",
   "metadata": {},
   "outputs": [
    {
     "data": {
      "text/plain": [
       "2"
      ]
     },
     "execution_count": 54,
     "metadata": {},
     "output_type": "execute_result"
    }
   ],
   "source": [
    "a.index(17) # to get the index and it takes the element as a parameter"
   ]
  },
  {
   "cell_type": "code",
   "execution_count": 55,
   "id": "0a872529",
   "metadata": {},
   "outputs": [
    {
     "data": {
      "text/plain": [
       "1"
      ]
     },
     "execution_count": 55,
     "metadata": {},
     "output_type": "execute_result"
    }
   ],
   "source": [
    "a.count(13)"
   ]
  },
  {
   "cell_type": "code",
   "execution_count": 56,
   "id": "bc352988",
   "metadata": {},
   "outputs": [
    {
     "data": {
      "text/plain": [
       "274"
      ]
     },
     "execution_count": 56,
     "metadata": {},
     "output_type": "execute_result"
    }
   ],
   "source": [
    "sum(a)"
   ]
  },
  {
   "cell_type": "code",
   "execution_count": 57,
   "id": "735a0ec4",
   "metadata": {},
   "outputs": [
    {
     "data": {
      "text/plain": [
       "80"
      ]
     },
     "execution_count": 57,
     "metadata": {},
     "output_type": "execute_result"
    }
   ],
   "source": [
    "max(a)"
   ]
  },
  {
   "cell_type": "code",
   "execution_count": 59,
   "id": "66d3fcc9",
   "metadata": {},
   "outputs": [
    {
     "data": {
      "text/plain": [
       "13"
      ]
     },
     "execution_count": 59,
     "metadata": {},
     "output_type": "execute_result"
    }
   ],
   "source": [
    "min(a)"
   ]
  },
  {
   "cell_type": "code",
   "execution_count": 60,
   "id": "51160c3c",
   "metadata": {},
   "outputs": [
    {
     "data": {
      "text/plain": [
       "[13, 15, 17, 19, 60, 70, 80]"
      ]
     },
     "execution_count": 60,
     "metadata": {},
     "output_type": "execute_result"
    }
   ],
   "source": [
    "a"
   ]
  },
  {
   "cell_type": "code",
   "execution_count": 66,
   "id": "5ca2def3",
   "metadata": {},
   "outputs": [
    {
     "name": "stdout",
     "output_type": "stream",
     "text": [
      "[80, 70, 60, 19, 17, 15, 13]\n"
     ]
    }
   ],
   "source": [
    "a.sort(reverse=True)\n",
    "print(a)"
   ]
  }
 ],
 "metadata": {
  "kernelspec": {
   "display_name": "Python 3 (ipykernel)",
   "language": "python",
   "name": "python3"
  },
  "language_info": {
   "codemirror_mode": {
    "name": "ipython",
    "version": 3
   },
   "file_extension": ".py",
   "mimetype": "text/x-python",
   "name": "python",
   "nbconvert_exporter": "python",
   "pygments_lexer": "ipython3",
   "version": "3.11.5"
  }
 },
 "nbformat": 4,
 "nbformat_minor": 5
}
