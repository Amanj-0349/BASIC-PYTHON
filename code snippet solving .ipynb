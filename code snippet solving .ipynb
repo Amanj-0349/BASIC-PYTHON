{
 "cells": [
  {
   "cell_type": "code",
   "execution_count": 1,
   "id": "2a6c78da",
   "metadata": {},
   "outputs": [
    {
     "data": {
      "text/plain": [
       "1"
      ]
     },
     "execution_count": 1,
     "metadata": {},
     "output_type": "execute_result"
    }
   ],
   "source": [
    "'arihant publication'.count('hant', 0, 10)"
   ]
  },
  {
   "cell_type": "code",
   "execution_count": 4,
   "id": "b8172b86",
   "metadata": {},
   "outputs": [
    {
     "name": "stdout",
     "output_type": "stream",
     "text": [
      "42\n"
     ]
    }
   ],
   "source": [
    "dic = {}\n",
    "dic [(1, 2, 4)] = 8\n",
    "dic [(4, 2, 1)] = 10\n",
    "dic [(1, 2)] = 24\n",
    "sum = 0\n",
    "for i in dic :\n",
    "    sum = sum + dic[i]\n",
    "print (sum)"
   ]
  },
  {
   "cell_type": "markdown",
   "id": "b9ac28a7",
   "metadata": {},
   "source": [
    "# [(1, 2, 4)] index- key \n",
    "1. dic = {(1,2,4):8,(4, 2, 1):10,(1, 2):24}\n",
    "2. sum= 0 , for 1 time loop sum = 0+8=8\n",
    "3. sum = 8+10=18\n",
    "4. sum = 18+24= 42\n",
    "5. print (sum) - 42 \n"
   ]
  },
  {
   "cell_type": "code",
   "execution_count": 9,
   "id": "4ba960f1",
   "metadata": {},
   "outputs": [
    {
     "name": "stdout",
     "output_type": "stream",
     "text": [
      "[11, 10, 9, 8, 7, 4]\n"
     ]
    }
   ],
   "source": [
    "def ChangeList ():\n",
    "    l =[]\n",
    "    l1=[]\n",
    "    l2=[]\n",
    "    for i in range(1, 10):\n",
    "        l.append(i)\n",
    "    for i in range(10, 1, -2):\n",
    "        l1.append(i)\n",
    "    for i in range(len (l1)):\n",
    "        l2.append(l1[i] + l[i])\n",
    "    \n",
    "    l2.append (len(l)- len(l1))\n",
    "    print(l2)\n",
    "     \n",
    "ChangeList()"
   ]
  },
  {
   "cell_type": "markdown",
   "id": "1e2a122b",
   "metadata": {},
   "source": [
    "# we have three empty list l, l1 , l2 \n",
    "1. first for loop for l = [1,2,3,4,5,6,7,8,9] = len(l) = 9\n",
    "2. second for loop for l1 = [10,8,6,4,2] = len(l1) =5\n",
    "3. third for loop for i= 0,1,2,3,4\n",
    "4. l2 = [11,10,9,8,7]\n",
    "5. l2.append(len(l)- len(l1)) = 9-5=4\n",
    "6. l2 = [11,10,9,8,7,4]"
   ]
  },
  {
   "cell_type": "code",
   "execution_count": 19,
   "id": "e6b65e30",
   "metadata": {},
   "outputs": [
    {
     "name": "stdout",
     "output_type": "stream",
     "text": [
      "The new string is: S1U3E5Ts\n"
     ]
    }
   ],
   "source": [
    "def makenew (mystr):\n",
    "    newstr = \"\"\n",
    "    count = 0\n",
    "    for i in mystr:\n",
    "        if count % 2 != 0:\n",
    "            newstr = newstr + str(count)\n",
    "        else:\n",
    "            if i.islower():\n",
    "                newstr = newstr + i.upper()\n",
    "            else:\n",
    "                newstr = newstr + i\n",
    "        count += 1\n",
    "    newstr = newstr + mystr [:1]\n",
    "    print(\"The new string is:\",newstr)\n",
    "    \n",
    "makenew('sTUdeNT')"
   ]
  },
  {
   "cell_type": "code",
   "execution_count": null,
   "id": "ca793a3b",
   "metadata": {},
   "outputs": [],
   "source": []
  }
 ],
 "metadata": {
  "kernelspec": {
   "display_name": "Python 3 (ipykernel)",
   "language": "python",
   "name": "python3"
  },
  "language_info": {
   "codemirror_mode": {
    "name": "ipython",
    "version": 3
   },
   "file_extension": ".py",
   "mimetype": "text/x-python",
   "name": "python",
   "nbconvert_exporter": "python",
   "pygments_lexer": "ipython3",
   "version": "3.11.5"
  }
 },
 "nbformat": 4,
 "nbformat_minor": 5
}
