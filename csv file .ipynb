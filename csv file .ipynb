{
 "cells": [
  {
   "cell_type": "markdown",
   "id": "b05d0175",
   "metadata": {},
   "source": [
    "# csv file"
   ]
  },
  {
   "cell_type": "markdown",
   "id": "f1352937",
   "metadata": {},
   "source": [
    "1. read - reader()\n",
    "2. write - writer()\n",
    "2. writer - writerow() , writerows()"
   ]
  },
  {
   "cell_type": "markdown",
   "id": "5a0f981c",
   "metadata": {},
   "source": [
    "to access the csv file in python u have to import csv module "
   ]
  },
  {
   "cell_type": "code",
   "execution_count": 2,
   "id": "6b74221a",
   "metadata": {},
   "outputs": [
    {
     "name": "stdout",
     "output_type": "stream",
     "text": [
      "enter the rollno1\n",
      "enter the nameaman\n",
      "enter the class12\n",
      "enter q to exitl\n",
      "enter the rollno2\n",
      "enter the namesofia\n",
      "enter the class12\n",
      "enter q to exitl\n",
      "enter the rollno3\n",
      "enter the nameadiba\n",
      "enter the class12\n",
      "enter q to exitl\n",
      "enter the rollno4\n",
      "enter the namebhavya\n",
      "enter the class12\n",
      "enter q to exitq\n"
     ]
    }
   ],
   "source": [
    "# wap to create a csv file \"data.csv\" and we try to insert some records in it \n",
    "# structure - rollno , name , class \n",
    "\n",
    "import csv\n",
    "f=open(\"data.csv\",\"w\")\n",
    "d= csv.writer(f)\n",
    "header = ['rollno','name','class']\n",
    "d.writerow(header)\n",
    "\n",
    "while True:\n",
    "    rollno = int(input(\"enter the rollno\"))\n",
    "    name = input(\"enter the name\")\n",
    "    cls = int(input('enter the class')) \n",
    "    rec = [rollno,name,cls]\n",
    "    d.writerow(rec)\n",
    "    ch = input(\"enter q to exit\")\n",
    "    if ch in 'qQ':\n",
    "        break\n",
    "f.close()"
   ]
  },
  {
   "cell_type": "code",
   "execution_count": 12,
   "id": "f5070b4d",
   "metadata": {},
   "outputs": [
    {
     "name": "stdout",
     "output_type": "stream",
     "text": [
      "enter the player nameMS Dhoni\n",
      "['MS Dhoni', '4978', '39.196850393700785', '130.93108890057866']\n"
     ]
    }
   ],
   "source": [
    "import csv \n",
    "f=open(\"batter.csv\",'r')\n",
    "b=csv.reader(f)\n",
    "next(f)\n",
    "plname = input(\"enter the player name\")\n",
    "for i in b:\n",
    "    if i[0] == plname:\n",
    "        print(i)\n",
    "f.close()"
   ]
  },
  {
   "cell_type": "code",
   "execution_count": 14,
   "id": "7e765938",
   "metadata": {},
   "outputs": [
    {
     "name": "stdout",
     "output_type": "stream",
     "text": [
      "['V Kohli', '6634', '36.25136612021858', '125.97797189517661']\n",
      "['S Dhawan', '6244', '34.88268156424581', '122.84084202242771']\n",
      "['DA Warner', '5883', '41.429577464788736', '136.40157662879665']\n",
      "['RG Sharma', '5881', '30.314432989690722', '126.96459412780656']\n",
      "['SK Raina', '5536', '32.37426900584796', '132.53531242518554']\n",
      "['AB de Villiers', '5181', '39.853846153846156', '148.58044164037855']\n"
     ]
    }
   ],
   "source": [
    "import csv \n",
    "f=open(\"batter.csv\",'r')\n",
    "b=csv.reader(f)\n",
    "next(f)\n",
    "for i in b:\n",
    "    if int(i[1]) > 5000: \n",
    "        print(i)\n",
    "f.close()"
   ]
  },
  {
   "cell_type": "code",
   "execution_count": 17,
   "id": "50895f22",
   "metadata": {},
   "outputs": [
    {
     "name": "stdout",
     "output_type": "stream",
     "text": [
      "['Kesari (film)', 'Akshay Kumar']\n",
      "['Mission Mangal', 'Akshay Kumar']\n",
      "['Housefull 4', 'Akshay Kumar']\n",
      "['Good Newwz', 'Akshay Kumar']\n",
      "['Gold (2018 film)', 'Akshay Kumar']\n",
      "['Toilet: Ek Prem Katha', 'Akshay Kumar']\n",
      "['Airlift (film)', 'Akshay Kumar']\n",
      "['Baby (2015 Hindi film)', 'Akshay Kumar']\n",
      "['Singh Is Bliing', 'Akshay Kumar']\n",
      "['Gabbar Is Back', 'Akshay Kumar']\n",
      "['Gabbar Is Back', 'Akshay Kumar']\n",
      "['Brothers (2015 film)', 'Akshay Kumar']\n",
      "['Holiday: A Soldier Is Never Off Duty', 'Akshay Kumar']\n",
      "['Entertainment (2014 film)', 'Akshay Kumar']\n",
      "['The Shaukeens', 'Akshay Kumar']\n",
      "['Special 26', 'Akshay Kumar']\n",
      "['Once Upon ay Time in Mumbai Dobaara!', 'Akshay Kumar']\n",
      "['Boss (2013 Hindi film)', 'Akshay Kumar']\n",
      "['Joker (2012 film)', 'Akshay Kumar']\n",
      "['Housefull 2', 'Akshay Kumar']\n",
      "['Thank You (2011 film)', 'Akshay Kumar']\n",
      "['Desi Boyz', 'Akshay Kumar']\n",
      "['Housefull (2010 film)', 'Akshay Kumar']\n",
      "['Khatta Meetha (2010 film)', 'Akshay Kumar']\n",
      "['Tees Maar Khan (2010 film)', 'Akshay Kumar']\n",
      "['Action Replayy', 'Akshay Kumar']\n",
      "['Blue (2009 film)', 'Akshay Kumar']\n",
      "['De Dana Dan', 'Akshay Kumar']\n",
      "['Singh Is Kinng', 'Akshay Kumar']\n",
      "['Tashan (film)', 'Akshay Kumar']\n",
      "['Bhool Bhulaiyaa', 'Akshay Kumar']\n",
      "['Namastey London', 'Akshay Kumar']\n",
      "['Welcome (2007 film)', 'Akshay Kumar']\n",
      "['Bhagam Bhag', 'Akshay Kumar']\n",
      "['Humko Deewana Kar Gaye', 'Akshay Kumar']\n",
      "['Phir Hera Pheri', 'Akshay Kumar']\n",
      "['Mere Jeevan Saathi (2006 film)', 'Akshay Kumar']\n",
      "['Deewane Huye Paagal', 'Akshay Kumar']\n",
      "['Dosti: Friends Forever', 'Akshay Kumar']\n",
      "['Garam Masala (2005 film)', 'Akshay Kumar']\n",
      "['Insan', 'Akshay Kumar']\n",
      "['Aitraaz', 'Akshay Kumar']\n",
      "['Hatya (2004 film)', 'Akshay Kumar']\n",
      "['Meri Biwi Ka Jawaab Nahin', 'Akshay Kumar']\n",
      "['Police Force: An Inside Story', 'Akshay Kumar']\n",
      "['Andaaz', 'Akshay Kumar']\n",
      "['Andaaz', 'Akshay Kumar']\n",
      "['Awara Paagal Deewana', 'Akshay Kumar']\n"
     ]
    }
   ],
   "source": [
    "# wap to display those movies done by shraukh khan\n",
    "import csv \n",
    "f=open(\"bollywood.csv\",\"r\")\n",
    "b=csv.reader(f)\n",
    "next(f)\n",
    "for i in b:\n",
    "    if i[1] == 'Akshay Kumar':\n",
    "        print(i)\n",
    "f.close()"
   ]
  },
  {
   "cell_type": "code",
   "execution_count": 19,
   "id": "d45b8b94",
   "metadata": {},
   "outputs": [
    {
     "name": "stdout",
     "output_type": "stream",
     "text": [
      "9214\n"
     ]
    }
   ],
   "source": [
    "import csv \n",
    "f=open(\"credit_card.csv\",\"r\")\n",
    "b=csv.reader(f)\n",
    "next(f)\n",
    "count = 0\n",
    "for i in b:\n",
    "    if i[1] == 'Blue':\n",
    "        count+=1\n",
    "print(count)\n",
    "f.close()"
   ]
  },
  {
   "cell_type": "markdown",
   "id": "2d69778a",
   "metadata": {},
   "source": [
    "# HOMEWORK\n",
    "1. wap to create a csv file student.csv and also display those records whose marks is greater than 80 structure - rollno , name , class , marks , grade ?\n",
    "\n",
    "2. write a function display_grade() to display those records whose grade is \"A\" ?"
   ]
  }
 ],
 "metadata": {
  "kernelspec": {
   "display_name": "Python 3 (ipykernel)",
   "language": "python",
   "name": "python3"
  },
  "language_info": {
   "codemirror_mode": {
    "name": "ipython",
    "version": 3
   },
   "file_extension": ".py",
   "mimetype": "text/x-python",
   "name": "python",
   "nbconvert_exporter": "python",
   "pygments_lexer": "ipython3",
   "version": "3.11.5"
  }
 },
 "nbformat": 4,
 "nbformat_minor": 5
}
