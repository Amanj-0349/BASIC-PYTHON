{
 "cells": [
  {
   "cell_type": "code",
   "execution_count": 6,
   "id": "2e431a06",
   "metadata": {},
   "outputs": [
    {
     "name": "stdout",
     "output_type": "stream",
     "text": [
      "enter the range : 50\n",
      "0-2-4-6-8-10-12-14-16-18-20-22-24-26-28-30-32-34-36-38-40-42-44-46-48-50-"
     ]
    }
   ],
   "source": [
    "def odd(n):\n",
    "    for i in range(0,n+1):\n",
    "        if i%2 != 0:\n",
    "            print(i,end = \"-\")\n",
    "\n",
    "\n",
    "def even(n):\n",
    "    for i in range(0,n+1):\n",
    "        if i%2 == 0:\n",
    "            print(i,end = \"-\")\n",
    "n=int(input(\"enter the range : \"))\n",
    "even(n)"
   ]
  },
  {
   "cell_type": "code",
   "execution_count": 11,
   "id": "48fabd5c",
   "metadata": {},
   "outputs": [
    {
     "name": "stdout",
     "output_type": "stream",
     "text": [
      "enter the no :1\n",
      "factorial is one\n"
     ]
    }
   ],
   "source": [
    "# 5! = 5*4*3*2*1 = 120\n",
    "# 0! = 1\n",
    "# 1! = 1\n",
    "\n",
    "n=int(input(\"enter the no :\"))\n",
    "fact=1\n",
    "\n",
    "if n <0:\n",
    "    print('factorial not existttt')\n",
    "elif n == 1:\n",
    "    print(\"factorial is one\")\n",
    "else:\n",
    "    for i in range(n,0,-1):\n",
    "        fact = fact*i \n",
    "    print(fact)"
   ]
  },
  {
   "cell_type": "code",
   "execution_count": 14,
   "id": "e06cea96",
   "metadata": {},
   "outputs": [
    {
     "name": "stdout",
     "output_type": "stream",
     "text": [
      "enter the no..11\n",
      "11 prime no \n"
     ]
    }
   ],
   "source": [
    "n=int(input(\"enter the no..\"))\n",
    "flag=False\n",
    "if n==0 or n==1:\n",
    "    print(n,'not a prime no')\n",
    "elif n>1:\n",
    "    for i in range(2,n):\n",
    "        if n%i==0:\n",
    "            flag = True\n",
    "            break\n",
    "    if flag:\n",
    "        print(n,\"not a prime no \")\n",
    "    else:\n",
    "        print(n,\"prime no \")\n",
    "            "
   ]
  },
  {
   "cell_type": "code",
   "execution_count": 4,
   "id": "da8d1d8a",
   "metadata": {},
   "outputs": [
    {
     "name": "stdout",
     "output_type": "stream",
     "text": [
      "the hcf or gcd is :  5\n"
     ]
    }
   ],
   "source": [
    "# hcf or gcd\n",
    "n1=5\n",
    "n2=5\n",
    " # find which no is smaller\n",
    "if n1>n2:\n",
    "    smaller = n2\n",
    "else:\n",
    "    smaller = n1\n",
    "# algo1\n",
    "for i in range(1,smaller+1):\n",
    "    if((n1%i==0) and(n2%i==0)):\n",
    "        hcf=i\n",
    "print(\"the hcf or gcd is : \", hcf)"
   ]
  },
  {
   "cell_type": "code",
   "execution_count": 5,
   "id": "2a3aca00",
   "metadata": {},
   "outputs": [
    {
     "name": "stdout",
     "output_type": "stream",
     "text": [
      "20 10\n",
      "10 30 50\n"
     ]
    }
   ],
   "source": [
    "# swapping of two number \n",
    "a=10\n",
    "b=20\n",
    "\n",
    "a,b=b,a\n",
    "# multi value assigning \n",
    "print(a,b)"
   ]
  },
  {
   "cell_type": "code",
   "execution_count": 14,
   "id": "b22c4169",
   "metadata": {},
   "outputs": [
    {
     "name": "stdout",
     "output_type": "stream",
     "text": [
      "enter the number :- 324\n",
      "423\n",
      "entre the no : 324\n",
      "423\n"
     ]
    }
   ],
   "source": [
    "# reverse of digits\n",
    "# 324 -- 423\n",
    "\n",
    "no = int(input(\"enter the number :- \"))\n",
    "n=no\n",
    "a=n%10\n",
    "n=n//10\n",
    "b=n%10\n",
    "n=n//10\n",
    "c=n%10\n",
    "\n",
    "num = 100*a+10*b+c\n",
    "print(num)\n",
    "\n",
    "# method 2 \n",
    "\n",
    "no = input(\"entre the no : \")\n",
    "rev = no [::-1]\n",
    "print(rev)"
   ]
  },
  {
   "cell_type": "code",
   "execution_count": 2,
   "id": "decbb05a",
   "metadata": {},
   "outputs": [
    {
     "name": "stdout",
     "output_type": "stream",
     "text": [
      "enter the number of students: 5\n",
      "enter the total marks by each student :90\n",
      "enter the total marks by each student :80\n",
      "enter the total marks by each student :90\n",
      "enter the total marks by each student :70\n",
      "enter the total marks by each student :60\n",
      "average marks of students:  78.0\n"
     ]
    }
   ],
   "source": [
    "'''A program to calculate average marks of\n",
    "n students using a function where n is\n",
    "entered by the user.'''\n",
    "\n",
    "# average marks = total no of marks by all students / total no of students \n",
    "\n",
    "no_of_students = int(input(\"enter the number of students: \"))\n",
    "count = 0\n",
    "tot_marks= 0\n",
    "for i in range(no_of_students):\n",
    "    marks = int(input(\"enter the total marks by each student :\"))\n",
    "    tot_marks = tot_marks + marks\n",
    "    count += 1\n",
    "avg = tot_marks / count\n",
    "print(\"average marks of students: \", avg)\n"
   ]
  },
  {
   "cell_type": "code",
   "execution_count": 1,
   "id": "91b58442",
   "metadata": {},
   "outputs": [
    {
     "name": "stdout",
     "output_type": "stream",
     "text": [
      "enter the radius : 10\n",
      "enter the height : 10\n",
      "The volume of the cylinder :  3140.0\n"
     ]
    }
   ],
   "source": [
    "# volume of the cylinder  = pir**2h\n",
    "\n",
    "r=int(input('enter the radius : '))\n",
    "h=int(input('enter the height : '))\n",
    "\n",
    "vol = 3.14 * (r**2) * h\n",
    "print('The volume of the cylinder : ', vol)\n"
   ]
  },
  {
   "cell_type": "code",
   "execution_count": 6,
   "id": "fb7f2333",
   "metadata": {},
   "outputs": [
    {
     "name": "stdout",
     "output_type": "stream",
     "text": [
      "enter no for which u want to do sum and average : 5\n",
      "enter the number :10\n",
      "enter the number :15\n",
      "enter the number :20\n",
      "enter the number :25\n",
      "enter the number :30\n",
      "The sum of the no is 100 & The average of the numbers is 20.0\n"
     ]
    }
   ],
   "source": [
    "# wap to print the sum and average of the numbers entered by the user  ?\n",
    "\n",
    "n=int(input(\"enter no for which u want to do sum and average : \"))\n",
    "sum=0\n",
    "avg=0\n",
    "for i in range(n):\n",
    "    num=int(input('enter the number :'))\n",
    "    sum+=num\n",
    "    avg=sum/n\n",
    "\n",
    "print('The sum of the no is',sum,'&','The average of the numbers is', avg)    "
   ]
  },
  {
   "cell_type": "code",
   "execution_count": 10,
   "id": "fa87bf4e",
   "metadata": {},
   "outputs": [
    {
     "name": "stdout",
     "output_type": "stream",
     "text": [
      "enter the range of the fibbonaci series :10\n",
      "0\n",
      "1\n",
      "1\n",
      "2\n",
      "3\n",
      "5\n",
      "8\n",
      "13\n",
      "21\n",
      "34\n"
     ]
    }
   ],
   "source": [
    "#  wap to print the fibbonacci series ? \n",
    "# 0 1 1 2 3 5 8 13 21 34 .............\n",
    "\n",
    "r=int(input('enter the range of the fibbonaci series :')) \n",
    "n1=0\n",
    "n2=1\n",
    "\n",
    "next=n2\n",
    "'''I have created next to store the sum of previous two numbers'''\n",
    "count=1\n",
    "\n",
    "while count <= r: \n",
    "    print(n1) \n",
    "    count+=1 \n",
    "    n1,n2=n2,next \n",
    "    next=n1+n2 \n"
   ]
  },
  {
   "cell_type": "code",
   "execution_count": 13,
   "id": "6f4fc735",
   "metadata": {},
   "outputs": [
    {
     "name": "stdout",
     "output_type": "stream",
     "text": [
      "enter numbers until user type 'done'5\n",
      "enter numbers until user type 'done'10\n",
      "The sum of the numbers entered by the user 5\n",
      "enter numbers until user type 'done'15\n",
      "The sum of the numbers entered by the user 15\n",
      "enter numbers until user type 'done'105\n",
      "The sum of the numbers entered by the user 30\n",
      "enter numbers until user type 'done'102\n",
      "The sum of the numbers entered by the user 135\n",
      "enter numbers until user type 'done'41\n",
      "The sum of the numbers entered by the user 237\n",
      "enter numbers until user type 'done'6\n",
      "The sum of the numbers entered by the user 278\n",
      "enter numbers until user type 'done'done\n",
      "The sum of the numbers entered by the user 284\n"
     ]
    }
   ],
   "source": [
    "# wap to repeteadly asks from users some numbers until string 'done' is typed. the program\n",
    "# should print the sum of all numbers entered ?  [cbse 2025 sp]\n",
    "\n",
    "user = input(\"enter numbers until user type 'done'\")\n",
    "tot = 0\n",
    "while user != 'done':\n",
    "    num=int(user)\n",
    "    tot+=num\n",
    "    user = input(\"enter numbers until user type 'done'\")\n",
    "    print('The sum of the numbers entered by the user',tot)\n"
   ]
  },
  {
   "cell_type": "code",
   "execution_count": 1,
   "id": "c0365b85",
   "metadata": {},
   "outputs": [
    {
     "name": "stdout",
     "output_type": "stream",
     "text": [
      "203\n",
      "217\n",
      "224\n",
      "231\n",
      "238\n",
      "252\n",
      "259\n",
      "266\n",
      "273\n",
      "287\n",
      "294\n"
     ]
    }
   ],
   "source": [
    "# wap to find all such numbers which are divisble by 7 but are not multiple of 5 between 200 and 300 \n",
    "# both included ?\n",
    "\n",
    "for i in range(200,301):\n",
    "    if i%7 == 0 and i%5 !=0 :\n",
    "        print(i)"
   ]
  },
  {
   "cell_type": "code",
   "execution_count": 5,
   "id": "40f2183b",
   "metadata": {},
   "outputs": [
    {
     "name": "stdout",
     "output_type": "stream",
     "text": [
      "20\n"
     ]
    }
   ],
   "source": [
    "# write a function 'evensum(numbers)' to add those values in the list of numbers which are not odd ?\n",
    "\n",
    "def evensum(numbers):\n",
    "    even_sum=0\n",
    "    for n in range(numbers):\n",
    "        if n%2==0:\n",
    "            even_sum+=n\n",
    "    print(even_sum)\n",
    "\n",
    "evensum(10)"
   ]
  },
  {
   "cell_type": "code",
   "execution_count": null,
   "id": "7ba2b299",
   "metadata": {},
   "outputs": [],
   "source": [
    "# waf in python to add and display the product details table named as \n",
    "# products (p_id,p_name,category,price,stock) and display all details where stock is less than 10 ?\n",
    "\n",
    "def displayproducts():\n",
    "    import mysql.connector as sql\n",
    "    db = sql.connect(host='localhost',user='root',password='Exam')\n",
    "    cur=db.cursor()\n",
    "    while True:\n",
    "        p_id = int(input(\"enter the product id\"))\n",
    "        p_name = input(\"enter the product name \")\n",
    "        category = input(\"enter the category\")\n",
    "        price = float (input(\"enter the price of the product:\"))\n",
    "        stock = int(input(\"enter the stock\"))\n",
    "        cur.execute('insert into products (p_id,p_name,category,price,stock) values (%s,%s,%s,%s,%s)',(p_id,p_name,category,price,stock))\n",
    "        db.commit()\n",
    "        ch = input(\"enter q to exit\")\n",
    "        if ch in \"Qq\":\n",
    "            break\n",
    "    cur.execute(\"select * from products where stock  <  10 \")\n",
    "    data = cur.fetchall()\n",
    "    for row in data:\n",
    "        print(row)\n",
    "    db.close()"
   ]
  }
 ],
 "metadata": {
  "kernelspec": {
   "display_name": "Python 3 (ipykernel)",
   "language": "python",
   "name": "python3"
  },
  "language_info": {
   "codemirror_mode": {
    "name": "ipython",
    "version": 3
   },
   "file_extension": ".py",
   "mimetype": "text/x-python",
   "name": "python",
   "nbconvert_exporter": "python",
   "pygments_lexer": "ipython3",
   "version": "3.11.5"
  }
 },
 "nbformat": 4,
 "nbformat_minor": 5
}
