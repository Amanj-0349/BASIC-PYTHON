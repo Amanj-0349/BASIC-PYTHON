{
 "cells": [
  {
   "cell_type": "code",
   "execution_count": 6,
   "id": "2e431a06",
   "metadata": {},
   "outputs": [
    {
     "name": "stdout",
     "output_type": "stream",
     "text": [
      "enter the range : 50\n",
      "0-2-4-6-8-10-12-14-16-18-20-22-24-26-28-30-32-34-36-38-40-42-44-46-48-50-"
     ]
    }
   ],
   "source": [
    "def odd(n):\n",
    "    for i in range(0,n+1):\n",
    "        if i%2 != 0:\n",
    "            print(i,end = \"-\")\n",
    "\n",
    "\n",
    "def even(n):\n",
    "    for i in range(0,n+1):\n",
    "        if i%2 == 0:\n",
    "            print(i,end = \"-\")\n",
    "n=int(input(\"enter the range : \"))\n",
    "even(n)"
   ]
  },
  {
   "cell_type": "code",
   "execution_count": 11,
   "id": "48fabd5c",
   "metadata": {},
   "outputs": [
    {
     "name": "stdout",
     "output_type": "stream",
     "text": [
      "enter the no :1\n",
      "factorial is one\n"
     ]
    }
   ],
   "source": [
    "# 5! = 5*4*3*2*1 = 120\n",
    "# 0! = 1\n",
    "# 1! = 1\n",
    "\n",
    "n=int(input(\"enter the no :\"))\n",
    "fact=1\n",
    "\n",
    "if n <0:\n",
    "    print('factorial not existttt')\n",
    "elif n == 1:\n",
    "    print(\"factorial is one\")\n",
    "else:\n",
    "    for i in range(n,0,-1):\n",
    "        fact = fact*i \n",
    "    print(fact)"
   ]
  },
  {
   "cell_type": "code",
   "execution_count": 14,
   "id": "e06cea96",
   "metadata": {},
   "outputs": [
    {
     "name": "stdout",
     "output_type": "stream",
     "text": [
      "enter the no..11\n",
      "11 prime no \n"
     ]
    }
   ],
   "source": [
    "n=int(input(\"enter the no..\"))\n",
    "flag=False\n",
    "if n==0 or n==1:\n",
    "    print(n,'not a prime no')\n",
    "elif n>1:\n",
    "    for i in range(2,n):\n",
    "        if n%i==0:\n",
    "            flag = True\n",
    "            break\n",
    "    if flag:\n",
    "        print(n,\"not a prime no \")\n",
    "    else:\n",
    "        print(n,\"prime no \")\n",
    "            "
   ]
  },
  {
   "cell_type": "code",
   "execution_count": 4,
   "id": "da8d1d8a",
   "metadata": {},
   "outputs": [
    {
     "name": "stdout",
     "output_type": "stream",
     "text": [
      "the hcf or gcd is :  5\n"
     ]
    }
   ],
   "source": [
    "# hcf or gcd\n",
    "n1=5\n",
    "n2=5\n",
    " # find which no is smaller\n",
    "if n1>n2:\n",
    "    smaller = n2\n",
    "else:\n",
    "    smaller = n1\n",
    "# algo1\n",
    "for i in range(1,smaller+1):\n",
    "    if((n1%i==0) and(n2%i==0)):\n",
    "        hcf=i\n",
    "print(\"the hcf or gcd is : \", hcf)"
   ]
  },
  {
   "cell_type": "code",
   "execution_count": 5,
   "id": "2a3aca00",
   "metadata": {},
   "outputs": [
    {
     "name": "stdout",
     "output_type": "stream",
     "text": [
      "20 10\n",
      "10 30 50\n"
     ]
    }
   ],
   "source": [
    "# swapping of two number \n",
    "a=10\n",
    "b=20\n",
    "\n",
    "a,b=b,a\n",
    "# multi value assigning \n",
    "print(a,b)"
   ]
  },
  {
   "cell_type": "code",
   "execution_count": 14,
   "id": "b22c4169",
   "metadata": {},
   "outputs": [
    {
     "name": "stdout",
     "output_type": "stream",
     "text": [
      "enter the number :- 324\n",
      "423\n",
      "entre the no : 324\n",
      "423\n"
     ]
    }
   ],
   "source": [
    "# reverse of digits\n",
    "# 324 -- 423\n",
    "\n",
    "no = int(input(\"enter the number :- \"))\n",
    "n=no\n",
    "a=n%10\n",
    "n=n//10\n",
    "b=n%10\n",
    "n=n//10\n",
    "c=n%10\n",
    "\n",
    "num = 100*a+10*b+c\n",
    "print(num)\n",
    "\n",
    "# method 2 \n",
    "\n",
    "no = input(\"entre the no : \")\n",
    "rev = no [::-1]\n",
    "print(rev)"
   ]
  },
  {
   "cell_type": "code",
   "execution_count": 2,
   "id": "decbb05a",
   "metadata": {},
   "outputs": [
    {
     "name": "stdout",
     "output_type": "stream",
     "text": [
      "enter the number of students: 5\n",
      "enter the total marks by each student :90\n",
      "enter the total marks by each student :80\n",
      "enter the total marks by each student :90\n",
      "enter the total marks by each student :70\n",
      "enter the total marks by each student :60\n",
      "average marks of students:  78.0\n"
     ]
    }
   ],
   "source": [
    "'''A program to calculate average marks of\n",
    "n students using a function where n is\n",
    "entered by the user.'''\n",
    "\n",
    "# average marks = total no of marks by all students / total no of students \n",
    "\n",
    "no_of_students = int(input(\"enter the number of students: \"))\n",
    "count = 0\n",
    "tot_marks= 0\n",
    "for i in range(no_of_students):\n",
    "    marks = int(input(\"enter the total marks by each student :\"))\n",
    "    tot_marks = tot_marks + marks\n",
    "    count += 1\n",
    "avg = tot_marks / count\n",
    "print(\"average marks of students: \", avg)\n"
   ]
  },
  {
   "cell_type": "code",
   "execution_count": null,
   "id": "91b58442",
   "metadata": {},
   "outputs": [],
   "source": []
  }
 ],
 "metadata": {
  "kernelspec": {
   "display_name": "Python 3 (ipykernel)",
   "language": "python",
   "name": "python3"
  },
  "language_info": {
   "codemirror_mode": {
    "name": "ipython",
    "version": 3
   },
   "file_extension": ".py",
   "mimetype": "text/x-python",
   "name": "python",
   "nbconvert_exporter": "python",
   "pygments_lexer": "ipython3",
   "version": "3.11.5"
  }
 },
 "nbformat": 4,
 "nbformat_minor": 5
}
