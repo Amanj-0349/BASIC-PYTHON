{
 "cells": [
  {
   "cell_type": "markdown",
   "id": "5aaf8689",
   "metadata": {},
   "source": [
    "# tuple and dictionary "
   ]
  },
  {
   "cell_type": "code",
   "execution_count": 2,
   "id": "7e3fa396",
   "metadata": {},
   "outputs": [
    {
     "name": "stdout",
     "output_type": "stream",
     "text": [
      "(10, 20, 30)\n",
      "(10, 20, 30)\n",
      "(10, 20, 30)\n",
      "(10, 20, 30)\n"
     ]
    }
   ],
   "source": [
    "tup1 = (10,20,30)\n",
    "tup2 = 10,20,30\n",
    "tup3 = 10,20,30,\n",
    "tup4 = (10,20,30,)\n",
    "print(tup1)\n",
    "print(tup2)\n",
    "print(tup3)\n",
    "print(tup4)"
   ]
  },
  {
   "cell_type": "code",
   "execution_count": 4,
   "id": "faa10896",
   "metadata": {},
   "outputs": [
    {
     "name": "stdout",
     "output_type": "stream",
     "text": [
      "{'key': 'value'}\n"
     ]
    }
   ],
   "source": [
    "dict1={\"key\":\"value\"} # key - index (immutable)\n",
    "print(dict1)"
   ]
  },
  {
   "cell_type": "markdown",
   "id": "3d277c4f",
   "metadata": {},
   "source": [
    "1. immutable - tuple , string , int , float \n",
    "2. mutable  - list , dict"
   ]
  },
  {
   "cell_type": "code",
   "execution_count": 15,
   "id": "74f24543",
   "metadata": {},
   "outputs": [
    {
     "data": {
      "text/plain": [
       "{'A': 1, 'B': 2, 'C': 30, 'E': 70, 'F': 60}"
      ]
     },
     "execution_count": 15,
     "metadata": {},
     "output_type": "execute_result"
    }
   ],
   "source": [
    "dict1={\"A\":1,\"B\":2,\"C\":3}\n",
    "dict1[\"E\"]=70\n",
    "dict1[\"C\"]=30\n",
    "dict1[\"F\"]=60\n",
    "dict1"
   ]
  },
  {
   "cell_type": "code",
   "execution_count": 9,
   "id": "4daf75df",
   "metadata": {},
   "outputs": [
    {
     "data": {
      "text/plain": [
       "[10, 50, 30]"
      ]
     },
     "execution_count": 9,
     "metadata": {},
     "output_type": "execute_result"
    }
   ],
   "source": [
    "l= [10,20,30]\n",
    "l[1]=50\n",
    "l"
   ]
  },
  {
   "cell_type": "code",
   "execution_count": 16,
   "id": "5f586a81",
   "metadata": {},
   "outputs": [
    {
     "name": "stdout",
     "output_type": "stream",
     "text": [
      "{'A': 1, 'B': 2, 'C': 30, 'E': 70, 'F': 60}\n",
      "{'A': 1, 'B': 2, 'C': 30, 'E': 70, 'F': 60, 2: 90}\n",
      "{'A': 1, 'B': 2, 'C': 30, 'E': 70, 'F': 60, 2: 90, 'G': 100}\n"
     ]
    }
   ],
   "source": [
    "dict1={\"A\":1,\"B\":2,\"C\":3}\n",
    "dict1[\"E\"]=70\n",
    "dict1[\"C\"]=30\n",
    "dict1[\"F\"]=60\n",
    "print(dict1)\n",
    "dict1[2]=90\n",
    "print(dict1)\n",
    "dict1[\"G\"]=100\n",
    "print(dict1)"
   ]
  },
  {
   "cell_type": "code",
   "execution_count": 21,
   "id": "f5226aea",
   "metadata": {},
   "outputs": [
    {
     "name": "stdout",
     "output_type": "stream",
     "text": [
      "dict_items([('A', 1), ('B', 2), ('C', 30), ('E', 70), ('F', 60), (2, 90), ('G', 100)])\n",
      "dict_values([1, 2, 30, 70, 60, 90, 100])\n",
      "dict_keys(['A', 'B', 'C', 'E', 'F', 2, 'G'])\n",
      "{'A': 1, 'B': 2, 'C': 30, 'E': 70, 'F': 60, 2: 90, 'G': 100, 'h': 'aman jha'}\n"
     ]
    }
   ],
   "source": [
    "dict1={\"A\":1,\"B\":2,\"C\":3}\n",
    "dict1[\"E\"]=70\n",
    "dict1[\"C\"]=30\n",
    "dict1[\"F\"]=60\n",
    "dict1[2]=90\n",
    "dict1[\"G\"]=100\n",
    "print(dict1.items())\n",
    "print(dict1.values())\n",
    "print(dict1.keys())\n",
    "dict1.update({'h':\"aman jha\"}) \n",
    "# it is used to add a new key value pair in a dictionary \n",
    "print(dict1)"
   ]
  },
  {
   "cell_type": "code",
   "execution_count": 25,
   "id": "c4af3cb6",
   "metadata": {},
   "outputs": [
    {
     "name": "stdout",
     "output_type": "stream",
     "text": [
      "out of indentation\n",
      "function body\n",
      "hello world\n"
     ]
    }
   ],
   "source": [
    "# functions \n",
    "# def -  define \n",
    "# functions name must be end by parenthesis and colon\n",
    "def function1(): # function header\n",
    "    print(\"function body\")\n",
    "    print(\"hello world\")\n",
    "    \n",
    "print(\"out of indentation\")\n",
    "# if you want to use the function then u have to call it (simply u just have to write the \n",
    "# function name u want to use )\n",
    "\n",
    "function1() # function call\n"
   ]
  },
  {
   "cell_type": "markdown",
   "id": "c4b066c5",
   "metadata": {},
   "source": [
    "# parameters and argument "
   ]
  },
  {
   "cell_type": "code",
   "execution_count": 34,
   "id": "b5d760d4",
   "metadata": {},
   "outputs": [
    {
     "name": "stdout",
     "output_type": "stream",
     "text": [
      "200.0\n"
     ]
    },
    {
     "data": {
      "text/plain": [
       "200.0"
      ]
     },
     "execution_count": 34,
     "metadata": {},
     "output_type": "execute_result"
    }
   ],
   "source": [
    "def si(p,r,t=10): # at the time of function definition formal parameters (parameters)\n",
    "    # default argument \n",
    "    si = p*r*t / 100\n",
    "    print(si)\n",
    "    return si\n",
    "\n",
    "\n",
    "# when i have to call the si then at that time i have to pass some actual parameters (arguments)\n",
    "si(1000,4,5) # positional argument"
   ]
  }
 ],
 "metadata": {
  "kernelspec": {
   "display_name": "Python 3 (ipykernel)",
   "language": "python",
   "name": "python3"
  },
  "language_info": {
   "codemirror_mode": {
    "name": "ipython",
    "version": 3
   },
   "file_extension": ".py",
   "mimetype": "text/x-python",
   "name": "python",
   "nbconvert_exporter": "python",
   "pygments_lexer": "ipython3",
   "version": "3.11.5"
  }
 },
 "nbformat": 4,
 "nbformat_minor": 5
}
