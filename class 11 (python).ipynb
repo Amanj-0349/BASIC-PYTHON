{
 "cells": [
  {
   "cell_type": "markdown",
   "id": "21ec0bfb",
   "metadata": {},
   "source": [
    "# STRING "
   ]
  },
  {
   "cell_type": "markdown",
   "id": "3cd35e2f",
   "metadata": {},
   "source": [
    "ANYTHING IN BETWEEN SINGLE AND DOUBLE QUOTES IS CALLED AS STRING \n",
    "WHENEVER WE USE SINGLE QUOTES IS ALSO TERMED AS CHAR MEANS IT IS USED WITH SINGLE CHARACTER"
   ]
  },
  {
   "cell_type": "code",
   "execution_count": 1,
   "id": "eac100ec",
   "metadata": {},
   "outputs": [],
   "source": [
    "a='A' # single char"
   ]
  },
  {
   "cell_type": "code",
   "execution_count": 2,
   "id": "fb3ae3c5",
   "metadata": {},
   "outputs": [
    {
     "data": {
      "text/plain": [
       "'Aman jha'"
      ]
     },
     "execution_count": 2,
     "metadata": {},
     "output_type": "execute_result"
    }
   ],
   "source": [
    "str1 = \"Aman jha\"\n",
    "str1"
   ]
  },
  {
   "cell_type": "markdown",
   "id": "4e89e8c9",
   "metadata": {},
   "source": [
    "priority of both single quotes and double quotes are same "
   ]
  },
  {
   "cell_type": "code",
   "execution_count": 4,
   "id": "b73ab970",
   "metadata": {},
   "outputs": [
    {
     "name": "stdout",
     "output_type": "stream",
     "text": [
      "hello my name \n",
      "is aman jha\n"
     ]
    }
   ],
   "source": [
    "# multiline string \n",
    "a='''hello my name \n",
    "is aman jha'''\n",
    "print(a)"
   ]
  },
  {
   "cell_type": "markdown",
   "id": "e00f7b51",
   "metadata": {},
   "source": [
    "### indexing "
   ]
  },
  {
   "cell_type": "code",
   "execution_count": 9,
   "id": "56c8e9b3",
   "metadata": {},
   "outputs": [
    {
     "name": "stdout",
     "output_type": "stream",
     "text": [
      "H\n",
      "d\n"
     ]
    },
    {
     "data": {
      "text/plain": [
       "11"
      ]
     },
     "execution_count": 9,
     "metadata": {},
     "output_type": "execute_result"
    }
   ],
   "source": [
    "a=\"Hello world\"\n",
    "print(a[0]) # positive indexing\n",
    "print(a[-1]) # negative indexing\n",
    "# note  - you can only retrieve one value at a time using indexing \n",
    "# the size of a is 11\n",
    "len(a) \n",
    "# len() is a inbuilt function used to find out the length of the variable \n",
    "# len() is only used with the sequence datatype \n",
    "# sequence -  list string and tuple "
   ]
  },
  {
   "cell_type": "markdown",
   "id": "b3a2c21c",
   "metadata": {},
   "source": [
    "# slicing "
   ]
  },
  {
   "cell_type": "code",
   "execution_count": 10,
   "id": "5910fc45",
   "metadata": {},
   "outputs": [
    {
     "data": {
      "text/plain": [
       "'hello world'"
      ]
     },
     "execution_count": 10,
     "metadata": {},
     "output_type": "execute_result"
    }
   ],
   "source": [
    "a= \"hello world\"\n",
    "a[0:]"
   ]
  },
  {
   "cell_type": "code",
   "execution_count": 11,
   "id": "f469071c",
   "metadata": {},
   "outputs": [
    {
     "data": {
      "text/plain": [
       "'dlrow olleh'"
      ]
     },
     "execution_count": 11,
     "metadata": {},
     "output_type": "execute_result"
    }
   ],
   "source": [
    "a= \"hello world\"\n",
    "a[::-1]\n",
    "# reverse trick for any sequence "
   ]
  },
  {
   "cell_type": "code",
   "execution_count": 12,
   "id": "7043cf3f",
   "metadata": {},
   "outputs": [
    {
     "data": {
      "text/plain": [
       "'hlowrd'"
      ]
     },
     "execution_count": 12,
     "metadata": {},
     "output_type": "execute_result"
    }
   ],
   "source": [
    "a= \"hello world\"\n",
    "a[0:11:2]"
   ]
  },
  {
   "cell_type": "code",
   "execution_count": 15,
   "id": "2b1ba08d",
   "metadata": {},
   "outputs": [
    {
     "ename": "IndexError",
     "evalue": "string index out of range",
     "output_type": "error",
     "traceback": [
      "\u001b[1;31m---------------------------------------------------------------------------\u001b[0m",
      "\u001b[1;31mIndexError\u001b[0m                                Traceback (most recent call last)",
      "Cell \u001b[1;32mIn[15], line 2\u001b[0m\n\u001b[0;32m      1\u001b[0m a\u001b[38;5;241m=\u001b[39m \u001b[38;5;124m\"\u001b[39m\u001b[38;5;124mhello world\u001b[39m\u001b[38;5;124m\"\u001b[39m\n\u001b[1;32m----> 2\u001b[0m a[\u001b[38;5;241m100\u001b[39m]\n",
      "\u001b[1;31mIndexError\u001b[0m: string index out of range"
     ]
    }
   ],
   "source": [
    "a= \"hello world\"\n",
    "a[100]\n",
    "# you can not go out of length in indexing "
   ]
  },
  {
   "cell_type": "code",
   "execution_count": 14,
   "id": "6e1699c2",
   "metadata": {},
   "outputs": [
    {
     "data": {
      "text/plain": [
       "'hello world'"
      ]
     },
     "execution_count": 14,
     "metadata": {},
     "output_type": "execute_result"
    }
   ],
   "source": [
    "a= \"hello world\"\n",
    "a[:100] # we can go out of the length"
   ]
  },
  {
   "cell_type": "code",
   "execution_count": 16,
   "id": "888fc5b9",
   "metadata": {},
   "outputs": [
    {
     "data": {
      "text/plain": [
       "''"
      ]
     },
     "execution_count": 16,
     "metadata": {},
     "output_type": "execute_result"
    }
   ],
   "source": [
    "a= \"hello world\"\n",
    "a[100:100]"
   ]
  },
  {
   "cell_type": "code",
   "execution_count": 17,
   "id": "bb1435ab",
   "metadata": {},
   "outputs": [
    {
     "data": {
      "text/plain": [
       "''"
      ]
     },
     "execution_count": 17,
     "metadata": {},
     "output_type": "execute_result"
    }
   ],
   "source": [
    "a= \"hello world\"\n",
    "a[1:1]"
   ]
  },
  {
   "cell_type": "markdown",
   "id": "da7c42b8",
   "metadata": {},
   "source": [
    "in both line 16 & 17 starting and ending point is same"
   ]
  },
  {
   "cell_type": "markdown",
   "id": "b3bdd49a",
   "metadata": {},
   "source": [
    "note - string is immutable "
   ]
  },
  {
   "cell_type": "code",
   "execution_count": 18,
   "id": "2e8c8247",
   "metadata": {},
   "outputs": [
    {
     "data": {
      "text/plain": [
       "'amanjha'"
      ]
     },
     "execution_count": 18,
     "metadata": {},
     "output_type": "execute_result"
    }
   ],
   "source": [
    "a=\"aman\"+\"jha\"\n",
    "# concatenation \n",
    "a"
   ]
  },
  {
   "cell_type": "code",
   "execution_count": 19,
   "id": "1414b2c6",
   "metadata": {},
   "outputs": [
    {
     "ename": "TypeError",
     "evalue": "'str' object does not support item assignment",
     "output_type": "error",
     "traceback": [
      "\u001b[1;31m---------------------------------------------------------------------------\u001b[0m",
      "\u001b[1;31mTypeError\u001b[0m                                 Traceback (most recent call last)",
      "Cell \u001b[1;32mIn[19], line 2\u001b[0m\n\u001b[0;32m      1\u001b[0m a\u001b[38;5;241m=\u001b[39m\u001b[38;5;124m\"\u001b[39m\u001b[38;5;124maman\u001b[39m\u001b[38;5;124m\"\u001b[39m\n\u001b[1;32m----> 2\u001b[0m a[\u001b[38;5;241m0\u001b[39m]\u001b[38;5;241m=\u001b[39m\u001b[38;5;124m\"\u001b[39m\u001b[38;5;124mA\u001b[39m\u001b[38;5;124m\"\u001b[39m\n\u001b[0;32m      3\u001b[0m \u001b[38;5;28mprint\u001b[39m(a)\n",
      "\u001b[1;31mTypeError\u001b[0m: 'str' object does not support item assignment"
     ]
    }
   ],
   "source": [
    "a=\"aman\"\n",
    "a[0]=\"A\"\n",
    "print(a)\n",
    "# we can not change the value at any index in string after declaring it "
   ]
  },
  {
   "cell_type": "code",
   "execution_count": 21,
   "id": "60fe1a3e",
   "metadata": {},
   "outputs": [
    {
     "name": "stdout",
     "output_type": "stream",
     "text": [
      "AmanAman\n"
     ]
    }
   ],
   "source": [
    "# repetion \n",
    "a=\"Aman\"*2\n",
    "print(a)"
   ]
  },
  {
   "cell_type": "code",
   "execution_count": 23,
   "id": "faf70aeb",
   "metadata": {},
   "outputs": [
    {
     "ename": "NameError",
     "evalue": "name 'a' is not defined",
     "output_type": "error",
     "traceback": [
      "\u001b[1;31m---------------------------------------------------------------------------\u001b[0m",
      "\u001b[1;31mNameError\u001b[0m                                 Traceback (most recent call last)",
      "Cell \u001b[1;32mIn[23], line 4\u001b[0m\n\u001b[0;32m      2\u001b[0m a\u001b[38;5;241m=\u001b[39m\u001b[38;5;124m\"\u001b[39m\u001b[38;5;124mdelete\u001b[39m\u001b[38;5;124m\"\u001b[39m\n\u001b[0;32m      3\u001b[0m \u001b[38;5;28;01mdel\u001b[39;00m a\n\u001b[1;32m----> 4\u001b[0m \u001b[38;5;28mprint\u001b[39m(a)\n",
      "\u001b[1;31mNameError\u001b[0m: name 'a' is not defined"
     ]
    }
   ],
   "source": [
    "# deleting \n",
    "a=\"delete\"\n",
    "del a\n",
    "# by using del keyword u can delete a string\n",
    "print(a)"
   ]
  },
  {
   "cell_type": "code",
   "execution_count": 24,
   "id": "733ace55",
   "metadata": {},
   "outputs": [
    {
     "name": "stdout",
     "output_type": "stream",
     "text": [
      "amana\n"
     ]
    }
   ],
   "source": [
    "# updating a string \n",
    "a=\"aman\"\n",
    "print(a+a[0])"
   ]
  },
  {
   "cell_type": "code",
   "execution_count": 28,
   "id": "0a473a31",
   "metadata": {},
   "outputs": [
    {
     "ename": "TypeError",
     "evalue": "can only concatenate str (not \"int\") to str",
     "output_type": "error",
     "traceback": [
      "\u001b[1;31m---------------------------------------------------------------------------\u001b[0m",
      "\u001b[1;31mTypeError\u001b[0m                                 Traceback (most recent call last)",
      "Cell \u001b[1;32mIn[28], line 3\u001b[0m\n\u001b[0;32m      1\u001b[0m a\u001b[38;5;241m=\u001b[39m \u001b[38;5;124m\"\u001b[39m\u001b[38;5;124mhello world\u001b[39m\u001b[38;5;124m\"\u001b[39m\n\u001b[0;32m      2\u001b[0m b\u001b[38;5;241m=\u001b[39m[\u001b[38;5;241m10\u001b[39m,\u001b[38;5;241m20\u001b[39m]\n\u001b[1;32m----> 3\u001b[0m \u001b[38;5;28mprint\u001b[39m(a\u001b[38;5;241m+\u001b[39mb[\u001b[38;5;241m0\u001b[39m])\n",
      "\u001b[1;31mTypeError\u001b[0m: can only concatenate str (not \"int\") to str"
     ]
    }
   ],
   "source": [
    "a= \"hello world\"\n",
    "b=[10,20]\n",
    "print(a+b[0])"
   ]
  },
  {
   "cell_type": "markdown",
   "id": "16b7a56e",
   "metadata": {},
   "source": [
    "# SOME COMMON FUNCTIONS"
   ]
  },
  {
   "cell_type": "code",
   "execution_count": 29,
   "id": "168f6c46",
   "metadata": {},
   "outputs": [
    {
     "name": "stdout",
     "output_type": "stream",
     "text": [
      "HELLO WORLD\n"
     ]
    }
   ],
   "source": [
    "# UPPER\n",
    "a= \"hello world\"\n",
    "print(a.upper())"
   ]
  },
  {
   "cell_type": "code",
   "execution_count": 30,
   "id": "7b93a6d4",
   "metadata": {},
   "outputs": [
    {
     "data": {
      "text/plain": [
       "'hello world'"
      ]
     },
     "execution_count": 30,
     "metadata": {},
     "output_type": "execute_result"
    }
   ],
   "source": [
    "# lower\n",
    "a=\"HELLO WORLD\"\n",
    "a.lower()"
   ]
  },
  {
   "cell_type": "code",
   "execution_count": 31,
   "id": "d81487d1",
   "metadata": {},
   "outputs": [
    {
     "name": "stdout",
     "output_type": "stream",
     "text": [
      "hello world\n"
     ]
    }
   ],
   "source": [
    "# strip\n",
    "a= \"    hello world   \"\n",
    "print(a.strip())"
   ]
  },
  {
   "cell_type": "code",
   "execution_count": 32,
   "id": "5e2edff9",
   "metadata": {},
   "outputs": [
    {
     "data": {
      "text/plain": [
       "'pagal world'"
      ]
     },
     "execution_count": 32,
     "metadata": {},
     "output_type": "execute_result"
    }
   ],
   "source": [
    "# replace\n",
    "a= \"hello world\"\n",
    "a.replace(\"hello\",\"pagal\")"
   ]
  },
  {
   "cell_type": "markdown",
   "id": "32ea4eef",
   "metadata": {},
   "source": [
    "FORMATTING "
   ]
  },
  {
   "cell_type": "code",
   "execution_count": 36,
   "id": "a3270b57",
   "metadata": {},
   "outputs": [
    {
     "name": "stdout",
     "output_type": "stream",
     "text": [
      "My name is aman and i live in sant nagar\n"
     ]
    }
   ],
   "source": [
    "a=\"aman\"\n",
    "b=\"sant nagar\"\n",
    "print(f\"My name is {a} and i live in {b}\")"
   ]
  },
  {
   "cell_type": "markdown",
   "id": "aa594de3",
   "metadata": {},
   "source": [
    "# IN OPERATOR "
   ]
  },
  {
   "cell_type": "code",
   "execution_count": 40,
   "id": "816b7ed6",
   "metadata": {},
   "outputs": [
    {
     "data": {
      "text/plain": [
       "True"
      ]
     },
     "execution_count": 40,
     "metadata": {},
     "output_type": "execute_result"
    }
   ],
   "source": [
    "a=\"aman jha\"\n",
    "\"b\" in a\n",
    "\"a\" in a\n",
    "# in is known as membership operator "
   ]
  },
  {
   "cell_type": "markdown",
   "id": "68060f3b",
   "metadata": {},
   "source": [
    "# IS operator "
   ]
  },
  {
   "cell_type": "markdown",
   "id": "533e4e2b",
   "metadata": {},
   "source": [
    "is only checks the address not the value but in string and in integer its exception"
   ]
  },
  {
   "cell_type": "code",
   "execution_count": 41,
   "id": "e7ec3556",
   "metadata": {},
   "outputs": [
    {
     "data": {
      "text/plain": [
       "True"
      ]
     },
     "execution_count": 41,
     "metadata": {},
     "output_type": "execute_result"
    }
   ],
   "source": [
    "a=\"a\"\n",
    "b=\"a\"\n",
    "a is b\n"
   ]
  },
  {
   "cell_type": "code",
   "execution_count": 42,
   "id": "7be4442d",
   "metadata": {},
   "outputs": [
    {
     "data": {
      "text/plain": [
       "True"
      ]
     },
     "execution_count": 42,
     "metadata": {},
     "output_type": "execute_result"
    }
   ],
   "source": [
    "a=10\n",
    "b=10\n",
    "a is b"
   ]
  },
  {
   "cell_type": "code",
   "execution_count": 43,
   "id": "dcb75ba3",
   "metadata": {},
   "outputs": [
    {
     "data": {
      "text/plain": [
       "False"
      ]
     },
     "execution_count": 43,
     "metadata": {},
     "output_type": "execute_result"
    }
   ],
   "source": [
    "a=10.0\n",
    "b=10.0\n",
    "a is b"
   ]
  },
  {
   "cell_type": "code",
   "execution_count": 44,
   "id": "61003cd2",
   "metadata": {},
   "outputs": [
    {
     "data": {
      "text/plain": [
       "False"
      ]
     },
     "execution_count": 44,
     "metadata": {},
     "output_type": "execute_result"
    }
   ],
   "source": [
    "a=[10]\n",
    "b=[10]\n",
    "a is b"
   ]
  },
  {
   "cell_type": "code",
   "execution_count": 45,
   "id": "a89c0460",
   "metadata": {},
   "outputs": [
    {
     "data": {
      "text/plain": [
       "False"
      ]
     },
     "execution_count": 45,
     "metadata": {},
     "output_type": "execute_result"
    }
   ],
   "source": [
    "a=10,\n",
    "b=10,\n",
    "a is b"
   ]
  },
  {
   "cell_type": "code",
   "execution_count": 46,
   "id": "5b578d53",
   "metadata": {},
   "outputs": [
    {
     "data": {
      "text/plain": [
       "False"
      ]
     },
     "execution_count": 46,
     "metadata": {},
     "output_type": "execute_result"
    }
   ],
   "source": [
    "a={1:1}\n",
    "b={1:1}\n",
    "a is b"
   ]
  },
  {
   "cell_type": "markdown",
   "id": "97e0a9a3",
   "metadata": {},
   "source": [
    "# ESCAPE CHARACTERS IN STRING "
   ]
  },
  {
   "cell_type": "code",
   "execution_count": 50,
   "id": "08ba1db1",
   "metadata": {},
   "outputs": [
    {
     "name": "stdout",
     "output_type": "stream",
     "text": [
      "hello\"world\n"
     ]
    }
   ],
   "source": [
    "print(\"hello\"+\"\\\"\"+\"world\")"
   ]
  },
  {
   "cell_type": "code",
   "execution_count": 49,
   "id": "acce960e",
   "metadata": {},
   "outputs": [
    {
     "ename": "SyntaxError",
     "evalue": "unterminated string literal (detected at line 1) (1029235617.py, line 1)",
     "output_type": "error",
     "traceback": [
      "\u001b[1;36m  Cell \u001b[1;32mIn[49], line 1\u001b[1;36m\u001b[0m\n\u001b[1;33m    print(\"hello\"world\")\u001b[0m\n\u001b[1;37m                      ^\u001b[0m\n\u001b[1;31mSyntaxError\u001b[0m\u001b[1;31m:\u001b[0m unterminated string literal (detected at line 1)\n"
     ]
    }
   ],
   "source": [
    "print(\"hello\"world\")"
   ]
  },
  {
   "cell_type": "code",
   "execution_count": 51,
   "id": "730c84d9",
   "metadata": {},
   "outputs": [
    {
     "name": "stdout",
     "output_type": "stream",
     "text": [
      "hello\n",
      " aman jha\n"
     ]
    }
   ],
   "source": [
    "print(\"hello\\n aman jha\")\n",
    "# \\n newline escape sequence"
   ]
  },
  {
   "cell_type": "code",
   "execution_count": 52,
   "id": "41b9631c",
   "metadata": {},
   "outputs": [
    {
     "name": "stdout",
     "output_type": "stream",
     "text": [
      "Hello\r",
      "World!\n"
     ]
    }
   ],
   "source": [
    "txt = \"Hello\\rWorld!\"\n",
    "print(txt) "
   ]
  },
  {
   "cell_type": "code",
   "execution_count": 54,
   "id": "2b01674a",
   "metadata": {},
   "outputs": [
    {
     "name": "stdout",
     "output_type": "stream",
     "text": [
      "A\n"
     ]
    }
   ],
   "source": [
    "txt = \"\\101\"\n",
    "print(txt) "
   ]
  },
  {
   "cell_type": "code",
   "execution_count": 55,
   "id": "5ea755d6",
   "metadata": {},
   "outputs": [
    {
     "data": {
      "text/plain": [
       "['hello', 'world']"
      ]
     },
     "execution_count": 55,
     "metadata": {},
     "output_type": "execute_result"
    }
   ],
   "source": [
    "a= \"hello world\"\n",
    "a.split()"
   ]
  },
  {
   "cell_type": "code",
   "execution_count": 56,
   "id": "ceedae1f",
   "metadata": {},
   "outputs": [
    {
     "data": {
      "text/plain": [
       "True"
      ]
     },
     "execution_count": 56,
     "metadata": {},
     "output_type": "execute_result"
    }
   ],
   "source": [
    "a= \"hello world\"\n",
    "a.islower()"
   ]
  },
  {
   "cell_type": "code",
   "execution_count": 57,
   "id": "1b181f17",
   "metadata": {},
   "outputs": [
    {
     "data": {
      "text/plain": [
       "False"
      ]
     },
     "execution_count": 57,
     "metadata": {},
     "output_type": "execute_result"
    }
   ],
   "source": [
    "a= \"hello world\"\n",
    "a.isupper()"
   ]
  },
  {
   "cell_type": "markdown",
   "id": "3e528fb0",
   "metadata": {},
   "source": [
    "isalnum(),isspace(),isdigit()"
   ]
  },
  {
   "cell_type": "markdown",
   "id": "dc4f24f7",
   "metadata": {},
   "source": [
    "# q1 check whether the given string is palindrome or not "
   ]
  },
  {
   "cell_type": "markdown",
   "id": "1a49fb33",
   "metadata": {},
   "source": [
    "nitin = nitin (after reversing same string)"
   ]
  },
  {
   "cell_type": "code",
   "execution_count": 58,
   "id": "ec8e9226",
   "metadata": {},
   "outputs": [
    {
     "name": "stdout",
     "output_type": "stream",
     "text": [
      "Enter a string: nitin\n",
      "\"nitin\" is a palindrome.\n"
     ]
    }
   ],
   "source": [
    "string = input(\"Enter a string: \")\n",
    "string = string.lower().replace(\" \", \"\")\n",
    "start, end = 0, len(string) - 1\n",
    "\n",
    "palindrome = True\n",
    "while start < end:\n",
    "    if string[start] != string[end]:\n",
    "        is_palindrome = False\n",
    "        break\n",
    "    start += 1\n",
    "    end -= 1\n",
    "\n",
    "if palindrome:\n",
    "    print(f'\"{string}\" is a palindrome.')\n",
    "else:\n",
    "    print(f'\"{string}\" is not a palindrome.')"
   ]
  },
  {
   "cell_type": "markdown",
   "id": "61d17808",
   "metadata": {},
   "source": [
    "# Q1: Accept a string and display in reverse order.\n",
    "    str1 = input(\"Enter any string: \")\n",
    "    print(str1[::-1])\n",
    "\n",
    "# Q2: Write a program to accept a string and display it 20 times.\n",
    "    str2 = input(\"Enter any string: \")\n",
    "    for i in range(20):\n",
    "        print(str2)\n",
    "\n",
    "# Q3: Write a program to accept a string in Python and display the entire string in upper case.\n",
    "    str3 = input(\"Enter any string: \")\n",
    "    print(str3.upper())\n",
    "\n",
    "# Q4: Write a program to accept a string and display the last three characters of the string.\n",
    "    str4 = input(\"Enter any string: \")\n",
    "    print(str4[-3:])\n",
    "\n",
    "# Q5: Write a program to accept a string in Python and display the entire string in lower case.\n",
    "    str5 = input(\"Enter any string: \")\n",
    "    print(str5.lower())\n",
    "\n",
    "# Q6: Accept a string and display the entire string with the first and last characters in upper case.\n",
    "    str6 = input(\"Enter any string: \")\n",
    "    print(str6[0].upper() + str6[1:-1] + str6[-1].upper())\n",
    "\n",
    "# Q7: Write a program to accept a string and display the first three characters of the string.\n",
    "    str7 = input(\"Enter any string: \")\n",
    "    print(str7[:3])\n",
    "\n",
    "# Q8: Write a function in Python which accepts a string as an argument and displays the total number of vowels.\n",
    "    def count_vowels(s):\n",
    "        vowels = \"AEIOUaeiou\"\n",
    "        count = sum(1 for char in s if char in vowels)\n",
    "        print(f\"Total number of vowels are: {count}\")\n",
    "\n",
    "    str8 = input(\"Enter any string: \")\n",
    "    count_vowels(str8)\n"
   ]
  },
  {
   "cell_type": "markdown",
   "id": "5e9409c3",
   "metadata": {},
   "source": [
    "# Q9: Write a function in Python which accepts a string as an argument and displays the total number of lowercase characters.\n",
    "    def lowercount(str):\n",
    "    l = 0\n",
    "    for i in range(len(str)):\n",
    "        if str[i].islower():\n",
    "            l += 1\n",
    "    print(f\"Total number of lowercase characters are: {l}\")\n",
    "\n",
    "# Example usage\n",
    "    str9 = input(\"Enter any string: \")\n",
    "    lowercount(str9)\n",
    "\n",
    "# Q10: Write a function in Python which accepts a string as an argument and displays the total number of digits.\n",
    "    def digitcount(str):\n",
    "        d = 0\n",
    "        for i in range(len(str)):\n",
    "            if str[i].isdigit():\n",
    "                d += 1\n",
    "        print(f\"Total number of digits are: {d}\")\n",
    "\n",
    "# Example usage\n",
    "    str10 = input(\"Enter any string: \")\n",
    "    digitcount(str10)\n"
   ]
  },
  {
   "cell_type": "markdown",
   "id": "2a584d76",
   "metadata": {},
   "source": [
    "# LIST"
   ]
  },
  {
   "cell_type": "markdown",
   "id": "53af1416",
   "metadata": {},
   "source": [
    "# list is an ordered sequence of elements which is enclosed in the middle brackets '[]' \n",
    "- list is mutuable it means we can change the elements of the list at any index. \n",
    "- list can contain any elements rather it int , float , string , list , tuple etc .\n",
    "- list are diffrent from the array because it can contain the duplicates value .\n",
    "- list are ordered means u can access it elements in a sequence starting from 0 to n.\n"
   ]
  },
  {
   "cell_type": "code",
   "execution_count": 3,
   "id": "c24e1506",
   "metadata": {},
   "outputs": [],
   "source": [
    "l=[10,20.0,50.5,\"aman\",[10,20],(),{1:1}]"
   ]
  },
  {
   "cell_type": "code",
   "execution_count": 4,
   "id": "e9823023",
   "metadata": {},
   "outputs": [
    {
     "data": {
      "text/plain": [
       "[[10, 20], [30, 40]]"
      ]
     },
     "execution_count": 4,
     "metadata": {},
     "output_type": "execute_result"
    }
   ],
   "source": [
    "# nested list - list inside the list \n",
    "nl = [[10,20],[30,40]]\n",
    "nl"
   ]
  },
  {
   "cell_type": "code",
   "execution_count": 5,
   "id": "f0809b79",
   "metadata": {},
   "outputs": [
    {
     "data": {
      "text/plain": [
       "[10, 20, 30]"
      ]
     },
     "execution_count": 5,
     "metadata": {},
     "output_type": "execute_result"
    }
   ],
   "source": [
    "a=list((10,20,30))\n",
    "a\n",
    "# list constructor"
   ]
  },
  {
   "cell_type": "code",
   "execution_count": 7,
   "id": "8b98d1bc",
   "metadata": {},
   "outputs": [
    {
     "name": "stdout",
     "output_type": "stream",
     "text": [
      "[1, 2, 3, 4, 5, 6, 7, 8, 9]\n"
     ]
    }
   ],
   "source": [
    "a=[1,2,3,4,5,6]\n",
    "print(a+[7,8,9])\n",
    "# concatenation"
   ]
  },
  {
   "cell_type": "code",
   "execution_count": 8,
   "id": "58962fc2",
   "metadata": {},
   "outputs": [
    {
     "data": {
      "text/plain": [
       "[1, 2, 3, 4, 5, 6, 1, 2, 3, 4, 5, 6]"
      ]
     },
     "execution_count": 8,
     "metadata": {},
     "output_type": "execute_result"
    }
   ],
   "source": [
    "a=[1,2,3,4,5,6]*2\n",
    "a\n",
    "# repetion"
   ]
  },
  {
   "cell_type": "code",
   "execution_count": 10,
   "id": "d9ff7ca6",
   "metadata": {},
   "outputs": [
    {
     "name": "stdout",
     "output_type": "stream",
     "text": [
      "1\n",
      "6\n",
      "[2, 4, 6]\n"
     ]
    }
   ],
   "source": [
    "a=[1,2,3,4,5,6]\n",
    "print(a[0])\n",
    "print(a[-1])\n",
    "print(a[1:6:2])"
   ]
  },
  {
   "cell_type": "markdown",
   "id": "cab56d84",
   "metadata": {},
   "source": [
    "# functions of list "
   ]
  },
  {
   "cell_type": "code",
   "execution_count": 13,
   "id": "8db24c6a",
   "metadata": {},
   "outputs": [
    {
     "data": {
      "text/plain": [
       "[1, 2, 3, 4, 5, 6, 10, 7]"
      ]
     },
     "execution_count": 13,
     "metadata": {},
     "output_type": "execute_result"
    }
   ],
   "source": [
    "# append()\n",
    "\n",
    "a=[1,2,3,4,5,6]\n",
    "# adding a new element at the end of the list \\\n",
    "# we will pass the element as a parameter\n",
    "a.append(10)\n",
    "a.append(7)\n",
    "a"
   ]
  },
  {
   "cell_type": "code",
   "execution_count": 15,
   "id": "6e5253cf",
   "metadata": {},
   "outputs": [
    {
     "name": "stdout",
     "output_type": "stream",
     "text": [
      "[1, 2, 3, 4, 5, 6, 10, 15, 40]\n"
     ]
    }
   ],
   "source": [
    "# extend()\n",
    "a=[1,2,3,4,5,6]\n",
    "a.extend([10,15,40])\n",
    "print(a)"
   ]
  },
  {
   "cell_type": "code",
   "execution_count": 18,
   "id": "2b75fbb7",
   "metadata": {},
   "outputs": [
    {
     "name": "stdout",
     "output_type": "stream",
     "text": [
      "[1, 2, 3, 7, 4, 5, 6]\n"
     ]
    }
   ],
   "source": [
    "# insert()- adding an element at the specific index \n",
    "a=[1,2,3,4,5,6]\n",
    "a.insert(3,7)\n",
    "print(a)\n",
    "\n",
    "# note - u will not remove the elemnent when u will use insert function "
   ]
  },
  {
   "cell_type": "code",
   "execution_count": 20,
   "id": "9d7fb675",
   "metadata": {},
   "outputs": [
    {
     "ename": "NameError",
     "evalue": "name 'a' is not defined",
     "output_type": "error",
     "traceback": [
      "\u001b[1;31m---------------------------------------------------------------------------\u001b[0m",
      "\u001b[1;31mNameError\u001b[0m                                 Traceback (most recent call last)",
      "Cell \u001b[1;32mIn[20], line 5\u001b[0m\n\u001b[0;32m      2\u001b[0m \u001b[38;5;66;03m# del - delete the list \"keyword\"\u001b[39;00m\n\u001b[0;32m      4\u001b[0m \u001b[38;5;28;01mdel\u001b[39;00m a\n\u001b[1;32m----> 5\u001b[0m \u001b[38;5;28mprint\u001b[39m(a)\n",
      "\u001b[1;31mNameError\u001b[0m: name 'a' is not defined"
     ]
    }
   ],
   "source": [
    "a=[1,2,3,4,5,6]\n",
    "# del - delete the list \"keyword\"\n",
    "\n",
    "del a\n",
    "print(a)"
   ]
  },
  {
   "cell_type": "code",
   "execution_count": 24,
   "id": "7cd71c5e",
   "metadata": {},
   "outputs": [
    {
     "name": "stdout",
     "output_type": "stream",
     "text": [
      "[1, 2, 3, 4, 5]\n",
      "3\n"
     ]
    }
   ],
   "source": [
    "a=[1,2,3,4,5,6]\n",
    "# pop() - will give u the last element of the list .\n",
    "a.pop()\n",
    "len(a)\n",
    "print(a.pop(2))"
   ]
  },
  {
   "cell_type": "markdown",
   "id": "06ad6673",
   "metadata": {},
   "source": [
    "#### if you will not give the index as parameter it will delete the last element\n"
   ]
  },
  {
   "cell_type": "code",
   "execution_count": 27,
   "id": "38536963",
   "metadata": {},
   "outputs": [
    {
     "data": {
      "text/plain": [
       "[1, 2, 3, 5, 6]"
      ]
     },
     "execution_count": 27,
     "metadata": {},
     "output_type": "execute_result"
    }
   ],
   "source": [
    "a=[1,2,3,4,5,6]\n",
    "a.remove(4)\n",
    "a\n",
    "# remove will take a element as a aragument "
   ]
  },
  {
   "cell_type": "code",
   "execution_count": 43,
   "id": "e68b6c3e",
   "metadata": {},
   "outputs": [
    {
     "name": "stdout",
     "output_type": "stream",
     "text": [
      "[1, 2, 3, 4, 5, 6]\n",
      "[1, 2, 3, 4, 5, 6, 7]\n"
     ]
    }
   ],
   "source": [
    "# copy() - it will create the shallow copy of the list\n",
    "a=[1,2,3,4,5,6]\n",
    "b=a.copy()\n",
    "b.append(7)\n",
    "print(a)\n",
    "print(b)"
   ]
  },
  {
   "cell_type": "code",
   "execution_count": 44,
   "id": "e751b799",
   "metadata": {},
   "outputs": [
    {
     "name": "stdout",
     "output_type": "stream",
     "text": [
      "[1, 2, 3, 4, 5, 6, 7]\n",
      "[1, 2, 3, 4, 5, 6, 7]\n"
     ]
    }
   ],
   "source": [
    "a=[1,2,3,4,5,6]\n",
    "b=a # true copy \n",
    "b.append(7)\n",
    "print(a)\n",
    "print(b)"
   ]
  },
  {
   "cell_type": "code",
   "execution_count": 47,
   "id": "8efe0f42",
   "metadata": {},
   "outputs": [
    {
     "data": {
      "text/plain": [
       "3"
      ]
     },
     "execution_count": 47,
     "metadata": {},
     "output_type": "execute_result"
    }
   ],
   "source": [
    "# count() - gives the occurence of the given element as a argument\n",
    "a=[1,2,3,4,5,6,6,2,5,4,3,5,2,5]\n",
    "a.count(2)"
   ]
  },
  {
   "cell_type": "code",
   "execution_count": 49,
   "id": "6882fc7a",
   "metadata": {},
   "outputs": [
    {
     "name": "stdout",
     "output_type": "stream",
     "text": [
      "6\n",
      "1\n"
     ]
    }
   ],
   "source": [
    "# max() and min()\n",
    "a=[1,2,3,4,5,6,6,2,5,4,3,5,2,5]\n",
    "print(max(a))\n",
    "print(min(a))"
   ]
  },
  {
   "cell_type": "code",
   "execution_count": 52,
   "id": "5be4fb1b",
   "metadata": {},
   "outputs": [
    {
     "data": {
      "text/plain": [
       "1"
      ]
     },
     "execution_count": 52,
     "metadata": {},
     "output_type": "execute_result"
    }
   ],
   "source": [
    "# index() - returns the index of the first occurence element given as a parameter\n",
    "a=[1,2,3,4,5,6,6,2,5,4,3,5,2,5]\n",
    "a.index(2)"
   ]
  },
  {
   "cell_type": "code",
   "execution_count": 67,
   "id": "c8318e14",
   "metadata": {},
   "outputs": [
    {
     "data": {
      "text/plain": [
       "[6, 5, 4, 3, 2, 1]"
      ]
     },
     "execution_count": 67,
     "metadata": {},
     "output_type": "execute_result"
    }
   ],
   "source": [
    "# sort() - by default will sort the list in ascending order \n",
    "a=[1,2,3,4,5,6]\n",
    "a.sort(reverse=True)\n",
    "a"
   ]
  },
  {
   "cell_type": "markdown",
   "id": "576de4aa",
   "metadata": {},
   "source": [
    "# FOR LOOP USING LIST"
   ]
  },
  {
   "cell_type": "code",
   "execution_count": 29,
   "id": "c0bfefb9",
   "metadata": {},
   "outputs": [
    {
     "name": "stdout",
     "output_type": "stream",
     "text": [
      "1\n",
      "2\n",
      "3\n",
      "4\n",
      "5\n",
      "6\n"
     ]
    }
   ],
   "source": [
    "a=[1,2,3,4,5,6]\n",
    "\n",
    "for i in a:\n",
    "    print(i)\n",
    "    \n",
    "# for loop by default will gives the output in vertical manner "
   ]
  },
  {
   "cell_type": "markdown",
   "id": "71f69423",
   "metadata": {},
   "source": [
    "### if you will do like this you will get the elements of the list"
   ]
  },
  {
   "cell_type": "code",
   "execution_count": 32,
   "id": "a601e000",
   "metadata": {},
   "outputs": [
    {
     "name": "stdout",
     "output_type": "stream",
     "text": [
      "1\n",
      "2\n",
      "3\n",
      "4\n",
      "5\n",
      "6\n"
     ]
    }
   ],
   "source": [
    "a=[1,2,3,4,5,6]\n",
    "\n",
    "for i in range(len(a)):\n",
    "    print(a[i])"
   ]
  },
  {
   "cell_type": "markdown",
   "id": "4313c39a",
   "metadata": {},
   "source": [
    "## but if u do like this u will get the indexes"
   ]
  },
  {
   "cell_type": "code",
   "execution_count": 33,
   "id": "3d3a059a",
   "metadata": {},
   "outputs": [
    {
     "name": "stdout",
     "output_type": "stream",
     "text": [
      "0\n",
      "1\n",
      "2\n",
      "3\n",
      "4\n",
      "5\n"
     ]
    }
   ],
   "source": [
    "a=[1,2,3,4,5,6]\n",
    "\n",
    "for i in range(len(a)):\n",
    "    print(i)"
   ]
  },
  {
   "cell_type": "code",
   "execution_count": 38,
   "id": "e1a5cf60",
   "metadata": {},
   "outputs": [
    {
     "name": "stdout",
     "output_type": "stream",
     "text": [
      "1 2 3 4 5 6 "
     ]
    }
   ],
   "source": [
    "# end = \" \" - it will help to print the elements in horizontal manner \n",
    "\n",
    "a=[1,2,3,4,5,6]\n",
    "\n",
    "for i in range(len(a)):\n",
    "    print(a[i],end = \" \")"
   ]
  },
  {
   "cell_type": "markdown",
   "id": "747493d9",
   "metadata": {},
   "source": [
    "# Tuples"
   ]
  },
  {
   "cell_type": "markdown",
   "id": "63344e00",
   "metadata": {},
   "source": [
    "# it is an ordered datatype\n",
    "- it is immutable type"
   ]
  },
  {
   "cell_type": "code",
   "execution_count": 9,
   "id": "598e8718",
   "metadata": {},
   "outputs": [
    {
     "name": "stdout",
     "output_type": "stream",
     "text": [
      "<class 'tuple'>\n",
      "<class 'tuple'>\n",
      "<class 'tuple'>\n",
      "<class 'tuple'>\n"
     ]
    }
   ],
   "source": [
    "t=(1,2,3)\n",
    "t1=(1,2,3,)\n",
    "t2=1,\n",
    "t3=tuple([1,2,3])\n",
    "print(type(t1))\n",
    "print(type(t))\n",
    "print(type(t2))\n",
    "print(type(t3))"
   ]
  },
  {
   "cell_type": "code",
   "execution_count": 11,
   "id": "bfc6e165",
   "metadata": {},
   "outputs": [
    {
     "data": {
      "text/plain": [
       "'apple'"
      ]
     },
     "execution_count": 11,
     "metadata": {},
     "output_type": "execute_result"
    }
   ],
   "source": [
    "fruits = (\"apple\",\"banana\",\"pear\",\"watermelon\",\"apple\")\n",
    "fruits[0]"
   ]
  },
  {
   "cell_type": "code",
   "execution_count": 12,
   "id": "8dd7c0e2",
   "metadata": {},
   "outputs": [
    {
     "name": "stdout",
     "output_type": "stream",
     "text": [
      "(True, False, True, False)\n"
     ]
    }
   ],
   "source": [
    "tupl=(True,False,True,False)\n",
    "print(tupl)"
   ]
  },
  {
   "cell_type": "code",
   "execution_count": 13,
   "id": "2c379e99",
   "metadata": {},
   "outputs": [
    {
     "name": "stdout",
     "output_type": "stream",
     "text": [
      "apple\n",
      "banana\n",
      "pear\n",
      "watermelon\n",
      "apple\n"
     ]
    }
   ],
   "source": [
    "fruits = (\"apple\",\"banana\",\"pear\",\"watermelon\",\"apple\")\n",
    "for i in fruits:\n",
    "    print(i)"
   ]
  },
  {
   "cell_type": "code",
   "execution_count": 14,
   "id": "2186f964",
   "metadata": {},
   "outputs": [
    {
     "name": "stdout",
     "output_type": "stream",
     "text": [
      "0\n",
      "1\n",
      "2\n",
      "3\n",
      "4\n"
     ]
    }
   ],
   "source": [
    "fruits = (\"apple\",\"banana\",\"pear\",\"watermelon\",\"apple\")\n",
    "for i in range(len(fruits)):\n",
    "    print(i)"
   ]
  },
  {
   "cell_type": "code",
   "execution_count": 15,
   "id": "9f93b953",
   "metadata": {},
   "outputs": [
    {
     "data": {
      "text/plain": [
       "(1, 2, 3, 'apple', 'banana', 'pear', 'watermelon', 'apple')"
      ]
     },
     "execution_count": 15,
     "metadata": {},
     "output_type": "execute_result"
    }
   ],
   "source": [
    "# can we do the concatenation in tuple\n",
    "fruits = (\"apple\",\"banana\",\"pear\",\"watermelon\",\"apple\")\n",
    "t=(1,2,3)\n",
    "t+fruits"
   ]
  },
  {
   "cell_type": "code",
   "execution_count": 17,
   "id": "03bfcc3f",
   "metadata": {},
   "outputs": [
    {
     "name": "stdout",
     "output_type": "stream",
     "text": [
      "((1, 2, 3), ('apple', 'banana', 'pear', 'watermelon', 'apple'))\n"
     ]
    }
   ],
   "source": [
    "# nesting - tulpe inside tuple\n",
    "fruits = (\"apple\",\"banana\",\"pear\",\"watermelon\",\"apple\")\n",
    "t=(1,2,3)\n",
    "t3=(t,fruits)\n",
    "print(t3)"
   ]
  },
  {
   "cell_type": "code",
   "execution_count": 18,
   "id": "968adfc5",
   "metadata": {},
   "outputs": [
    {
     "data": {
      "text/plain": [
       "((1, 2, 3), ('apple', 'banana', 'pear', 'watermelon', 'apple'))"
      ]
     },
     "execution_count": 18,
     "metadata": {},
     "output_type": "execute_result"
    }
   ],
   "source": [
    "nesting = ((1,2,3),(\"apple\",\"banana\",\"pear\",\"watermelon\",\"apple\"))\n",
    "nesting"
   ]
  },
  {
   "cell_type": "code",
   "execution_count": 19,
   "id": "5f965f07",
   "metadata": {},
   "outputs": [
    {
     "data": {
      "text/plain": [
       "('apple',\n",
       " 'banana',\n",
       " 'pear',\n",
       " 'watermelon',\n",
       " 'apple',\n",
       " 'apple',\n",
       " 'banana',\n",
       " 'pear',\n",
       " 'watermelon',\n",
       " 'apple',\n",
       " 'apple',\n",
       " 'banana',\n",
       " 'pear',\n",
       " 'watermelon',\n",
       " 'apple')"
      ]
     },
     "execution_count": 19,
     "metadata": {},
     "output_type": "execute_result"
    }
   ],
   "source": [
    "fruits = (\"apple\",\"banana\",\"pear\",\"watermelon\",\"apple\")\n",
    "fruits*3"
   ]
  },
  {
   "cell_type": "code",
   "execution_count": 21,
   "id": "3044b879",
   "metadata": {},
   "outputs": [
    {
     "ename": "NameError",
     "evalue": "name 'fruits' is not defined",
     "output_type": "error",
     "traceback": [
      "\u001b[1;31m---------------------------------------------------------------------------\u001b[0m",
      "\u001b[1;31mNameError\u001b[0m                                 Traceback (most recent call last)",
      "Cell \u001b[1;32mIn[21], line 3\u001b[0m\n\u001b[0;32m      1\u001b[0m fruits \u001b[38;5;241m=\u001b[39m (\u001b[38;5;124m\"\u001b[39m\u001b[38;5;124mapple\u001b[39m\u001b[38;5;124m\"\u001b[39m,\u001b[38;5;124m\"\u001b[39m\u001b[38;5;124mbanana\u001b[39m\u001b[38;5;124m\"\u001b[39m,\u001b[38;5;124m\"\u001b[39m\u001b[38;5;124mpear\u001b[39m\u001b[38;5;124m\"\u001b[39m,\u001b[38;5;124m\"\u001b[39m\u001b[38;5;124mwatermelon\u001b[39m\u001b[38;5;124m\"\u001b[39m,\u001b[38;5;124m\"\u001b[39m\u001b[38;5;124mapple\u001b[39m\u001b[38;5;124m\"\u001b[39m)\n\u001b[0;32m      2\u001b[0m \u001b[38;5;28;01mdel\u001b[39;00m fruits\n\u001b[1;32m----> 3\u001b[0m \u001b[38;5;28mprint\u001b[39m(fruits)\n",
      "\u001b[1;31mNameError\u001b[0m: name 'fruits' is not defined"
     ]
    }
   ],
   "source": [
    "fruits = (\"apple\",\"banana\",\"pear\",\"watermelon\",\"apple\")\n",
    "del fruits\n",
    "print(fruits)"
   ]
  },
  {
   "cell_type": "markdown",
   "id": "ab9d7022",
   "metadata": {},
   "source": [
    "# eval - convert string into integer"
   ]
  },
  {
   "cell_type": "code",
   "execution_count": 26,
   "id": "606cbe25",
   "metadata": {},
   "outputs": [
    {
     "name": "stdout",
     "output_type": "stream",
     "text": [
      "3\n"
     ]
    }
   ],
   "source": [
    "print(eval('1+2'))"
   ]
  },
  {
   "cell_type": "code",
   "execution_count": 25,
   "id": "e2a5cdc0",
   "metadata": {},
   "outputs": [
    {
     "name": "stdout",
     "output_type": "stream",
     "text": [
      "1+2\n"
     ]
    }
   ],
   "source": [
    "print('1+2')"
   ]
  },
  {
   "cell_type": "code",
   "execution_count": 27,
   "id": "7c7093e6",
   "metadata": {},
   "outputs": [
    {
     "name": "stdout",
     "output_type": "stream",
     "text": [
      "10\n"
     ]
    }
   ],
   "source": [
    "print(eval('sum([1,2,3,4])'))"
   ]
  },
  {
   "cell_type": "markdown",
   "id": "4c5ee20e",
   "metadata": {},
   "source": [
    "# tuple Methods"
   ]
  },
  {
   "cell_type": "code",
   "execution_count": 34,
   "id": "972dd576",
   "metadata": {},
   "outputs": [
    {
     "data": {
      "text/plain": [
       "0"
      ]
     },
     "execution_count": 34,
     "metadata": {},
     "output_type": "execute_result"
    }
   ],
   "source": [
    "# we have only two methods \n",
    "fruits = (\"apple\",\"banana\",\"pear\",\"watermelon\",\"apple\")\n",
    "fruits.index(\"apple\")"
   ]
  },
  {
   "cell_type": "markdown",
   "id": "65b493f6",
   "metadata": {},
   "source": [
    "# function vs method"
   ]
  },
  {
   "cell_type": "code",
   "execution_count": 31,
   "id": "7b2c64ad",
   "metadata": {},
   "outputs": [
    {
     "name": "stdout",
     "output_type": "stream",
     "text": [
      "aman jha\n",
      "<class 'str'>\n",
      "AMAN JHA\n"
     ]
    }
   ],
   "source": [
    "a=\"aman jha\"\n",
    "print(a)\n",
    "len(a)\n",
    "print(type(a))\n",
    "print(a.upper())"
   ]
  },
  {
   "cell_type": "code",
   "execution_count": 33,
   "id": "173c84cb",
   "metadata": {},
   "outputs": [
    {
     "name": "stdout",
     "output_type": "stream",
     "text": [
      "2\n"
     ]
    }
   ],
   "source": [
    "import random\n",
    "print(random.randint(1,2))"
   ]
  },
  {
   "cell_type": "markdown",
   "id": "5e3b3642",
   "metadata": {},
   "source": [
    "# dictionary \n",
    "- dictionary in cuurent release of python 3.7 verison is ordered\n",
    "- dictionary contains key : value pair\n",
    "- where key is immutable means u can only take string , int , float , tuple \n",
    "- value is mutuable"
   ]
  },
  {
   "cell_type": "code",
   "execution_count": 37,
   "id": "0cf44d2f",
   "metadata": {},
   "outputs": [
    {
     "name": "stdout",
     "output_type": "stream",
     "text": [
      "{'brand': 'tata', 'model': 'safari', 'year': 2005}\n"
     ]
    },
    {
     "data": {
      "text/plain": [
       "3"
      ]
     },
     "execution_count": 37,
     "metadata": {},
     "output_type": "execute_result"
    }
   ],
   "source": [
    "d={'brand':'tata','model':'safari','year':2001,'year':2005}\n",
    "print(d)\n",
    "len(d)"
   ]
  },
  {
   "cell_type": "markdown",
   "id": "56970da5",
   "metadata": {},
   "source": [
    "# dictionary does not allow duplicates values"
   ]
  },
  {
   "cell_type": "code",
   "execution_count": 38,
   "id": "3e6ecb7b",
   "metadata": {},
   "outputs": [
    {
     "data": {
      "text/plain": [
       "{'list': [10, 20, 30]}"
      ]
     },
     "execution_count": 38,
     "metadata": {},
     "output_type": "execute_result"
    }
   ],
   "source": [
    "d={'list':[10,20,30]}\n",
    "d"
   ]
  },
  {
   "cell_type": "code",
   "execution_count": 40,
   "id": "86f70949",
   "metadata": {},
   "outputs": [
    {
     "name": "stdout",
     "output_type": "stream",
     "text": [
      "<class 'dict'>\n"
     ]
    }
   ],
   "source": [
    "print(type(d))"
   ]
  },
  {
   "cell_type": "code",
   "execution_count": 41,
   "id": "3d009663",
   "metadata": {},
   "outputs": [
    {
     "name": "stdout",
     "output_type": "stream",
     "text": [
      "{'name': 'aman', 'age': 25, 'country': 'india'}\n"
     ]
    }
   ],
   "source": [
    "a=dict(name=\"aman\",age=25,country=\"india\")\n",
    "print(a)"
   ]
  },
  {
   "cell_type": "markdown",
   "id": "7fd051cc",
   "metadata": {},
   "source": [
    "# dictionary methods"
   ]
  },
  {
   "cell_type": "code",
   "execution_count": 44,
   "id": "2a13e56b",
   "metadata": {},
   "outputs": [
    {
     "name": "stdout",
     "output_type": "stream",
     "text": [
      "0\n",
      "{}\n"
     ]
    }
   ],
   "source": [
    "#clear() - remove all the element\n",
    "d={'brand':'tata','model':'safari','year':2001,'year':2005}\n",
    "d.clear()\n",
    "print(len(d))\n",
    "print(d)"
   ]
  },
  {
   "cell_type": "code",
   "execution_count": 45,
   "id": "734bfc2b",
   "metadata": {},
   "outputs": [
    {
     "name": "stdout",
     "output_type": "stream",
     "text": [
      "tata\n"
     ]
    }
   ],
   "source": [
    "# get() - returns the value of the given key\n",
    "d={'brand':'tata','model':'safari','year':2001,'year':2005}\n",
    "print(d.get('brand'))"
   ]
  },
  {
   "cell_type": "code",
   "execution_count": 46,
   "id": "94b9fcff",
   "metadata": {},
   "outputs": [
    {
     "data": {
      "text/plain": [
       "'tata'"
      ]
     },
     "execution_count": 46,
     "metadata": {},
     "output_type": "execute_result"
    }
   ],
   "source": [
    "d={'brand':'tata','model':'safari','year':2001,'year':2005}\n",
    "d['brand']"
   ]
  },
  {
   "cell_type": "code",
   "execution_count": 48,
   "id": "17512995",
   "metadata": {},
   "outputs": [
    {
     "name": "stdout",
     "output_type": "stream",
     "text": [
      "dict_items([('brand', 'tata'), ('model', 'safari'), ('year', 2005)])\n"
     ]
    }
   ],
   "source": [
    "# items - returns a list containg a tuple of key value pair\n",
    "d={'brand':'tata','model':'safari','year':2001,'year':2005}\n",
    "print(d.items())"
   ]
  },
  {
   "cell_type": "code",
   "execution_count": 49,
   "id": "9cc68396",
   "metadata": {},
   "outputs": [
    {
     "name": "stdout",
     "output_type": "stream",
     "text": [
      "dict_keys(['brand', 'model', 'year'])\n"
     ]
    }
   ],
   "source": [
    "# keys - list of keys\n",
    "d={'brand':'tata','model':'safari','year':2001,'year':2005}\n",
    "print(d.keys())"
   ]
  },
  {
   "cell_type": "code",
   "execution_count": 50,
   "id": "915d1cae",
   "metadata": {},
   "outputs": [
    {
     "name": "stdout",
     "output_type": "stream",
     "text": [
      "dict_values(['tata', 'safari', 2005])\n"
     ]
    }
   ],
   "source": [
    "#values - return list of value\n",
    "d={'brand':'tata','model':'safari','year':2001,'year':2005}\n",
    "print(d.values())"
   ]
  },
  {
   "cell_type": "code",
   "execution_count": 51,
   "id": "a657ac69",
   "metadata": {},
   "outputs": [
    {
     "name": "stdout",
     "output_type": "stream",
     "text": [
      "safari\n"
     ]
    }
   ],
   "source": [
    "#pop\n",
    "d={'brand':'tata','model':'safari','year':2001,'year':2005}\n",
    "print(d.pop('model'))"
   ]
  },
  {
   "cell_type": "code",
   "execution_count": 57,
   "id": "f10c383a",
   "metadata": {},
   "outputs": [
    {
     "name": "stdout",
     "output_type": "stream",
     "text": [
      "{'brand': 'tata', 'model': 'safari', 'year': 2005, 'color': 'red'}\n"
     ]
    }
   ],
   "source": [
    "# update\n",
    "d={'brand':'tata','model':'safari','year':2001,'year':2005}\n",
    "d.update({'color':'red'})\n",
    "print(d)"
   ]
  },
  {
   "cell_type": "code",
   "execution_count": 58,
   "id": "90656058",
   "metadata": {},
   "outputs": [
    {
     "name": "stdout",
     "output_type": "stream",
     "text": [
      "{'brand': 'tata', 'model': 'safari', 'year': 2005, 'color': 'yellow'}\n"
     ]
    }
   ],
   "source": [
    "d={'brand':'tata','model':'safari','year':2001,'year':2005}\n",
    "d.update({'color':'yellow'})\n",
    "print(d)"
   ]
  },
  {
   "cell_type": "code",
   "execution_count": 60,
   "id": "370b7fe7",
   "metadata": {},
   "outputs": [
    {
     "name": "stdout",
     "output_type": "stream",
     "text": [
      "{'model': 'safari', 'year': 2005}\n"
     ]
    }
   ],
   "source": [
    "d={'brand':'tata','model':'safari','year':2001,'year':2005}\n",
    "del d['brand']\n",
    "print(d)"
   ]
  },
  {
   "cell_type": "code",
   "execution_count": 62,
   "id": "b11a8370",
   "metadata": {},
   "outputs": [
    {
     "data": {
      "text/plain": [
       "str"
      ]
     },
     "execution_count": 62,
     "metadata": {},
     "output_type": "execute_result"
    }
   ],
   "source": [
    "# static and dynamic \n",
    "a=10 # dynamic typing\n",
    "type(a)\n",
    "b=str(10) # static\n",
    "type(b)"
   ]
  },
  {
   "cell_type": "markdown",
   "id": "23d5e93e",
   "metadata": {},
   "source": [
    "# python usually support dynamic typing but we can also do the static typing as well"
   ]
  }
 ],
 "metadata": {
  "kernelspec": {
   "display_name": "Python 3 (ipykernel)",
   "language": "python",
   "name": "python3"
  },
  "language_info": {
   "codemirror_mode": {
    "name": "ipython",
    "version": 3
   },
   "file_extension": ".py",
   "mimetype": "text/x-python",
   "name": "python",
   "nbconvert_exporter": "python",
   "pygments_lexer": "ipython3",
   "version": "3.11.5"
  }
 },
 "nbformat": 4,
 "nbformat_minor": 5
}
