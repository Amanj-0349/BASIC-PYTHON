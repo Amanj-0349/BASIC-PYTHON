{
 "cells": [
  {
   "cell_type": "markdown",
   "id": "21ec0bfb",
   "metadata": {},
   "source": [
    "# STRING "
   ]
  },
  {
   "cell_type": "markdown",
   "id": "3cd35e2f",
   "metadata": {},
   "source": [
    "ANYTHING IN BETWEEN SINGLE AND DOUBLE QUOTES IS CALLED AS STRING \n",
    "WHENEVER WE USE SINGLE QUOTES IS ALSO TERMED AS CHAR MEANS IT IS USED WITH SINGLE CHARACTER"
   ]
  },
  {
   "cell_type": "code",
   "execution_count": 1,
   "id": "eac100ec",
   "metadata": {},
   "outputs": [],
   "source": [
    "a='A' # single char"
   ]
  },
  {
   "cell_type": "code",
   "execution_count": 2,
   "id": "fb3ae3c5",
   "metadata": {},
   "outputs": [
    {
     "data": {
      "text/plain": [
       "'Aman jha'"
      ]
     },
     "execution_count": 2,
     "metadata": {},
     "output_type": "execute_result"
    }
   ],
   "source": [
    "str1 = \"Aman jha\"\n",
    "str1"
   ]
  },
  {
   "cell_type": "markdown",
   "id": "4e89e8c9",
   "metadata": {},
   "source": [
    "priority of both single quotes and double quotes are same "
   ]
  },
  {
   "cell_type": "code",
   "execution_count": 4,
   "id": "b73ab970",
   "metadata": {},
   "outputs": [
    {
     "name": "stdout",
     "output_type": "stream",
     "text": [
      "hello my name \n",
      "is aman jha\n"
     ]
    }
   ],
   "source": [
    "# multiline string \n",
    "a='''hello my name \n",
    "is aman jha'''\n",
    "print(a)"
   ]
  },
  {
   "cell_type": "markdown",
   "id": "e00f7b51",
   "metadata": {},
   "source": [
    "### indexing "
   ]
  },
  {
   "cell_type": "code",
   "execution_count": 9,
   "id": "56c8e9b3",
   "metadata": {},
   "outputs": [
    {
     "name": "stdout",
     "output_type": "stream",
     "text": [
      "H\n",
      "d\n"
     ]
    },
    {
     "data": {
      "text/plain": [
       "11"
      ]
     },
     "execution_count": 9,
     "metadata": {},
     "output_type": "execute_result"
    }
   ],
   "source": [
    "a=\"Hello world\"\n",
    "print(a[0]) # positive indexing\n",
    "print(a[-1]) # negative indexing\n",
    "# note  - you can only retrieve one value at a time using indexing \n",
    "# the size of a is 11\n",
    "len(a) \n",
    "# len() is a inbuilt function used to find out the length of the variable \n",
    "# len() is only used with the sequence datatype \n",
    "# sequence -  list string and tuple "
   ]
  },
  {
   "cell_type": "markdown",
   "id": "b3a2c21c",
   "metadata": {},
   "source": [
    "# slicing "
   ]
  },
  {
   "cell_type": "code",
   "execution_count": 10,
   "id": "5910fc45",
   "metadata": {},
   "outputs": [
    {
     "data": {
      "text/plain": [
       "'hello world'"
      ]
     },
     "execution_count": 10,
     "metadata": {},
     "output_type": "execute_result"
    }
   ],
   "source": [
    "a= \"hello world\"\n",
    "a[0:]"
   ]
  },
  {
   "cell_type": "code",
   "execution_count": 11,
   "id": "f469071c",
   "metadata": {},
   "outputs": [
    {
     "data": {
      "text/plain": [
       "'dlrow olleh'"
      ]
     },
     "execution_count": 11,
     "metadata": {},
     "output_type": "execute_result"
    }
   ],
   "source": [
    "a= \"hello world\"\n",
    "a[::-1]\n",
    "# reverse trick for any sequence "
   ]
  },
  {
   "cell_type": "code",
   "execution_count": 12,
   "id": "7043cf3f",
   "metadata": {},
   "outputs": [
    {
     "data": {
      "text/plain": [
       "'hlowrd'"
      ]
     },
     "execution_count": 12,
     "metadata": {},
     "output_type": "execute_result"
    }
   ],
   "source": [
    "a= \"hello world\"\n",
    "a[0:11:2]"
   ]
  },
  {
   "cell_type": "code",
   "execution_count": 15,
   "id": "2b1ba08d",
   "metadata": {},
   "outputs": [
    {
     "ename": "IndexError",
     "evalue": "string index out of range",
     "output_type": "error",
     "traceback": [
      "\u001b[1;31m---------------------------------------------------------------------------\u001b[0m",
      "\u001b[1;31mIndexError\u001b[0m                                Traceback (most recent call last)",
      "Cell \u001b[1;32mIn[15], line 2\u001b[0m\n\u001b[0;32m      1\u001b[0m a\u001b[38;5;241m=\u001b[39m \u001b[38;5;124m\"\u001b[39m\u001b[38;5;124mhello world\u001b[39m\u001b[38;5;124m\"\u001b[39m\n\u001b[1;32m----> 2\u001b[0m a[\u001b[38;5;241m100\u001b[39m]\n",
      "\u001b[1;31mIndexError\u001b[0m: string index out of range"
     ]
    }
   ],
   "source": [
    "a= \"hello world\"\n",
    "a[100]\n",
    "# you can not go out of length in indexing "
   ]
  },
  {
   "cell_type": "code",
   "execution_count": 14,
   "id": "6e1699c2",
   "metadata": {},
   "outputs": [
    {
     "data": {
      "text/plain": [
       "'hello world'"
      ]
     },
     "execution_count": 14,
     "metadata": {},
     "output_type": "execute_result"
    }
   ],
   "source": [
    "a= \"hello world\"\n",
    "a[:100] # we can go out of the length"
   ]
  },
  {
   "cell_type": "code",
   "execution_count": 16,
   "id": "888fc5b9",
   "metadata": {},
   "outputs": [
    {
     "data": {
      "text/plain": [
       "''"
      ]
     },
     "execution_count": 16,
     "metadata": {},
     "output_type": "execute_result"
    }
   ],
   "source": [
    "a= \"hello world\"\n",
    "a[100:100]"
   ]
  },
  {
   "cell_type": "code",
   "execution_count": 17,
   "id": "bb1435ab",
   "metadata": {},
   "outputs": [
    {
     "data": {
      "text/plain": [
       "''"
      ]
     },
     "execution_count": 17,
     "metadata": {},
     "output_type": "execute_result"
    }
   ],
   "source": [
    "a= \"hello world\"\n",
    "a[1:1]"
   ]
  },
  {
   "cell_type": "markdown",
   "id": "da7c42b8",
   "metadata": {},
   "source": [
    "in both line 16 & 17 starting and ending point is same"
   ]
  },
  {
   "cell_type": "markdown",
   "id": "b3bdd49a",
   "metadata": {},
   "source": [
    "note - string is immutable "
   ]
  },
  {
   "cell_type": "code",
   "execution_count": 18,
   "id": "2e8c8247",
   "metadata": {},
   "outputs": [
    {
     "data": {
      "text/plain": [
       "'amanjha'"
      ]
     },
     "execution_count": 18,
     "metadata": {},
     "output_type": "execute_result"
    }
   ],
   "source": [
    "a=\"aman\"+\"jha\"\n",
    "# concatenation \n",
    "a"
   ]
  },
  {
   "cell_type": "code",
   "execution_count": 19,
   "id": "1414b2c6",
   "metadata": {},
   "outputs": [
    {
     "ename": "TypeError",
     "evalue": "'str' object does not support item assignment",
     "output_type": "error",
     "traceback": [
      "\u001b[1;31m---------------------------------------------------------------------------\u001b[0m",
      "\u001b[1;31mTypeError\u001b[0m                                 Traceback (most recent call last)",
      "Cell \u001b[1;32mIn[19], line 2\u001b[0m\n\u001b[0;32m      1\u001b[0m a\u001b[38;5;241m=\u001b[39m\u001b[38;5;124m\"\u001b[39m\u001b[38;5;124maman\u001b[39m\u001b[38;5;124m\"\u001b[39m\n\u001b[1;32m----> 2\u001b[0m a[\u001b[38;5;241m0\u001b[39m]\u001b[38;5;241m=\u001b[39m\u001b[38;5;124m\"\u001b[39m\u001b[38;5;124mA\u001b[39m\u001b[38;5;124m\"\u001b[39m\n\u001b[0;32m      3\u001b[0m \u001b[38;5;28mprint\u001b[39m(a)\n",
      "\u001b[1;31mTypeError\u001b[0m: 'str' object does not support item assignment"
     ]
    }
   ],
   "source": [
    "a=\"aman\"\n",
    "a[0]=\"A\"\n",
    "print(a)\n",
    "# we can not change the value at any index in string after declaring it "
   ]
  },
  {
   "cell_type": "code",
   "execution_count": 21,
   "id": "60fe1a3e",
   "metadata": {},
   "outputs": [
    {
     "name": "stdout",
     "output_type": "stream",
     "text": [
      "AmanAman\n"
     ]
    }
   ],
   "source": [
    "# repetion \n",
    "a=\"Aman\"*2\n",
    "print(a)"
   ]
  },
  {
   "cell_type": "code",
   "execution_count": 23,
   "id": "faf70aeb",
   "metadata": {},
   "outputs": [
    {
     "ename": "NameError",
     "evalue": "name 'a' is not defined",
     "output_type": "error",
     "traceback": [
      "\u001b[1;31m---------------------------------------------------------------------------\u001b[0m",
      "\u001b[1;31mNameError\u001b[0m                                 Traceback (most recent call last)",
      "Cell \u001b[1;32mIn[23], line 4\u001b[0m\n\u001b[0;32m      2\u001b[0m a\u001b[38;5;241m=\u001b[39m\u001b[38;5;124m\"\u001b[39m\u001b[38;5;124mdelete\u001b[39m\u001b[38;5;124m\"\u001b[39m\n\u001b[0;32m      3\u001b[0m \u001b[38;5;28;01mdel\u001b[39;00m a\n\u001b[1;32m----> 4\u001b[0m \u001b[38;5;28mprint\u001b[39m(a)\n",
      "\u001b[1;31mNameError\u001b[0m: name 'a' is not defined"
     ]
    }
   ],
   "source": [
    "# deleting \n",
    "a=\"delete\"\n",
    "del a\n",
    "# by using del keyword u can delete a string\n",
    "print(a)"
   ]
  },
  {
   "cell_type": "code",
   "execution_count": 24,
   "id": "733ace55",
   "metadata": {},
   "outputs": [
    {
     "name": "stdout",
     "output_type": "stream",
     "text": [
      "amana\n"
     ]
    }
   ],
   "source": [
    "# updating a string \n",
    "a=\"aman\"\n",
    "print(a+a[0])"
   ]
  },
  {
   "cell_type": "code",
   "execution_count": 28,
   "id": "0a473a31",
   "metadata": {},
   "outputs": [
    {
     "ename": "TypeError",
     "evalue": "can only concatenate str (not \"int\") to str",
     "output_type": "error",
     "traceback": [
      "\u001b[1;31m---------------------------------------------------------------------------\u001b[0m",
      "\u001b[1;31mTypeError\u001b[0m                                 Traceback (most recent call last)",
      "Cell \u001b[1;32mIn[28], line 3\u001b[0m\n\u001b[0;32m      1\u001b[0m a\u001b[38;5;241m=\u001b[39m \u001b[38;5;124m\"\u001b[39m\u001b[38;5;124mhello world\u001b[39m\u001b[38;5;124m\"\u001b[39m\n\u001b[0;32m      2\u001b[0m b\u001b[38;5;241m=\u001b[39m[\u001b[38;5;241m10\u001b[39m,\u001b[38;5;241m20\u001b[39m]\n\u001b[1;32m----> 3\u001b[0m \u001b[38;5;28mprint\u001b[39m(a\u001b[38;5;241m+\u001b[39mb[\u001b[38;5;241m0\u001b[39m])\n",
      "\u001b[1;31mTypeError\u001b[0m: can only concatenate str (not \"int\") to str"
     ]
    }
   ],
   "source": [
    "a= \"hello world\"\n",
    "b=[10,20]\n",
    "print(a+b[0])"
   ]
  },
  {
   "cell_type": "markdown",
   "id": "16b7a56e",
   "metadata": {},
   "source": [
    "# SOME COMMON FUNCTIONS"
   ]
  },
  {
   "cell_type": "code",
   "execution_count": 29,
   "id": "168f6c46",
   "metadata": {},
   "outputs": [
    {
     "name": "stdout",
     "output_type": "stream",
     "text": [
      "HELLO WORLD\n"
     ]
    }
   ],
   "source": [
    "# UPPER\n",
    "a= \"hello world\"\n",
    "print(a.upper())"
   ]
  },
  {
   "cell_type": "code",
   "execution_count": 30,
   "id": "7b93a6d4",
   "metadata": {},
   "outputs": [
    {
     "data": {
      "text/plain": [
       "'hello world'"
      ]
     },
     "execution_count": 30,
     "metadata": {},
     "output_type": "execute_result"
    }
   ],
   "source": [
    "# lower\n",
    "a=\"HELLO WORLD\"\n",
    "a.lower()"
   ]
  },
  {
   "cell_type": "code",
   "execution_count": 31,
   "id": "d81487d1",
   "metadata": {},
   "outputs": [
    {
     "name": "stdout",
     "output_type": "stream",
     "text": [
      "hello world\n"
     ]
    }
   ],
   "source": [
    "# strip\n",
    "a= \"    hello world   \"\n",
    "print(a.strip())"
   ]
  },
  {
   "cell_type": "code",
   "execution_count": 32,
   "id": "5e2edff9",
   "metadata": {},
   "outputs": [
    {
     "data": {
      "text/plain": [
       "'pagal world'"
      ]
     },
     "execution_count": 32,
     "metadata": {},
     "output_type": "execute_result"
    }
   ],
   "source": [
    "# replace\n",
    "a= \"hello world\"\n",
    "a.replace(\"hello\",\"pagal\")"
   ]
  },
  {
   "cell_type": "markdown",
   "id": "32ea4eef",
   "metadata": {},
   "source": [
    "FORMATTING "
   ]
  },
  {
   "cell_type": "code",
   "execution_count": 36,
   "id": "a3270b57",
   "metadata": {},
   "outputs": [
    {
     "name": "stdout",
     "output_type": "stream",
     "text": [
      "My name is aman and i live in sant nagar\n"
     ]
    }
   ],
   "source": [
    "a=\"aman\"\n",
    "b=\"sant nagar\"\n",
    "print(f\"My name is {a} and i live in {b}\")"
   ]
  },
  {
   "cell_type": "markdown",
   "id": "aa594de3",
   "metadata": {},
   "source": [
    "# IN OPERATOR "
   ]
  },
  {
   "cell_type": "code",
   "execution_count": 40,
   "id": "816b7ed6",
   "metadata": {},
   "outputs": [
    {
     "data": {
      "text/plain": [
       "True"
      ]
     },
     "execution_count": 40,
     "metadata": {},
     "output_type": "execute_result"
    }
   ],
   "source": [
    "a=\"aman jha\"\n",
    "\"b\" in a\n",
    "\"a\" in a\n",
    "# in is known as membership operator "
   ]
  },
  {
   "cell_type": "markdown",
   "id": "68060f3b",
   "metadata": {},
   "source": [
    "# IS operator "
   ]
  },
  {
   "cell_type": "markdown",
   "id": "533e4e2b",
   "metadata": {},
   "source": [
    "is only checks the address not the value but in string and in integer its exception"
   ]
  },
  {
   "cell_type": "code",
   "execution_count": 41,
   "id": "e7ec3556",
   "metadata": {},
   "outputs": [
    {
     "data": {
      "text/plain": [
       "True"
      ]
     },
     "execution_count": 41,
     "metadata": {},
     "output_type": "execute_result"
    }
   ],
   "source": [
    "a=\"a\"\n",
    "b=\"a\"\n",
    "a is b\n"
   ]
  },
  {
   "cell_type": "code",
   "execution_count": 42,
   "id": "7be4442d",
   "metadata": {},
   "outputs": [
    {
     "data": {
      "text/plain": [
       "True"
      ]
     },
     "execution_count": 42,
     "metadata": {},
     "output_type": "execute_result"
    }
   ],
   "source": [
    "a=10\n",
    "b=10\n",
    "a is b"
   ]
  },
  {
   "cell_type": "code",
   "execution_count": 43,
   "id": "dcb75ba3",
   "metadata": {},
   "outputs": [
    {
     "data": {
      "text/plain": [
       "False"
      ]
     },
     "execution_count": 43,
     "metadata": {},
     "output_type": "execute_result"
    }
   ],
   "source": [
    "a=10.0\n",
    "b=10.0\n",
    "a is b"
   ]
  },
  {
   "cell_type": "code",
   "execution_count": 44,
   "id": "61003cd2",
   "metadata": {},
   "outputs": [
    {
     "data": {
      "text/plain": [
       "False"
      ]
     },
     "execution_count": 44,
     "metadata": {},
     "output_type": "execute_result"
    }
   ],
   "source": [
    "a=[10]\n",
    "b=[10]\n",
    "a is b"
   ]
  },
  {
   "cell_type": "code",
   "execution_count": 45,
   "id": "a89c0460",
   "metadata": {},
   "outputs": [
    {
     "data": {
      "text/plain": [
       "False"
      ]
     },
     "execution_count": 45,
     "metadata": {},
     "output_type": "execute_result"
    }
   ],
   "source": [
    "a=10,\n",
    "b=10,\n",
    "a is b"
   ]
  },
  {
   "cell_type": "code",
   "execution_count": 46,
   "id": "5b578d53",
   "metadata": {},
   "outputs": [
    {
     "data": {
      "text/plain": [
       "False"
      ]
     },
     "execution_count": 46,
     "metadata": {},
     "output_type": "execute_result"
    }
   ],
   "source": [
    "a={1:1}\n",
    "b={1:1}\n",
    "a is b"
   ]
  },
  {
   "cell_type": "markdown",
   "id": "97e0a9a3",
   "metadata": {},
   "source": [
    "# ESCAPE CHARACTERS IN STRING "
   ]
  },
  {
   "cell_type": "code",
   "execution_count": 50,
   "id": "08ba1db1",
   "metadata": {},
   "outputs": [
    {
     "name": "stdout",
     "output_type": "stream",
     "text": [
      "hello\"world\n"
     ]
    }
   ],
   "source": [
    "print(\"hello\"+\"\\\"\"+\"world\")"
   ]
  },
  {
   "cell_type": "code",
   "execution_count": 49,
   "id": "acce960e",
   "metadata": {},
   "outputs": [
    {
     "ename": "SyntaxError",
     "evalue": "unterminated string literal (detected at line 1) (1029235617.py, line 1)",
     "output_type": "error",
     "traceback": [
      "\u001b[1;36m  Cell \u001b[1;32mIn[49], line 1\u001b[1;36m\u001b[0m\n\u001b[1;33m    print(\"hello\"world\")\u001b[0m\n\u001b[1;37m                      ^\u001b[0m\n\u001b[1;31mSyntaxError\u001b[0m\u001b[1;31m:\u001b[0m unterminated string literal (detected at line 1)\n"
     ]
    }
   ],
   "source": [
    "print(\"hello\"world\")"
   ]
  },
  {
   "cell_type": "code",
   "execution_count": 51,
   "id": "730c84d9",
   "metadata": {},
   "outputs": [
    {
     "name": "stdout",
     "output_type": "stream",
     "text": [
      "hello\n",
      " aman jha\n"
     ]
    }
   ],
   "source": [
    "print(\"hello\\n aman jha\")\n",
    "# \\n newline escape sequence"
   ]
  },
  {
   "cell_type": "code",
   "execution_count": 52,
   "id": "41b9631c",
   "metadata": {},
   "outputs": [
    {
     "name": "stdout",
     "output_type": "stream",
     "text": [
      "Hello\r",
      "World!\n"
     ]
    }
   ],
   "source": [
    "txt = \"Hello\\rWorld!\"\n",
    "print(txt) "
   ]
  },
  {
   "cell_type": "code",
   "execution_count": 54,
   "id": "2b01674a",
   "metadata": {},
   "outputs": [
    {
     "name": "stdout",
     "output_type": "stream",
     "text": [
      "A\n"
     ]
    }
   ],
   "source": [
    "txt = \"\\101\"\n",
    "print(txt) "
   ]
  },
  {
   "cell_type": "code",
   "execution_count": 55,
   "id": "5ea755d6",
   "metadata": {},
   "outputs": [
    {
     "data": {
      "text/plain": [
       "['hello', 'world']"
      ]
     },
     "execution_count": 55,
     "metadata": {},
     "output_type": "execute_result"
    }
   ],
   "source": [
    "a= \"hello world\"\n",
    "a.split()"
   ]
  },
  {
   "cell_type": "code",
   "execution_count": 56,
   "id": "ceedae1f",
   "metadata": {},
   "outputs": [
    {
     "data": {
      "text/plain": [
       "True"
      ]
     },
     "execution_count": 56,
     "metadata": {},
     "output_type": "execute_result"
    }
   ],
   "source": [
    "a= \"hello world\"\n",
    "a.islower()"
   ]
  },
  {
   "cell_type": "code",
   "execution_count": 57,
   "id": "1b181f17",
   "metadata": {},
   "outputs": [
    {
     "data": {
      "text/plain": [
       "False"
      ]
     },
     "execution_count": 57,
     "metadata": {},
     "output_type": "execute_result"
    }
   ],
   "source": [
    "a= \"hello world\"\n",
    "a.isupper()"
   ]
  },
  {
   "cell_type": "markdown",
   "id": "3e528fb0",
   "metadata": {},
   "source": [
    "isalnum(),isspace(),isdigit()"
   ]
  },
  {
   "cell_type": "markdown",
   "id": "dc4f24f7",
   "metadata": {},
   "source": [
    "# q1 check whether the given string is palindrome or not "
   ]
  },
  {
   "cell_type": "markdown",
   "id": "1a49fb33",
   "metadata": {},
   "source": [
    "nitin = nitin (after reversing same string)"
   ]
  },
  {
   "cell_type": "code",
   "execution_count": 58,
   "id": "ec8e9226",
   "metadata": {},
   "outputs": [
    {
     "name": "stdout",
     "output_type": "stream",
     "text": [
      "Enter a string: nitin\n",
      "\"nitin\" is a palindrome.\n"
     ]
    }
   ],
   "source": [
    "string = input(\"Enter a string: \")\n",
    "string = string.lower().replace(\" \", \"\")\n",
    "start, end = 0, len(string) - 1\n",
    "\n",
    "palindrome = True\n",
    "while start < end:\n",
    "    if string[start] != string[end]:\n",
    "        is_palindrome = False\n",
    "        break\n",
    "    start += 1\n",
    "    end -= 1\n",
    "\n",
    "if palindrome:\n",
    "    print(f'\"{string}\" is a palindrome.')\n",
    "else:\n",
    "    print(f'\"{string}\" is not a palindrome.')"
   ]
  },
  {
   "cell_type": "markdown",
   "id": "61d17808",
   "metadata": {},
   "source": [
    "# Q1: Accept a string and display in reverse order.\n",
    "    str1 = input(\"Enter any string: \")\n",
    "    print(str1[::-1])\n",
    "\n",
    "# Q2: Write a program to accept a string and display it 20 times.\n",
    "    str2 = input(\"Enter any string: \")\n",
    "    for i in range(20):\n",
    "        print(str2)\n",
    "\n",
    "# Q3: Write a program to accept a string in Python and display the entire string in upper case.\n",
    "    str3 = input(\"Enter any string: \")\n",
    "    print(str3.upper())\n",
    "\n",
    "# Q4: Write a program to accept a string and display the last three characters of the string.\n",
    "    str4 = input(\"Enter any string: \")\n",
    "    print(str4[-3:])\n",
    "\n",
    "# Q5: Write a program to accept a string in Python and display the entire string in lower case.\n",
    "    str5 = input(\"Enter any string: \")\n",
    "    print(str5.lower())\n",
    "\n",
    "# Q6: Accept a string and display the entire string with the first and last characters in upper case.\n",
    "    str6 = input(\"Enter any string: \")\n",
    "    print(str6[0].upper() + str6[1:-1] + str6[-1].upper())\n",
    "\n",
    "# Q7: Write a program to accept a string and display the first three characters of the string.\n",
    "    str7 = input(\"Enter any string: \")\n",
    "    print(str7[:3])\n",
    "\n",
    "# Q8: Write a function in Python which accepts a string as an argument and displays the total number of vowels.\n",
    "    def count_vowels(s):\n",
    "        vowels = \"AEIOUaeiou\"\n",
    "        count = sum(1 for char in s if char in vowels)\n",
    "        print(f\"Total number of vowels are: {count}\")\n",
    "\n",
    "    str8 = input(\"Enter any string: \")\n",
    "    count_vowels(str8)\n"
   ]
  },
  {
   "cell_type": "markdown",
   "id": "5e9409c3",
   "metadata": {},
   "source": [
    "# Q9: Write a function in Python which accepts a string as an argument and displays the total number of lowercase characters.\n",
    "    def lowercount(str):\n",
    "    l = 0\n",
    "    for i in range(len(str)):\n",
    "        if str[i].islower():\n",
    "            l += 1\n",
    "    print(f\"Total number of lowercase characters are: {l}\")\n",
    "\n",
    "# Example usage\n",
    "    str9 = input(\"Enter any string: \")\n",
    "    lowercount(str9)\n",
    "\n",
    "# Q10: Write a function in Python which accepts a string as an argument and displays the total number of digits.\n",
    "    def digitcount(str):\n",
    "        d = 0\n",
    "        for i in range(len(str)):\n",
    "            if str[i].isdigit():\n",
    "                d += 1\n",
    "        print(f\"Total number of digits are: {d}\")\n",
    "\n",
    "# Example usage\n",
    "    str10 = input(\"Enter any string: \")\n",
    "    digitcount(str10)\n"
   ]
  }
 ],
 "metadata": {
  "kernelspec": {
   "display_name": "Python 3 (ipykernel)",
   "language": "python",
   "name": "python3"
  },
  "language_info": {
   "codemirror_mode": {
    "name": "ipython",
    "version": 3
   },
   "file_extension": ".py",
   "mimetype": "text/x-python",
   "name": "python",
   "nbconvert_exporter": "python",
   "pygments_lexer": "ipython3",
   "version": "3.11.5"
  }
 },
 "nbformat": 4,
 "nbformat_minor": 5
}
