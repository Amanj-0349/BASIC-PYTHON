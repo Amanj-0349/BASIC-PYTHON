{
 "cells": [
  {
   "cell_type": "code",
   "execution_count": 1,
   "id": "b0cfd5f6",
   "metadata": {},
   "outputs": [],
   "source": [
    "import pandas as pd "
   ]
  },
  {
   "cell_type": "code",
   "execution_count": 2,
   "id": "c5f31f4f",
   "metadata": {},
   "outputs": [],
   "source": [
    "people = {\n",
    "    'first':['aman','aditya','kajal'],\n",
    "    'last':['jha','kumar','jha'],\n",
    "    'email':['amanj0349@gmail.com','aditya564@gmail.com','kjjha@gmail.com']\n",
    "}"
   ]
  },
  {
   "cell_type": "code",
   "execution_count": 3,
   "id": "a7c0a752",
   "metadata": {},
   "outputs": [],
   "source": [
    "df= pd.DataFrame(people)"
   ]
  },
  {
   "cell_type": "code",
   "execution_count": 4,
   "id": "b780dcfc",
   "metadata": {},
   "outputs": [
    {
     "data": {
      "text/html": [
       "<div>\n",
       "<style scoped>\n",
       "    .dataframe tbody tr th:only-of-type {\n",
       "        vertical-align: middle;\n",
       "    }\n",
       "\n",
       "    .dataframe tbody tr th {\n",
       "        vertical-align: top;\n",
       "    }\n",
       "\n",
       "    .dataframe thead th {\n",
       "        text-align: right;\n",
       "    }\n",
       "</style>\n",
       "<table border=\"1\" class=\"dataframe\">\n",
       "  <thead>\n",
       "    <tr style=\"text-align: right;\">\n",
       "      <th></th>\n",
       "      <th>first</th>\n",
       "      <th>last</th>\n",
       "      <th>email</th>\n",
       "    </tr>\n",
       "  </thead>\n",
       "  <tbody>\n",
       "    <tr>\n",
       "      <th>0</th>\n",
       "      <td>aman</td>\n",
       "      <td>jha</td>\n",
       "      <td>amanj0349@gmail.com</td>\n",
       "    </tr>\n",
       "    <tr>\n",
       "      <th>1</th>\n",
       "      <td>aditya</td>\n",
       "      <td>kumar</td>\n",
       "      <td>aditya564@gmail.com</td>\n",
       "    </tr>\n",
       "    <tr>\n",
       "      <th>2</th>\n",
       "      <td>kajal</td>\n",
       "      <td>jha</td>\n",
       "      <td>kjjha@gmail.com</td>\n",
       "    </tr>\n",
       "  </tbody>\n",
       "</table>\n",
       "</div>"
      ],
      "text/plain": [
       "    first   last                email\n",
       "0    aman    jha  amanj0349@gmail.com\n",
       "1  aditya  kumar  aditya564@gmail.com\n",
       "2   kajal    jha      kjjha@gmail.com"
      ]
     },
     "execution_count": 4,
     "metadata": {},
     "output_type": "execute_result"
    }
   ],
   "source": [
    "df"
   ]
  },
  {
   "cell_type": "code",
   "execution_count": 5,
   "id": "852174ad",
   "metadata": {},
   "outputs": [
    {
     "data": {
      "text/plain": [
       "0     True\n",
       "1    False\n",
       "2     True\n",
       "Name: last, dtype: bool"
      ]
     },
     "execution_count": 5,
     "metadata": {},
     "output_type": "execute_result"
    }
   ],
   "source": [
    "df['last'] == 'jha'"
   ]
  },
  {
   "cell_type": "code",
   "execution_count": 6,
   "id": "3febc6b7",
   "metadata": {},
   "outputs": [],
   "source": [
    "# creating a filter column \n",
    "filt = df['last']=='jha'"
   ]
  },
  {
   "cell_type": "code",
   "execution_count": 7,
   "id": "edc709b9",
   "metadata": {},
   "outputs": [
    {
     "data": {
      "text/html": [
       "<div>\n",
       "<style scoped>\n",
       "    .dataframe tbody tr th:only-of-type {\n",
       "        vertical-align: middle;\n",
       "    }\n",
       "\n",
       "    .dataframe tbody tr th {\n",
       "        vertical-align: top;\n",
       "    }\n",
       "\n",
       "    .dataframe thead th {\n",
       "        text-align: right;\n",
       "    }\n",
       "</style>\n",
       "<table border=\"1\" class=\"dataframe\">\n",
       "  <thead>\n",
       "    <tr style=\"text-align: right;\">\n",
       "      <th></th>\n",
       "      <th>first</th>\n",
       "      <th>last</th>\n",
       "      <th>email</th>\n",
       "    </tr>\n",
       "  </thead>\n",
       "  <tbody>\n",
       "    <tr>\n",
       "      <th>0</th>\n",
       "      <td>aman</td>\n",
       "      <td>jha</td>\n",
       "      <td>amanj0349@gmail.com</td>\n",
       "    </tr>\n",
       "    <tr>\n",
       "      <th>2</th>\n",
       "      <td>kajal</td>\n",
       "      <td>jha</td>\n",
       "      <td>kjjha@gmail.com</td>\n",
       "    </tr>\n",
       "  </tbody>\n",
       "</table>\n",
       "</div>"
      ],
      "text/plain": [
       "   first last                email\n",
       "0   aman  jha  amanj0349@gmail.com\n",
       "2  kajal  jha      kjjha@gmail.com"
      ]
     },
     "execution_count": 7,
     "metadata": {},
     "output_type": "execute_result"
    }
   ],
   "source": [
    "df[filt]"
   ]
  },
  {
   "cell_type": "code",
   "execution_count": 10,
   "id": "334980e7",
   "metadata": {},
   "outputs": [
    {
     "data": {
      "text/html": [
       "<div>\n",
       "<style scoped>\n",
       "    .dataframe tbody tr th:only-of-type {\n",
       "        vertical-align: middle;\n",
       "    }\n",
       "\n",
       "    .dataframe tbody tr th {\n",
       "        vertical-align: top;\n",
       "    }\n",
       "\n",
       "    .dataframe thead th {\n",
       "        text-align: right;\n",
       "    }\n",
       "</style>\n",
       "<table border=\"1\" class=\"dataframe\">\n",
       "  <thead>\n",
       "    <tr style=\"text-align: right;\">\n",
       "      <th></th>\n",
       "      <th>first</th>\n",
       "      <th>last</th>\n",
       "      <th>email</th>\n",
       "    </tr>\n",
       "  </thead>\n",
       "  <tbody>\n",
       "    <tr>\n",
       "      <th>0</th>\n",
       "      <td>aman</td>\n",
       "      <td>jha</td>\n",
       "      <td>amanj0349@gmail.com</td>\n",
       "    </tr>\n",
       "    <tr>\n",
       "      <th>2</th>\n",
       "      <td>kajal</td>\n",
       "      <td>jha</td>\n",
       "      <td>kjjha@gmail.com</td>\n",
       "    </tr>\n",
       "  </tbody>\n",
       "</table>\n",
       "</div>"
      ],
      "text/plain": [
       "   first last                email\n",
       "0   aman  jha  amanj0349@gmail.com\n",
       "2  kajal  jha      kjjha@gmail.com"
      ]
     },
     "execution_count": 10,
     "metadata": {},
     "output_type": "execute_result"
    }
   ],
   "source": [
    "# we can also do it like by directly?\n",
    "df[df['last']=='jha']"
   ]
  },
  {
   "cell_type": "code",
   "execution_count": 11,
   "id": "a90b2097",
   "metadata": {},
   "outputs": [
    {
     "data": {
      "text/html": [
       "<div>\n",
       "<style scoped>\n",
       "    .dataframe tbody tr th:only-of-type {\n",
       "        vertical-align: middle;\n",
       "    }\n",
       "\n",
       "    .dataframe tbody tr th {\n",
       "        vertical-align: top;\n",
       "    }\n",
       "\n",
       "    .dataframe thead th {\n",
       "        text-align: right;\n",
       "    }\n",
       "</style>\n",
       "<table border=\"1\" class=\"dataframe\">\n",
       "  <thead>\n",
       "    <tr style=\"text-align: right;\">\n",
       "      <th></th>\n",
       "      <th>first</th>\n",
       "      <th>last</th>\n",
       "      <th>email</th>\n",
       "    </tr>\n",
       "  </thead>\n",
       "  <tbody>\n",
       "    <tr>\n",
       "      <th>0</th>\n",
       "      <td>aman</td>\n",
       "      <td>jha</td>\n",
       "      <td>amanj0349@gmail.com</td>\n",
       "    </tr>\n",
       "    <tr>\n",
       "      <th>1</th>\n",
       "      <td>aditya</td>\n",
       "      <td>kumar</td>\n",
       "      <td>aditya564@gmail.com</td>\n",
       "    </tr>\n",
       "    <tr>\n",
       "      <th>2</th>\n",
       "      <td>kajal</td>\n",
       "      <td>jha</td>\n",
       "      <td>kjjha@gmail.com</td>\n",
       "    </tr>\n",
       "  </tbody>\n",
       "</table>\n",
       "</div>"
      ],
      "text/plain": [
       "    first   last                email\n",
       "0    aman    jha  amanj0349@gmail.com\n",
       "1  aditya  kumar  aditya564@gmail.com\n",
       "2   kajal    jha      kjjha@gmail.com"
      ]
     },
     "execution_count": 11,
     "metadata": {},
     "output_type": "execute_result"
    }
   ],
   "source": [
    "df"
   ]
  },
  {
   "cell_type": "code",
   "execution_count": 14,
   "id": "80351e42",
   "metadata": {},
   "outputs": [
    {
     "data": {
      "text/plain": [
       "0    amanj0349@gmail.com\n",
       "2        kjjha@gmail.com\n",
       "Name: email, dtype: object"
      ]
     },
     "execution_count": 14,
     "metadata": {},
     "output_type": "execute_result"
    }
   ],
   "source": [
    "# using loc is good bcz we can get any value using it \n",
    "df.loc[filt , 'email']"
   ]
  },
  {
   "cell_type": "code",
   "execution_count": 35,
   "id": "dc315f4d",
   "metadata": {},
   "outputs": [],
   "source": [
    "df = pd.read_csv('survey_results_public.csv', index_col = 'ResponseId')\n",
    "schema= pd.read_csv('survey_results_schema.csv' , index_col = 'qid')"
   ]
  },
  {
   "cell_type": "code",
   "execution_count": 26,
   "id": "9d16be74",
   "metadata": {},
   "outputs": [],
   "source": [
    "pd.set_option('display.max_columns', 84)\n",
    "pd.set_option('display.max_rows',84)"
   ]
  },
  {
   "cell_type": "code",
   "execution_count": 44,
   "id": "597f7a87",
   "metadata": {},
   "outputs": [
    {
     "data": {
      "text/plain": [
       "ResponseId\n",
       "34588    United States of America\n",
       "63332                     Ukraine\n",
       "44871                     Ecuador\n",
       "2959                       France\n",
       "31893                     Germany\n",
       "Name: Country, dtype: object"
      ]
     },
     "execution_count": 44,
     "metadata": {},
     "output_type": "execute_result"
    }
   ],
   "source": [
    "df['Country'].sample(5)"
   ]
  },
  {
   "cell_type": "code",
   "execution_count": 46,
   "id": "11a23227",
   "metadata": {},
   "outputs": [],
   "source": [
    "countries = ['United States of America','Ukraine','France','Germany']\n",
    "filt = df['Country'].isin(countries)"
   ]
  },
  {
   "cell_type": "code",
   "execution_count": 47,
   "id": "867af90b",
   "metadata": {},
   "outputs": [
    {
     "data": {
      "text/plain": [
       "ResponseId\n",
       "2        United States of America\n",
       "3        United States of America\n",
       "4        United States of America\n",
       "7        United States of America\n",
       "8        United States of America\n",
       "                   ...           \n",
       "89157    United States of America\n",
       "89169                      France\n",
       "89171                      France\n",
       "89176    United States of America\n",
       "89179    United States of America\n",
       "Name: Country, Length: 29781, dtype: object"
      ]
     },
     "execution_count": 47,
     "metadata": {},
     "output_type": "execute_result"
    }
   ],
   "source": [
    "df.loc[filt,'Country']"
   ]
  },
  {
   "cell_type": "code",
   "execution_count": 53,
   "id": "6ea41fe2",
   "metadata": {},
   "outputs": [
    {
     "data": {
      "text/plain": [
       "ResponseId\n",
       "27391                  C#;JavaScript;Python;SQL;TypeScript\n",
       "49296    Bash/Shell (all shells);Go;HTML/CSS;JavaScript...\n",
       "69903                                Lua;Python;TypeScript\n",
       "65684                                           Python;SQL\n",
       "66844    Bash/Shell (all shells);C;C++;HTML/CSS;JavaScr...\n",
       "Name: LanguageHaveWorkedWith, dtype: object"
      ]
     },
     "execution_count": 53,
     "metadata": {},
     "output_type": "execute_result"
    }
   ],
   "source": [
    "# another filter using str \n",
    "filt = df['LanguageHaveWorkedWith'].str.contains('Python',na =False)\n",
    "df.loc[filt,'LanguageHaveWorkedWith'].sample(5)"
   ]
  },
  {
   "cell_type": "code",
   "execution_count": 54,
   "id": "f093ddc5",
   "metadata": {},
   "outputs": [],
   "source": [
    "# basically filter will gives us boolean values and then by applying \n",
    "# conditions we can seprate the data and then using loc we can get the data \n",
    "# we want ."
   ]
  },
  {
   "cell_type": "code",
   "execution_count": null,
   "id": "725e93b9",
   "metadata": {},
   "outputs": [],
   "source": []
  }
 ],
 "metadata": {
  "kernelspec": {
   "display_name": "Python 3 (ipykernel)",
   "language": "python",
   "name": "python3"
  },
  "language_info": {
   "codemirror_mode": {
    "name": "ipython",
    "version": 3
   },
   "file_extension": ".py",
   "mimetype": "text/x-python",
   "name": "python",
   "nbconvert_exporter": "python",
   "pygments_lexer": "ipython3",
   "version": "3.11.5"
  }
 },
 "nbformat": 4,
 "nbformat_minor": 5
}
